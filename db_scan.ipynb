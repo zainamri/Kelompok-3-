{
  "nbformat": 4,
  "nbformat_minor": 0,
  "metadata": {
    "colab": {
      "provenance": [],
      "include_colab_link": true
    },
    "kernelspec": {
      "name": "python3",
      "display_name": "Python 3"
    },
    "language_info": {
      "name": "python"
    }
  },
  "cells": [
    {
      "cell_type": "markdown",
      "metadata": {
        "id": "view-in-github",
        "colab_type": "text"
      },
      "source": [
        "<a href=\"https://colab.research.google.com/github/zainamri/Kelompok-3-/blob/main/db_scan.ipynb\" target=\"_parent\"><img src=\"https://colab.research.google.com/assets/colab-badge.svg\" alt=\"Open In Colab\"/></a>"
      ]
    },
    {
      "cell_type": "code",
      "source": [
        "# Mengimpor pustaka yang diperlukan\n",
        "import numpy as np  # aljabar linier\n",
        "import pandas as pd  # pemrosesan data, file CSV I/O (misalnya pd.read_csv)\n",
        "import os  # untuk operasi sistem\n",
        "\n",
        "# Mengimpor pustaka dari scikit-learn\n",
        "from sklearn.preprocessing import MinMaxScaler, LabelEncoder\n",
        "from sklearn.metrics import silhouette_score\n",
        "from sklearn.metrics.pairwise import rbf_kernel\n",
        "from sklearn.cluster import KMeans\n",
        "from sklearn.decomposition import PCA\n",
        "from scipy.stats import kurtosis\n",
        "import matplotlib.pyplot as plt"
      ],
      "metadata": {
        "id": "muX2AysNrenN"
      },
      "execution_count": null,
      "outputs": []
    },
    {
      "cell_type": "code",
      "source": [
        "# Menghubungkan Google Drive\n",
        "from google.colab import drive\n",
        "drive.mount('/content/drive')"
      ],
      "metadata": {
        "colab": {
          "base_uri": "https://localhost:8080/"
        },
        "id": "ckf0gaearhGw",
        "outputId": "cb574207-2621-4db6-d6cd-cb94991cc319"
      },
      "execution_count": null,
      "outputs": [
        {
          "output_type": "stream",
          "name": "stdout",
          "text": [
            "Drive already mounted at /content/drive; to attempt to forcibly remount, call drive.mount(\"/content/drive\", force_remount=True).\n"
          ]
        }
      ]
    },
    {
      "cell_type": "markdown",
      "source": [
        "# Langkah 1: Memuat Dataset  "
      ],
      "metadata": {
        "id": "SyeMROLZs1Rv"
      }
    },
    {
      "cell_type": "code",
      "source": [
        "# Akses dataset\n",
        "file_path = ('/content/drive/MyDrive/awikwok/Mall_Customers.csv')\n",
        "data = pd.read_csv(file_path)\n",
        "X = data.drop(\"CustomerID\", axis=1)\n",
        "\n",
        "# Menampilkan beberapa baris pertama dari dataset\n",
        "data.head()"
      ],
      "metadata": {
        "colab": {
          "base_uri": "https://localhost:8080/",
          "height": 206
        },
        "id": "omtYEu1TsZlk",
        "outputId": "0fba8929-6490-4ff7-b61d-77da0a2e0a0a"
      },
      "execution_count": null,
      "outputs": [
        {
          "output_type": "execute_result",
          "data": {
            "text/plain": [
              "   CustomerID   Genre  Age  Annual Income (k$)  Spending Score (1-100)\n",
              "0           1    Male   19                  15                      39\n",
              "1           2    Male   21                  15                      81\n",
              "2           3  Female   20                  16                       6\n",
              "3           4  Female   23                  16                      77\n",
              "4           5  Female   31                  17                      40"
            ],
            "text/html": [
              "\n",
              "  <div id=\"df-67dfbdf7-b8b8-45c3-92e2-9dd75cf35002\" class=\"colab-df-container\">\n",
              "    <div>\n",
              "<style scoped>\n",
              "    .dataframe tbody tr th:only-of-type {\n",
              "        vertical-align: middle;\n",
              "    }\n",
              "\n",
              "    .dataframe tbody tr th {\n",
              "        vertical-align: top;\n",
              "    }\n",
              "\n",
              "    .dataframe thead th {\n",
              "        text-align: right;\n",
              "    }\n",
              "</style>\n",
              "<table border=\"1\" class=\"dataframe\">\n",
              "  <thead>\n",
              "    <tr style=\"text-align: right;\">\n",
              "      <th></th>\n",
              "      <th>CustomerID</th>\n",
              "      <th>Genre</th>\n",
              "      <th>Age</th>\n",
              "      <th>Annual Income (k$)</th>\n",
              "      <th>Spending Score (1-100)</th>\n",
              "    </tr>\n",
              "  </thead>\n",
              "  <tbody>\n",
              "    <tr>\n",
              "      <th>0</th>\n",
              "      <td>1</td>\n",
              "      <td>Male</td>\n",
              "      <td>19</td>\n",
              "      <td>15</td>\n",
              "      <td>39</td>\n",
              "    </tr>\n",
              "    <tr>\n",
              "      <th>1</th>\n",
              "      <td>2</td>\n",
              "      <td>Male</td>\n",
              "      <td>21</td>\n",
              "      <td>15</td>\n",
              "      <td>81</td>\n",
              "    </tr>\n",
              "    <tr>\n",
              "      <th>2</th>\n",
              "      <td>3</td>\n",
              "      <td>Female</td>\n",
              "      <td>20</td>\n",
              "      <td>16</td>\n",
              "      <td>6</td>\n",
              "    </tr>\n",
              "    <tr>\n",
              "      <th>3</th>\n",
              "      <td>4</td>\n",
              "      <td>Female</td>\n",
              "      <td>23</td>\n",
              "      <td>16</td>\n",
              "      <td>77</td>\n",
              "    </tr>\n",
              "    <tr>\n",
              "      <th>4</th>\n",
              "      <td>5</td>\n",
              "      <td>Female</td>\n",
              "      <td>31</td>\n",
              "      <td>17</td>\n",
              "      <td>40</td>\n",
              "    </tr>\n",
              "  </tbody>\n",
              "</table>\n",
              "</div>\n",
              "    <div class=\"colab-df-buttons\">\n",
              "\n",
              "  <div class=\"colab-df-container\">\n",
              "    <button class=\"colab-df-convert\" onclick=\"convertToInteractive('df-67dfbdf7-b8b8-45c3-92e2-9dd75cf35002')\"\n",
              "            title=\"Convert this dataframe to an interactive table.\"\n",
              "            style=\"display:none;\">\n",
              "\n",
              "  <svg xmlns=\"http://www.w3.org/2000/svg\" height=\"24px\" viewBox=\"0 -960 960 960\">\n",
              "    <path d=\"M120-120v-720h720v720H120Zm60-500h600v-160H180v160Zm220 220h160v-160H400v160Zm0 220h160v-160H400v160ZM180-400h160v-160H180v160Zm440 0h160v-160H620v160ZM180-180h160v-160H180v160Zm440 0h160v-160H620v160Z\"/>\n",
              "  </svg>\n",
              "    </button>\n",
              "\n",
              "  <style>\n",
              "    .colab-df-container {\n",
              "      display:flex;\n",
              "      gap: 12px;\n",
              "    }\n",
              "\n",
              "    .colab-df-convert {\n",
              "      background-color: #E8F0FE;\n",
              "      border: none;\n",
              "      border-radius: 50%;\n",
              "      cursor: pointer;\n",
              "      display: none;\n",
              "      fill: #1967D2;\n",
              "      height: 32px;\n",
              "      padding: 0 0 0 0;\n",
              "      width: 32px;\n",
              "    }\n",
              "\n",
              "    .colab-df-convert:hover {\n",
              "      background-color: #E2EBFA;\n",
              "      box-shadow: 0px 1px 2px rgba(60, 64, 67, 0.3), 0px 1px 3px 1px rgba(60, 64, 67, 0.15);\n",
              "      fill: #174EA6;\n",
              "    }\n",
              "\n",
              "    .colab-df-buttons div {\n",
              "      margin-bottom: 4px;\n",
              "    }\n",
              "\n",
              "    [theme=dark] .colab-df-convert {\n",
              "      background-color: #3B4455;\n",
              "      fill: #D2E3FC;\n",
              "    }\n",
              "\n",
              "    [theme=dark] .colab-df-convert:hover {\n",
              "      background-color: #434B5C;\n",
              "      box-shadow: 0px 1px 3px 1px rgba(0, 0, 0, 0.15);\n",
              "      filter: drop-shadow(0px 1px 2px rgba(0, 0, 0, 0.3));\n",
              "      fill: #FFFFFF;\n",
              "    }\n",
              "  </style>\n",
              "\n",
              "    <script>\n",
              "      const buttonEl =\n",
              "        document.querySelector('#df-67dfbdf7-b8b8-45c3-92e2-9dd75cf35002 button.colab-df-convert');\n",
              "      buttonEl.style.display =\n",
              "        google.colab.kernel.accessAllowed ? 'block' : 'none';\n",
              "\n",
              "      async function convertToInteractive(key) {\n",
              "        const element = document.querySelector('#df-67dfbdf7-b8b8-45c3-92e2-9dd75cf35002');\n",
              "        const dataTable =\n",
              "          await google.colab.kernel.invokeFunction('convertToInteractive',\n",
              "                                                    [key], {});\n",
              "        if (!dataTable) return;\n",
              "\n",
              "        const docLinkHtml = 'Like what you see? Visit the ' +\n",
              "          '<a target=\"_blank\" href=https://colab.research.google.com/notebooks/data_table.ipynb>data table notebook</a>'\n",
              "          + ' to learn more about interactive tables.';\n",
              "        element.innerHTML = '';\n",
              "        dataTable['output_type'] = 'display_data';\n",
              "        await google.colab.output.renderOutput(dataTable, element);\n",
              "        const docLink = document.createElement('div');\n",
              "        docLink.innerHTML = docLinkHtml;\n",
              "        element.appendChild(docLink);\n",
              "      }\n",
              "    </script>\n",
              "  </div>\n",
              "\n",
              "\n",
              "<div id=\"df-f733bca3-5d3b-48d8-b1f6-9e88da79609d\">\n",
              "  <button class=\"colab-df-quickchart\" onclick=\"quickchart('df-f733bca3-5d3b-48d8-b1f6-9e88da79609d')\"\n",
              "            title=\"Suggest charts\"\n",
              "            style=\"display:none;\">\n",
              "\n",
              "<svg xmlns=\"http://www.w3.org/2000/svg\" height=\"24px\"viewBox=\"0 0 24 24\"\n",
              "     width=\"24px\">\n",
              "    <g>\n",
              "        <path d=\"M19 3H5c-1.1 0-2 .9-2 2v14c0 1.1.9 2 2 2h14c1.1 0 2-.9 2-2V5c0-1.1-.9-2-2-2zM9 17H7v-7h2v7zm4 0h-2V7h2v10zm4 0h-2v-4h2v4z\"/>\n",
              "    </g>\n",
              "</svg>\n",
              "  </button>\n",
              "\n",
              "<style>\n",
              "  .colab-df-quickchart {\n",
              "      --bg-color: #E8F0FE;\n",
              "      --fill-color: #1967D2;\n",
              "      --hover-bg-color: #E2EBFA;\n",
              "      --hover-fill-color: #174EA6;\n",
              "      --disabled-fill-color: #AAA;\n",
              "      --disabled-bg-color: #DDD;\n",
              "  }\n",
              "\n",
              "  [theme=dark] .colab-df-quickchart {\n",
              "      --bg-color: #3B4455;\n",
              "      --fill-color: #D2E3FC;\n",
              "      --hover-bg-color: #434B5C;\n",
              "      --hover-fill-color: #FFFFFF;\n",
              "      --disabled-bg-color: #3B4455;\n",
              "      --disabled-fill-color: #666;\n",
              "  }\n",
              "\n",
              "  .colab-df-quickchart {\n",
              "    background-color: var(--bg-color);\n",
              "    border: none;\n",
              "    border-radius: 50%;\n",
              "    cursor: pointer;\n",
              "    display: none;\n",
              "    fill: var(--fill-color);\n",
              "    height: 32px;\n",
              "    padding: 0;\n",
              "    width: 32px;\n",
              "  }\n",
              "\n",
              "  .colab-df-quickchart:hover {\n",
              "    background-color: var(--hover-bg-color);\n",
              "    box-shadow: 0 1px 2px rgba(60, 64, 67, 0.3), 0 1px 3px 1px rgba(60, 64, 67, 0.15);\n",
              "    fill: var(--button-hover-fill-color);\n",
              "  }\n",
              "\n",
              "  .colab-df-quickchart-complete:disabled,\n",
              "  .colab-df-quickchart-complete:disabled:hover {\n",
              "    background-color: var(--disabled-bg-color);\n",
              "    fill: var(--disabled-fill-color);\n",
              "    box-shadow: none;\n",
              "  }\n",
              "\n",
              "  .colab-df-spinner {\n",
              "    border: 2px solid var(--fill-color);\n",
              "    border-color: transparent;\n",
              "    border-bottom-color: var(--fill-color);\n",
              "    animation:\n",
              "      spin 1s steps(1) infinite;\n",
              "  }\n",
              "\n",
              "  @keyframes spin {\n",
              "    0% {\n",
              "      border-color: transparent;\n",
              "      border-bottom-color: var(--fill-color);\n",
              "      border-left-color: var(--fill-color);\n",
              "    }\n",
              "    20% {\n",
              "      border-color: transparent;\n",
              "      border-left-color: var(--fill-color);\n",
              "      border-top-color: var(--fill-color);\n",
              "    }\n",
              "    30% {\n",
              "      border-color: transparent;\n",
              "      border-left-color: var(--fill-color);\n",
              "      border-top-color: var(--fill-color);\n",
              "      border-right-color: var(--fill-color);\n",
              "    }\n",
              "    40% {\n",
              "      border-color: transparent;\n",
              "      border-right-color: var(--fill-color);\n",
              "      border-top-color: var(--fill-color);\n",
              "    }\n",
              "    60% {\n",
              "      border-color: transparent;\n",
              "      border-right-color: var(--fill-color);\n",
              "    }\n",
              "    80% {\n",
              "      border-color: transparent;\n",
              "      border-right-color: var(--fill-color);\n",
              "      border-bottom-color: var(--fill-color);\n",
              "    }\n",
              "    90% {\n",
              "      border-color: transparent;\n",
              "      border-bottom-color: var(--fill-color);\n",
              "    }\n",
              "  }\n",
              "</style>\n",
              "\n",
              "  <script>\n",
              "    async function quickchart(key) {\n",
              "      const quickchartButtonEl =\n",
              "        document.querySelector('#' + key + ' button');\n",
              "      quickchartButtonEl.disabled = true;  // To prevent multiple clicks.\n",
              "      quickchartButtonEl.classList.add('colab-df-spinner');\n",
              "      try {\n",
              "        const charts = await google.colab.kernel.invokeFunction(\n",
              "            'suggestCharts', [key], {});\n",
              "      } catch (error) {\n",
              "        console.error('Error during call to suggestCharts:', error);\n",
              "      }\n",
              "      quickchartButtonEl.classList.remove('colab-df-spinner');\n",
              "      quickchartButtonEl.classList.add('colab-df-quickchart-complete');\n",
              "    }\n",
              "    (() => {\n",
              "      let quickchartButtonEl =\n",
              "        document.querySelector('#df-f733bca3-5d3b-48d8-b1f6-9e88da79609d button');\n",
              "      quickchartButtonEl.style.display =\n",
              "        google.colab.kernel.accessAllowed ? 'block' : 'none';\n",
              "    })();\n",
              "  </script>\n",
              "</div>\n",
              "\n",
              "    </div>\n",
              "  </div>\n"
            ],
            "application/vnd.google.colaboratory.intrinsic+json": {
              "type": "dataframe",
              "variable_name": "data",
              "summary": "{\n  \"name\": \"data\",\n  \"rows\": 200,\n  \"fields\": [\n    {\n      \"column\": \"CustomerID\",\n      \"properties\": {\n        \"dtype\": \"number\",\n        \"std\": 57,\n        \"min\": 1,\n        \"max\": 200,\n        \"num_unique_values\": 200,\n        \"samples\": [\n          96,\n          16,\n          31\n        ],\n        \"semantic_type\": \"\",\n        \"description\": \"\"\n      }\n    },\n    {\n      \"column\": \"Genre\",\n      \"properties\": {\n        \"dtype\": \"category\",\n        \"num_unique_values\": 2,\n        \"samples\": [\n          \"Female\",\n          \"Male\"\n        ],\n        \"semantic_type\": \"\",\n        \"description\": \"\"\n      }\n    },\n    {\n      \"column\": \"Age\",\n      \"properties\": {\n        \"dtype\": \"number\",\n        \"std\": 13,\n        \"min\": 18,\n        \"max\": 70,\n        \"num_unique_values\": 51,\n        \"samples\": [\n          55,\n          26\n        ],\n        \"semantic_type\": \"\",\n        \"description\": \"\"\n      }\n    },\n    {\n      \"column\": \"Annual Income (k$)\",\n      \"properties\": {\n        \"dtype\": \"number\",\n        \"std\": 26,\n        \"min\": 15,\n        \"max\": 137,\n        \"num_unique_values\": 64,\n        \"samples\": [\n          87,\n          101\n        ],\n        \"semantic_type\": \"\",\n        \"description\": \"\"\n      }\n    },\n    {\n      \"column\": \"Spending Score (1-100)\",\n      \"properties\": {\n        \"dtype\": \"number\",\n        \"std\": 25,\n        \"min\": 1,\n        \"max\": 99,\n        \"num_unique_values\": 84,\n        \"samples\": [\n          83,\n          39\n        ],\n        \"semantic_type\": \"\",\n        \"description\": \"\"\n      }\n    }\n  ]\n}"
            }
          },
          "metadata": {},
          "execution_count": 53
        }
      ]
    },
    {
      "cell_type": "markdown",
      "source": [
        "# Langkah 2: Mengkodekan Variabel Kategorikal"
      ],
      "metadata": {
        "id": "jMv3TCuJs2lA"
      }
    },
    {
      "cell_type": "code",
      "source": [
        "# Mengkodekan variabel kategorikal\n",
        "le = LabelEncoder()\n",
        "X[\"Genre\"] = le.fit_transform(X[\"Genre\"])"
      ],
      "metadata": {
        "id": "uNIQgLZysl1k"
      },
      "execution_count": null,
      "outputs": []
    },
    {
      "cell_type": "markdown",
      "source": [
        "# Langkah 3: Mengatur Skala Fitur"
      ],
      "metadata": {
        "id": "sRtbNdi5s7Nw"
      }
    },
    {
      "cell_type": "code",
      "source": [
        "# Mengatur skala fitur\n",
        "scaler = MinMaxScaler()\n",
        "X_scaled = scaler.fit_transform(X)"
      ],
      "metadata": {
        "id": "FGXU6x_ss9L5"
      },
      "execution_count": null,
      "outputs": []
    },
    {
      "cell_type": "markdown",
      "source": [
        "# Langkah 4: Menghitung Bobot Fitur Komposit"
      ],
      "metadata": {
        "id": "YujNLh3Ys_iB"
      }
    },
    {
      "cell_type": "code",
      "source": [
        "# Menghitung bobot fitur komposit berdasarkan varians dan kurtosis\n",
        "feature_variances = np.var(X_scaled, axis=0)\n",
        "feature_kurtosis = np.abs(kurtosis(X_scaled, axis=0))\n",
        "\n",
        "# Normalisasi bobot\n",
        "normalized_variances = feature_variances / np.sum(feature_variances)\n",
        "normalized_kurtosis = feature_kurtosis / np.sum(feature_kurtosis)\n",
        "\n",
        "# Menghitung bobot komposit\n",
        "composite_weights = normalized_variances * normalized_kurtosis\n",
        "normalized_composite_weights = composite_weights / np.sum(composite_weights)"
      ],
      "metadata": {
        "id": "3rM1-RcctBfP"
      },
      "execution_count": null,
      "outputs": []
    },
    {
      "cell_type": "markdown",
      "source": [
        "# Langkah 5: Menerapkan Pembobotan Fitur  "
      ],
      "metadata": {
        "id": "eOBMmV07tFUe"
      }
    },
    {
      "cell_type": "code",
      "source": [
        "# Menerapkan pembobotan fitur\n",
        "X_weighted = X_scaled * normalized_composite_weights"
      ],
      "metadata": {
        "id": "18ztfZhktHTR"
      },
      "execution_count": null,
      "outputs": []
    },
    {
      "cell_type": "markdown",
      "source": [
        "# Langkah 6: Mendefinisikan Rentang Parameter untuk Pencarian Grid  "
      ],
      "metadata": {
        "id": "78d7YKJmtJrR"
      }
    },
    {
      "cell_type": "code",
      "source": [
        "# Pencarian grid untuk gamma dan k yang optimal\n",
        "gamma_range = [0.1, 0.5, 1.0, 2.0, 5.0, 10.0]\n",
        "K_range = range(2, 11)\n",
        "best_score = -1\n",
        "best_gamma = None\n",
        "best_k = None\n",
        "best_clusters = None"
      ],
      "metadata": {
        "id": "QLIH654ztLpZ"
      },
      "execution_count": null,
      "outputs": []
    },
    {
      "cell_type": "markdown",
      "source": [
        "# Langkah 7: Melakukan Pencarian Grid untuk Menemukan Parameter Optimal"
      ],
      "metadata": {
        "id": "hxgDT9w7tO4j"
      }
    },
    {
      "cell_type": "code",
      "source": [
        "from sklearn.cluster import DBSCAN\n",
        "\n",
        "# Definisi parameter DBSCAN\n",
        "eps = 0.5  # Radius lingkungan\n",
        "min_samples = 5  # Jumlah minimum titik dalam radius untuk menjadi core point\n",
        "\n",
        "# Menggunakan DBSCAN\n",
        "dbscan = DBSCAN(eps=eps, min_samples=min_samples)\n",
        "clusters = dbscan.fit_predict(X_scaled)\n",
        "\n",
        "# Menghitung jumlah titik noise\n",
        "num_noise_points = (clusters == -1).sum()\n",
        "print(f\"Jumlah titik noise: {num_noise_points}\")\n",
        "\n",
        "# Menambahkan hasil kluster ke dataset\n",
        "data[\"Cluster\"] = clusters\n",
        "\n",
        "# Menyimpan hasil kluster\n",
        "data[[\"CustomerID\", \"Cluster\"]].to_csv(\"dbscan_clusters.csv\", index=False)\n"
      ],
      "metadata": {
        "colab": {
          "base_uri": "https://localhost:8080/"
        },
        "id": "907_OuP_tQnT",
        "outputId": "52f5cfef-213d-4bf4-bb11-cc06fc2e8646"
      },
      "execution_count": null,
      "outputs": [
        {
          "output_type": "stream",
          "name": "stdout",
          "text": [
            "Jumlah titik noise: 0\n"
          ]
        }
      ]
    },
    {
      "cell_type": "markdown",
      "source": [
        "# Visualisasi Hasil Klasterisasi DBSCAN"
      ],
      "metadata": {
        "id": "MiWHxkGs1SkH"
      }
    },
    {
      "cell_type": "code",
      "source": [
        "# Scatter plot hasil klasterisasi DBSCAN\n",
        "plt.figure(figsize=(10, 6))\n",
        "unique_clusters = set(clusters)\n",
        "colors = plt.cm.tab10(np.linspace(0, 1, len(unique_clusters)))\n",
        "\n",
        "for cluster, color in zip(unique_clusters, colors):\n",
        "    cluster_mask = (clusters == cluster)\n",
        "    plt.scatter(\n",
        "        X_scaled[cluster_mask, 0],\n",
        "        X_scaled[cluster_mask, 1],\n",
        "        c=[color],\n",
        "        label=f\"Cluster {cluster}\" if cluster != -1 else \"Noise\",\n",
        "        s=30, alpha=0.7\n",
        "    )\n",
        "\n",
        "plt.title(\"Visualisasi Hasil Klasterisasi DBSCAN\")\n",
        "plt.xlabel(\"Fitur 1 (Scaled)\")\n",
        "plt.ylabel(\"Fitur 2 (Scaled)\")\n",
        "plt.legend()\n",
        "plt.show()"
      ],
      "metadata": {
        "colab": {
          "base_uri": "https://localhost:8080/",
          "height": 564
        },
        "id": "Mf8ATj1N1FWb",
        "outputId": "f406cebd-dfa8-4801-a34b-f2798855a467"
      },
      "execution_count": null,
      "outputs": [
        {
          "output_type": "display_data",
          "data": {
            "text/plain": [
              "<Figure size 1000x600 with 1 Axes>"
            ],
            "image/png": "[encoded data removed]"
          },
          "metadata": {}
        }
      ]
    },
    {
      "cell_type": "markdown",
      "source": [
        "# Langkah 8: Menerapkan Transformasi Kernel RBF dengan Gamma Terbaik"
      ],
      "metadata": {
        "id": "kNjl2bV9tV6G"
      }
    },
    {
      "cell_type": "code",
      "source": [
        "# Menerapkan transformasi kernel RBF dengan gamma terbaik\n",
        "K = rbf_kernel(X_weighted, gamma=best_gamma)"
      ],
      "metadata": {
        "id": "pY8-R4XitY2P"
      },
      "execution_count": null,
      "outputs": []
    },
    {
      "cell_type": "markdown",
      "source": [
        "# Langkah 9: Mengurangi Dimensi untuk Visualisasi"
      ],
      "metadata": {
        "id": "EwYuA7iGtgmD"
      }
    },
    {
      "cell_type": "code",
      "source": [
        "# Mengurangi dimensi untuk visualisasi\n",
        "pca = PCA(n_components=2)\n",
        "X_pca = pca.fit_transform(K)"
      ],
      "metadata": {
        "id": "5GbqyHw5tjT4"
      },
      "execution_count": null,
      "outputs": []
    },
    {
      "cell_type": "markdown",
      "source": [
        "# Langkah 10: Memplot Hasil Klustering"
      ],
      "metadata": {
        "id": "5L-9ds27tlu7"
      }
    },
    {
      "cell_type": "code",
      "source": [
        "# Memplot hasil\n",
        "plt.figure(figsize=(10, 6))\n",
        "plt.scatter(X_pca[:, 0], X_pca[:, 1], c=best_clusters, cmap=\"viridis\")\n",
        "plt.title(\"Visualisasi Segmen Pelanggan (PCA)\")\n",
        "plt.xlabel(\"Komponen Utama Pertama\")\n",
        "plt.ylabel(\"Komponen Utama Kedua\")\n",
        "\n",
        "# Menyimpan plot\n",
        "plt.savefig(\"clusters_visualization.png\")  # Pastikan direktori tujuan ada\n",
        "plt.close()"
      ],
      "metadata": {
        "colab": {
          "base_uri": "https://localhost:8080/"
        },
        "id": "SYavFNIhtngT",
        "outputId": "0a8731bc-0722-46fc-959a-14a5ddf17db5"
      },
      "execution_count": null,
      "outputs": [
        {
          "output_type": "stream",
          "name": "stderr",
          "text": [
            "<ipython-input-62-b31c4f87495b>:3: UserWarning: No data for colormapping provided via 'c'. Parameters 'cmap' will be ignored\n",
            "  plt.scatter(X_pca[:, 0], X_pca[:, 1], c=best_clusters, cmap=\"viridis\")\n"
          ]
        }
      ]
    },
    {
      "cell_type": "markdown",
      "source": [
        "# Langkah 11: Mencetak Hasil Klustering Akhir"
      ],
      "metadata": {
        "id": "qvjltGEct2am"
      }
    },
    {
      "cell_type": "code",
      "source": [
        "# Memeriksa apakah solusi klustering yang valid ditemukan\n",
        "if best_score > -1:\n",
        "    # Mencetak skor siluet terbaik yang dicapai\n",
        "    print(f\"Skor Siluet Terbaik: {best_score:.4f}\")\n",
        "    # Mencetak nilai epsilon (gamma) yang menghasilkan skor terbaik\n",
        "    print(f\"Gamma Terbaik: {best_gamma}\")\n",
        "    # Mencetak jumlah kluster yang menghasilkan skor terbaik\n",
        "    print(f\"Jumlah Kluster: {best_k}\")\n",
        "else:\n",
        "    # Memberitahu pengguna jika tidak ada solusi klustering yang valid ditemukan\n",
        "    print(\"Tidak ada solusi klustering yang valid ditemukan\")"
      ],
      "metadata": {
        "colab": {
          "base_uri": "https://localhost:8080/"
        },
        "id": "lsFMrgMqt3Rj",
        "outputId": "033d7508-df75-49e5-a571-004d57d25776"
      },
      "execution_count": null,
      "outputs": [
        {
          "output_type": "stream",
          "name": "stdout",
          "text": [
            "Tidak ada solusi klustering yang valid ditemukan\n"
          ]
        }
      ]
    },
    {
      "cell_type": "markdown",
      "source": [
        "# Langkah 12: Menyimpan Penugasan Kluster"
      ],
      "metadata": {
        "id": "kBICsfcdt6dV"
      }
    },
    {
      "cell_type": "code",
      "source": [
        "# # Menyimpan penugasan kluster\n",
        "data[\"Cluster\"] = best_clusters\n",
        "data[[\"CustomerID\", \"Cluster\"]].to_csv(\"submission.csv\", index=False)  # Pastikan direktori tujuan ada"
      ],
      "metadata": {
        "id": "I_T717V-t8UI"
      },
      "execution_count": null,
      "outputs": []
    },
    {
      "cell_type": "markdown",
      "source": [
        "# Histogram Jumlah Data per Klaster"
      ],
      "metadata": {
        "id": "ChuSwewk1VQ9"
      }
    },
    {
      "cell_type": "code",
      "source": [
        "# Histogram jumlah data dalam setiap klaster\n",
        "cluster_counts = pd.Series(clusters).value_counts().sort_index()\n",
        "plt.figure(figsize=(8, 6))\n",
        "cluster_counts.plot(kind='bar', color='skyblue')\n",
        "plt.title(\"Jumlah Data dalam Setiap Klaster\")\n",
        "plt.xlabel(\"Cluster\")\n",
        "plt.ylabel(\"Jumlah Data\")\n",
        "plt.xticks(rotation=0)\n",
        "plt.show()"
      ],
      "metadata": {
        "colab": {
          "base_uri": "https://localhost:8080/",
          "height": 564
        },
        "id": "Aw4nmTO21Ll3",
        "outputId": "4e8a1fd0-1157-4acb-e29b-6729315fe953"
      },
      "execution_count": null,
      "outputs": [
        {
          "output_type": "display_data",
          "data": {
            "text/plain": [
              "<Figure size 800x600 with 1 Axes>"
            ],
            "image/png": "[encoded data removed]"
          },
          "metadata": {}
        }
      ]
    }
  ]
}