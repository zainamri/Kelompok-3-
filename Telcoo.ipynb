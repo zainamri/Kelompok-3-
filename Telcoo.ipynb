{
  "nbformat": 4,
  "nbformat_minor": 0,
  "metadata": {
    "colab": {
      "provenance": [],
      "authorship_tag": "ABX9TyNhObva7s3jIj82ePD9h9nH",
      "include_colab_link": true
    },
    "kernelspec": {
      "name": "python3",
      "display_name": "Python 3"
    },
    "language_info": {
      "name": "python"
    }
  },
  "cells": [
    {
      "cell_type": "markdown",
      "metadata": {
        "id": "view-in-github",
        "colab_type": "text"
      },
      "source": [
        "<a href=\"https://colab.research.google.com/github/zainamri/Kelompok-3-/blob/main/Telcoo.ipynb\" target=\"_parent\"><img src=\"https://colab.research.google.com/assets/colab-badge.svg\" alt=\"Open In Colab\"/></a>"
      ]
    },
    {
      "cell_type": "code",
      "execution_count": 174,
      "metadata": {
        "colab": {
          "base_uri": "https://localhost:8080/"
        },
        "id": "iHvM6w7_n0k5",
        "outputId": "b123f890-c818-4e14-ec4f-05448f4a1bf4"
      },
      "outputs": [
        {
          "output_type": "stream",
          "name": "stdout",
          "text": [
            "Jumlah data terinput: (7043, 21) baris\n"
          ]
        }
      ],
      "source": [
        "import pandas as pd\n",
        "import numpy as np\n",
        "import matplotlib.pyplot as plt\n",
        "import seaborn as sns\n",
        "from sklearn.model_selection import train_test_split, GridSearchCV\n",
        "from sklearn.tree import DecisionTreeClassifier\n",
        "from sklearn.ensemble import RandomForestClassifier\n",
        "from lightgbm import LGBMClassifier\n",
        "from sklearn.metrics import classification_report, accuracy_score, confusion_matrix, ConfusionMatrixDisplay\n",
        "\n",
        "# URL raw file GitHub\n",
        "url = \"https://raw.githubusercontent.com/arubhasy/dataset/main/Telco-Customer-Churn.csv\"\n",
        "\n",
        "# Membaca dataset\n",
        "df = pd.read_csv(url)\n",
        "\n",
        "print(f\"Jumlah data terinput: {df.shape} baris\")"
      ]
    },
    {
      "cell_type": "code",
      "source": [
        "# Menampilkan 5 baris pertama\n",
        "df.head()"
      ],
      "metadata": {
        "colab": {
          "base_uri": "https://localhost:8080/",
          "height": 342
        },
        "id": "jsdAr0LydZwi",
        "outputId": "325df1e2-7b56-4361-e5a0-9ffea6b2374f"
      },
      "execution_count": 175,
      "outputs": [
        {
          "output_type": "execute_result",
          "data": {
            "text/plain": [
              "   customerID  gender  SeniorCitizen Partner Dependents  tenure PhoneService  \\\n",
              "0  7590-VHVEG       F              0     Yes         No     1.0           No   \n",
              "1  5575-GNVDE    Male              0      No         No    34.0          Yes   \n",
              "2  3668-QPYBK    Male              0      No         No     2.0          Yes   \n",
              "3  7795-CFOCW    Male              0      No         No    45.0           No   \n",
              "4  9237-HQITU  Female              0      No         No     2.0          Yes   \n",
              "\n",
              "      MultipleLines InternetService OnlineSecurity  ... DeviceProtection  \\\n",
              "0  No phone service             DSL             No  ...               No   \n",
              "1                No             DSL            Yes  ...              Yes   \n",
              "2                No             DSL            Yes  ...               No   \n",
              "3  No phone service             DSL            Yes  ...              Yes   \n",
              "4                No     Fiber optic             No  ...               No   \n",
              "\n",
              "  TechSupport StreamingTV StreamingMovies        Contract PaperlessBilling  \\\n",
              "0          No          No              No  Month-to-month              Yes   \n",
              "1          No          No              No        One year               No   \n",
              "2          No          No              No  Month-to-month              Yes   \n",
              "3         Yes          No              No        One year               No   \n",
              "4          No          No              No  Month-to-month              Yes   \n",
              "\n",
              "               PaymentMethod MonthlyCharges  TotalCharges Churn  \n",
              "0           Electronic check          29.85         29.85    No  \n",
              "1               Mailed check          56.95        1889.5    No  \n",
              "2               Mailed check          53.85        108.15   Yes  \n",
              "3  Bank transfer (automatic)          42.30       1840.75    No  \n",
              "4           Electronic check          70.70        151.65   Yes  \n",
              "\n",
              "[5 rows x 21 columns]"
            ],
            "text/html": [
              "\n",
              "  <div id=\"df-a963552c-4d31-47b3-89bf-e2f5a0b1f9cc\" class=\"colab-df-container\">\n",
              "    <div>\n",
              "<style scoped>\n",
              "    .dataframe tbody tr th:only-of-type {\n",
              "        vertical-align: middle;\n",
              "    }\n",
              "\n",
              "    .dataframe tbody tr th {\n",
              "        vertical-align: top;\n",
              "    }\n",
              "\n",
              "    .dataframe thead th {\n",
              "        text-align: right;\n",
              "    }\n",
              "</style>\n",
              "<table border=\"1\" class=\"dataframe\">\n",
              "  <thead>\n",
              "    <tr style=\"text-align: right;\">\n",
              "      <th></th>\n",
              "      <th>customerID</th>\n",
              "      <th>gender</th>\n",
              "      <th>SeniorCitizen</th>\n",
              "      <th>Partner</th>\n",
              "      <th>Dependents</th>\n",
              "      <th>tenure</th>\n",
              "      <th>PhoneService</th>\n",
              "      <th>MultipleLines</th>\n",
              "      <th>InternetService</th>\n",
              "      <th>OnlineSecurity</th>\n",
              "      <th>...</th>\n",
              "      <th>DeviceProtection</th>\n",
              "      <th>TechSupport</th>\n",
              "      <th>StreamingTV</th>\n",
              "      <th>StreamingMovies</th>\n",
              "      <th>Contract</th>\n",
              "      <th>PaperlessBilling</th>\n",
              "      <th>PaymentMethod</th>\n",
              "      <th>MonthlyCharges</th>\n",
              "      <th>TotalCharges</th>\n",
              "      <th>Churn</th>\n",
              "    </tr>\n",
              "  </thead>\n",
              "  <tbody>\n",
              "    <tr>\n",
              "      <th>0</th>\n",
              "      <td>7590-VHVEG</td>\n",
              "      <td>F</td>\n",
              "      <td>0</td>\n",
              "      <td>Yes</td>\n",
              "      <td>No</td>\n",
              "      <td>1.0</td>\n",
              "      <td>No</td>\n",
              "      <td>No phone service</td>\n",
              "      <td>DSL</td>\n",
              "      <td>No</td>\n",
              "      <td>...</td>\n",
              "      <td>No</td>\n",
              "      <td>No</td>\n",
              "      <td>No</td>\n",
              "      <td>No</td>\n",
              "      <td>Month-to-month</td>\n",
              "      <td>Yes</td>\n",
              "      <td>Electronic check</td>\n",
              "      <td>29.85</td>\n",
              "      <td>29.85</td>\n",
              "      <td>No</td>\n",
              "    </tr>\n",
              "    <tr>\n",
              "      <th>1</th>\n",
              "      <td>5575-GNVDE</td>\n",
              "      <td>Male</td>\n",
              "      <td>0</td>\n",
              "      <td>No</td>\n",
              "      <td>No</td>\n",
              "      <td>34.0</td>\n",
              "      <td>Yes</td>\n",
              "      <td>No</td>\n",
              "      <td>DSL</td>\n",
              "      <td>Yes</td>\n",
              "      <td>...</td>\n",
              "      <td>Yes</td>\n",
              "      <td>No</td>\n",
              "      <td>No</td>\n",
              "      <td>No</td>\n",
              "      <td>One year</td>\n",
              "      <td>No</td>\n",
              "      <td>Mailed check</td>\n",
              "      <td>56.95</td>\n",
              "      <td>1889.5</td>\n",
              "      <td>No</td>\n",
              "    </tr>\n",
              "    <tr>\n",
              "      <th>2</th>\n",
              "      <td>3668-QPYBK</td>\n",
              "      <td>Male</td>\n",
              "      <td>0</td>\n",
              "      <td>No</td>\n",
              "      <td>No</td>\n",
              "      <td>2.0</td>\n",
              "      <td>Yes</td>\n",
              "      <td>No</td>\n",
              "      <td>DSL</td>\n",
              "      <td>Yes</td>\n",
              "      <td>...</td>\n",
              "      <td>No</td>\n",
              "      <td>No</td>\n",
              "      <td>No</td>\n",
              "      <td>No</td>\n",
              "      <td>Month-to-month</td>\n",
              "      <td>Yes</td>\n",
              "      <td>Mailed check</td>\n",
              "      <td>53.85</td>\n",
              "      <td>108.15</td>\n",
              "      <td>Yes</td>\n",
              "    </tr>\n",
              "    <tr>\n",
              "      <th>3</th>\n",
              "      <td>7795-CFOCW</td>\n",
              "      <td>Male</td>\n",
              "      <td>0</td>\n",
              "      <td>No</td>\n",
              "      <td>No</td>\n",
              "      <td>45.0</td>\n",
              "      <td>No</td>\n",
              "      <td>No phone service</td>\n",
              "      <td>DSL</td>\n",
              "      <td>Yes</td>\n",
              "      <td>...</td>\n",
              "      <td>Yes</td>\n",
              "      <td>Yes</td>\n",
              "      <td>No</td>\n",
              "      <td>No</td>\n",
              "      <td>One year</td>\n",
              "      <td>No</td>\n",
              "      <td>Bank transfer (automatic)</td>\n",
              "      <td>42.30</td>\n",
              "      <td>1840.75</td>\n",
              "      <td>No</td>\n",
              "    </tr>\n",
              "    <tr>\n",
              "      <th>4</th>\n",
              "      <td>9237-HQITU</td>\n",
              "      <td>Female</td>\n",
              "      <td>0</td>\n",
              "      <td>No</td>\n",
              "      <td>No</td>\n",
              "      <td>2.0</td>\n",
              "      <td>Yes</td>\n",
              "      <td>No</td>\n",
              "      <td>Fiber optic</td>\n",
              "      <td>No</td>\n",
              "      <td>...</td>\n",
              "      <td>No</td>\n",
              "      <td>No</td>\n",
              "      <td>No</td>\n",
              "      <td>No</td>\n",
              "      <td>Month-to-month</td>\n",
              "      <td>Yes</td>\n",
              "      <td>Electronic check</td>\n",
              "      <td>70.70</td>\n",
              "      <td>151.65</td>\n",
              "      <td>Yes</td>\n",
              "    </tr>\n",
              "  </tbody>\n",
              "</table>\n",
              "<p>5 rows × 21 columns</p>\n",
              "</div>\n",
              "    <div class=\"colab-df-buttons\">\n",
              "\n",
              "  <div class=\"colab-df-container\">\n",
              "    <button class=\"colab-df-convert\" onclick=\"convertToInteractive('df-a963552c-4d31-47b3-89bf-e2f5a0b1f9cc')\"\n",
              "            title=\"Convert this dataframe to an interactive table.\"\n",
              "            style=\"display:none;\">\n",
              "\n",
              "  <svg xmlns=\"http://www.w3.org/2000/svg\" height=\"24px\" viewBox=\"0 -960 960 960\">\n",
              "    <path d=\"M120-120v-720h720v720H120Zm60-500h600v-160H180v160Zm220 220h160v-160H400v160Zm0 220h160v-160H400v160ZM180-400h160v-160H180v160Zm440 0h160v-160H620v160ZM180-180h160v-160H180v160Zm440 0h160v-160H620v160Z\"/>\n",
              "  </svg>\n",
              "    </button>\n",
              "\n",
              "  <style>\n",
              "    .colab-df-container {\n",
              "      display:flex;\n",
              "      gap: 12px;\n",
              "    }\n",
              "\n",
              "    .colab-df-convert {\n",
              "      background-color: #E8F0FE;\n",
              "      border: none;\n",
              "      border-radius: 50%;\n",
              "      cursor: pointer;\n",
              "      display: none;\n",
              "      fill: #1967D2;\n",
              "      height: 32px;\n",
              "      padding: 0 0 0 0;\n",
              "      width: 32px;\n",
              "    }\n",
              "\n",
              "    .colab-df-convert:hover {\n",
              "      background-color: #E2EBFA;\n",
              "      box-shadow: 0px 1px 2px rgba(60, 64, 67, 0.3), 0px 1px 3px 1px rgba(60, 64, 67, 0.15);\n",
              "      fill: #174EA6;\n",
              "    }\n",
              "\n",
              "    .colab-df-buttons div {\n",
              "      margin-bottom: 4px;\n",
              "    }\n",
              "\n",
              "    [theme=dark] .colab-df-convert {\n",
              "      background-color: #3B4455;\n",
              "      fill: #D2E3FC;\n",
              "    }\n",
              "\n",
              "    [theme=dark] .colab-df-convert:hover {\n",
              "      background-color: #434B5C;\n",
              "      box-shadow: 0px 1px 3px 1px rgba(0, 0, 0, 0.15);\n",
              "      filter: drop-shadow(0px 1px 2px rgba(0, 0, 0, 0.3));\n",
              "      fill: #FFFFFF;\n",
              "    }\n",
              "  </style>\n",
              "\n",
              "    <script>\n",
              "      const buttonEl =\n",
              "        document.querySelector('#df-a963552c-4d31-47b3-89bf-e2f5a0b1f9cc button.colab-df-convert');\n",
              "      buttonEl.style.display =\n",
              "        google.colab.kernel.accessAllowed ? 'block' : 'none';\n",
              "\n",
              "      async function convertToInteractive(key) {\n",
              "        const element = document.querySelector('#df-a963552c-4d31-47b3-89bf-e2f5a0b1f9cc');\n",
              "        const dataTable =\n",
              "          await google.colab.kernel.invokeFunction('convertToInteractive',\n",
              "                                                    [key], {});\n",
              "        if (!dataTable) return;\n",
              "\n",
              "        const docLinkHtml = 'Like what you see? Visit the ' +\n",
              "          '<a target=\"_blank\" href=https://colab.research.google.com/notebooks/data_table.ipynb>data table notebook</a>'\n",
              "          + ' to learn more about interactive tables.';\n",
              "        element.innerHTML = '';\n",
              "        dataTable['output_type'] = 'display_data';\n",
              "        await google.colab.output.renderOutput(dataTable, element);\n",
              "        const docLink = document.createElement('div');\n",
              "        docLink.innerHTML = docLinkHtml;\n",
              "        element.appendChild(docLink);\n",
              "      }\n",
              "    </script>\n",
              "  </div>\n",
              "\n",
              "\n",
              "    <div id=\"df-2c696fa0-b17e-44d7-b7dd-583dd6aae5a7\">\n",
              "      <button class=\"colab-df-quickchart\" onclick=\"quickchart('df-2c696fa0-b17e-44d7-b7dd-583dd6aae5a7')\"\n",
              "                title=\"Suggest charts\"\n",
              "                style=\"display:none;\">\n",
              "\n",
              "<svg xmlns=\"http://www.w3.org/2000/svg\" height=\"24px\"viewBox=\"0 0 24 24\"\n",
              "     width=\"24px\">\n",
              "    <g>\n",
              "        <path d=\"M19 3H5c-1.1 0-2 .9-2 2v14c0 1.1.9 2 2 2h14c1.1 0 2-.9 2-2V5c0-1.1-.9-2-2-2zM9 17H7v-7h2v7zm4 0h-2V7h2v10zm4 0h-2v-4h2v4z\"/>\n",
              "    </g>\n",
              "</svg>\n",
              "      </button>\n",
              "\n",
              "<style>\n",
              "  .colab-df-quickchart {\n",
              "      --bg-color: #E8F0FE;\n",
              "      --fill-color: #1967D2;\n",
              "      --hover-bg-color: #E2EBFA;\n",
              "      --hover-fill-color: #174EA6;\n",
              "      --disabled-fill-color: #AAA;\n",
              "      --disabled-bg-color: #DDD;\n",
              "  }\n",
              "\n",
              "  [theme=dark] .colab-df-quickchart {\n",
              "      --bg-color: #3B4455;\n",
              "      --fill-color: #D2E3FC;\n",
              "      --hover-bg-color: #434B5C;\n",
              "      --hover-fill-color: #FFFFFF;\n",
              "      --disabled-bg-color: #3B4455;\n",
              "      --disabled-fill-color: #666;\n",
              "  }\n",
              "\n",
              "  .colab-df-quickchart {\n",
              "    background-color: var(--bg-color);\n",
              "    border: none;\n",
              "    border-radius: 50%;\n",
              "    cursor: pointer;\n",
              "    display: none;\n",
              "    fill: var(--fill-color);\n",
              "    height: 32px;\n",
              "    padding: 0;\n",
              "    width: 32px;\n",
              "  }\n",
              "\n",
              "  .colab-df-quickchart:hover {\n",
              "    background-color: var(--hover-bg-color);\n",
              "    box-shadow: 0 1px 2px rgba(60, 64, 67, 0.3), 0 1px 3px 1px rgba(60, 64, 67, 0.15);\n",
              "    fill: var(--button-hover-fill-color);\n",
              "  }\n",
              "\n",
              "  .colab-df-quickchart-complete:disabled,\n",
              "  .colab-df-quickchart-complete:disabled:hover {\n",
              "    background-color: var(--disabled-bg-color);\n",
              "    fill: var(--disabled-fill-color);\n",
              "    box-shadow: none;\n",
              "  }\n",
              "\n",
              "  .colab-df-spinner {\n",
              "    border: 2px solid var(--fill-color);\n",
              "    border-color: transparent;\n",
              "    border-bottom-color: var(--fill-color);\n",
              "    animation:\n",
              "      spin 1s steps(1) infinite;\n",
              "  }\n",
              "\n",
              "  @keyframes spin {\n",
              "    0% {\n",
              "      border-color: transparent;\n",
              "      border-bottom-color: var(--fill-color);\n",
              "      border-left-color: var(--fill-color);\n",
              "    }\n",
              "    20% {\n",
              "      border-color: transparent;\n",
              "      border-left-color: var(--fill-color);\n",
              "      border-top-color: var(--fill-color);\n",
              "    }\n",
              "    30% {\n",
              "      border-color: transparent;\n",
              "      border-left-color: var(--fill-color);\n",
              "      border-top-color: var(--fill-color);\n",
              "      border-right-color: var(--fill-color);\n",
              "    }\n",
              "    40% {\n",
              "      border-color: transparent;\n",
              "      border-right-color: var(--fill-color);\n",
              "      border-top-color: var(--fill-color);\n",
              "    }\n",
              "    60% {\n",
              "      border-color: transparent;\n",
              "      border-right-color: var(--fill-color);\n",
              "    }\n",
              "    80% {\n",
              "      border-color: transparent;\n",
              "      border-right-color: var(--fill-color);\n",
              "      border-bottom-color: var(--fill-color);\n",
              "    }\n",
              "    90% {\n",
              "      border-color: transparent;\n",
              "      border-bottom-color: var(--fill-color);\n",
              "    }\n",
              "  }\n",
              "</style>\n",
              "\n",
              "      <script>\n",
              "        async function quickchart(key) {\n",
              "          const quickchartButtonEl =\n",
              "            document.querySelector('#' + key + ' button');\n",
              "          quickchartButtonEl.disabled = true;  // To prevent multiple clicks.\n",
              "          quickchartButtonEl.classList.add('colab-df-spinner');\n",
              "          try {\n",
              "            const charts = await google.colab.kernel.invokeFunction(\n",
              "                'suggestCharts', [key], {});\n",
              "          } catch (error) {\n",
              "            console.error('Error during call to suggestCharts:', error);\n",
              "          }\n",
              "          quickchartButtonEl.classList.remove('colab-df-spinner');\n",
              "          quickchartButtonEl.classList.add('colab-df-quickchart-complete');\n",
              "        }\n",
              "        (() => {\n",
              "          let quickchartButtonEl =\n",
              "            document.querySelector('#df-2c696fa0-b17e-44d7-b7dd-583dd6aae5a7 button');\n",
              "          quickchartButtonEl.style.display =\n",
              "            google.colab.kernel.accessAllowed ? 'block' : 'none';\n",
              "        })();\n",
              "      </script>\n",
              "    </div>\n",
              "\n",
              "    </div>\n",
              "  </div>\n"
            ],
            "application/vnd.google.colaboratory.intrinsic+json": {
              "type": "dataframe",
              "variable_name": "df"
            }
          },
          "metadata": {},
          "execution_count": 175
        }
      ]
    },
    {
      "cell_type": "markdown",
      "source": [
        "menelaah data"
      ],
      "metadata": {
        "id": "tFtrSB3TDmIp"
      }
    },
    {
      "cell_type": "code",
      "source": [
        "print(\"--- Analisis Tipe Data ---\")\n",
        "df.info()"
      ],
      "metadata": {
        "colab": {
          "base_uri": "https://localhost:8080/"
        },
        "id": "seOuJpwGpC5i",
        "outputId": "68f39a5c-5a17-400d-c97d-f97a2eb9d6f7"
      },
      "execution_count": 176,
      "outputs": [
        {
          "output_type": "stream",
          "name": "stdout",
          "text": [
            "--- Analisis Tipe Data ---\n",
            "<class 'pandas.core.frame.DataFrame'>\n",
            "RangeIndex: 7043 entries, 0 to 7042\n",
            "Data columns (total 21 columns):\n",
            " #   Column            Non-Null Count  Dtype  \n",
            "---  ------            --------------  -----  \n",
            " 0   customerID        7043 non-null   object \n",
            " 1   gender            7038 non-null   object \n",
            " 2   SeniorCitizen     7043 non-null   int64  \n",
            " 3   Partner           7043 non-null   object \n",
            " 4   Dependents        7043 non-null   object \n",
            " 5   tenure            7040 non-null   float64\n",
            " 6   PhoneService      7043 non-null   object \n",
            " 7   MultipleLines     7043 non-null   object \n",
            " 8   InternetService   7043 non-null   object \n",
            " 9   OnlineSecurity    7043 non-null   object \n",
            " 10  OnlineBackup      7043 non-null   object \n",
            " 11  DeviceProtection  7043 non-null   object \n",
            " 12  TechSupport       7043 non-null   object \n",
            " 13  StreamingTV       7043 non-null   object \n",
            " 14  StreamingMovies   7043 non-null   object \n",
            " 15  Contract          7043 non-null   object \n",
            " 16  PaperlessBilling  7043 non-null   object \n",
            " 17  PaymentMethod     7043 non-null   object \n",
            " 18  MonthlyCharges    7043 non-null   float64\n",
            " 19  TotalCharges      7043 non-null   object \n",
            " 20  Churn             7043 non-null   object \n",
            "dtypes: float64(2), int64(1), object(18)\n",
            "memory usage: 1.1+ MB\n"
          ]
        }
      ]
    },
    {
      "cell_type": "code",
      "source": [
        "df.describe()"
      ],
      "metadata": {
        "colab": {
          "base_uri": "https://localhost:8080/",
          "height": 300
        },
        "id": "ONt3aKlmOtgi",
        "outputId": "f471e417-3c9b-460f-a5fc-77789d62b5ea"
      },
      "execution_count": 177,
      "outputs": [
        {
          "output_type": "execute_result",
          "data": {
            "text/plain": [
              "       SeniorCitizen       tenure  MonthlyCharges\n",
              "count    7043.000000  7040.000000     7043.000000\n",
              "mean        0.162147    35.043892       64.761692\n",
              "std         0.368612   115.282871       30.090047\n",
              "min         0.000000     0.000000       18.250000\n",
              "25%         0.000000     9.000000       35.500000\n",
              "50%         0.000000    29.000000       70.350000\n",
              "75%         0.000000    55.000000       89.850000\n",
              "max         1.000000  7100.000000      118.750000"
            ],
            "text/html": [
              "\n",
              "  <div id=\"df-fb0b4eaa-df37-469f-88b8-43cbe9adfbc7\" class=\"colab-df-container\">\n",
              "    <div>\n",
              "<style scoped>\n",
              "    .dataframe tbody tr th:only-of-type {\n",
              "        vertical-align: middle;\n",
              "    }\n",
              "\n",
              "    .dataframe tbody tr th {\n",
              "        vertical-align: top;\n",
              "    }\n",
              "\n",
              "    .dataframe thead th {\n",
              "        text-align: right;\n",
              "    }\n",
              "</style>\n",
              "<table border=\"1\" class=\"dataframe\">\n",
              "  <thead>\n",
              "    <tr style=\"text-align: right;\">\n",
              "      <th></th>\n",
              "      <th>SeniorCitizen</th>\n",
              "      <th>tenure</th>\n",
              "      <th>MonthlyCharges</th>\n",
              "    </tr>\n",
              "  </thead>\n",
              "  <tbody>\n",
              "    <tr>\n",
              "      <th>count</th>\n",
              "      <td>7043.000000</td>\n",
              "      <td>7040.000000</td>\n",
              "      <td>7043.000000</td>\n",
              "    </tr>\n",
              "    <tr>\n",
              "      <th>mean</th>\n",
              "      <td>0.162147</td>\n",
              "      <td>35.043892</td>\n",
              "      <td>64.761692</td>\n",
              "    </tr>\n",
              "    <tr>\n",
              "      <th>std</th>\n",
              "      <td>0.368612</td>\n",
              "      <td>115.282871</td>\n",
              "      <td>30.090047</td>\n",
              "    </tr>\n",
              "    <tr>\n",
              "      <th>min</th>\n",
              "      <td>0.000000</td>\n",
              "      <td>0.000000</td>\n",
              "      <td>18.250000</td>\n",
              "    </tr>\n",
              "    <tr>\n",
              "      <th>25%</th>\n",
              "      <td>0.000000</td>\n",
              "      <td>9.000000</td>\n",
              "      <td>35.500000</td>\n",
              "    </tr>\n",
              "    <tr>\n",
              "      <th>50%</th>\n",
              "      <td>0.000000</td>\n",
              "      <td>29.000000</td>\n",
              "      <td>70.350000</td>\n",
              "    </tr>\n",
              "    <tr>\n",
              "      <th>75%</th>\n",
              "      <td>0.000000</td>\n",
              "      <td>55.000000</td>\n",
              "      <td>89.850000</td>\n",
              "    </tr>\n",
              "    <tr>\n",
              "      <th>max</th>\n",
              "      <td>1.000000</td>\n",
              "      <td>7100.000000</td>\n",
              "      <td>118.750000</td>\n",
              "    </tr>\n",
              "  </tbody>\n",
              "</table>\n",
              "</div>\n",
              "    <div class=\"colab-df-buttons\">\n",
              "\n",
              "  <div class=\"colab-df-container\">\n",
              "    <button class=\"colab-df-convert\" onclick=\"convertToInteractive('df-fb0b4eaa-df37-469f-88b8-43cbe9adfbc7')\"\n",
              "            title=\"Convert this dataframe to an interactive table.\"\n",
              "            style=\"display:none;\">\n",
              "\n",
              "  <svg xmlns=\"http://www.w3.org/2000/svg\" height=\"24px\" viewBox=\"0 -960 960 960\">\n",
              "    <path d=\"M120-120v-720h720v720H120Zm60-500h600v-160H180v160Zm220 220h160v-160H400v160Zm0 220h160v-160H400v160ZM180-400h160v-160H180v160Zm440 0h160v-160H620v160ZM180-180h160v-160H180v160Zm440 0h160v-160H620v160Z\"/>\n",
              "  </svg>\n",
              "    </button>\n",
              "\n",
              "  <style>\n",
              "    .colab-df-container {\n",
              "      display:flex;\n",
              "      gap: 12px;\n",
              "    }\n",
              "\n",
              "    .colab-df-convert {\n",
              "      background-color: #E8F0FE;\n",
              "      border: none;\n",
              "      border-radius: 50%;\n",
              "      cursor: pointer;\n",
              "      display: none;\n",
              "      fill: #1967D2;\n",
              "      height: 32px;\n",
              "      padding: 0 0 0 0;\n",
              "      width: 32px;\n",
              "    }\n",
              "\n",
              "    .colab-df-convert:hover {\n",
              "      background-color: #E2EBFA;\n",
              "      box-shadow: 0px 1px 2px rgba(60, 64, 67, 0.3), 0px 1px 3px 1px rgba(60, 64, 67, 0.15);\n",
              "      fill: #174EA6;\n",
              "    }\n",
              "\n",
              "    .colab-df-buttons div {\n",
              "      margin-bottom: 4px;\n",
              "    }\n",
              "\n",
              "    [theme=dark] .colab-df-convert {\n",
              "      background-color: #3B4455;\n",
              "      fill: #D2E3FC;\n",
              "    }\n",
              "\n",
              "    [theme=dark] .colab-df-convert:hover {\n",
              "      background-color: #434B5C;\n",
              "      box-shadow: 0px 1px 3px 1px rgba(0, 0, 0, 0.15);\n",
              "      filter: drop-shadow(0px 1px 2px rgba(0, 0, 0, 0.3));\n",
              "      fill: #FFFFFF;\n",
              "    }\n",
              "  </style>\n",
              "\n",
              "    <script>\n",
              "      const buttonEl =\n",
              "        document.querySelector('#df-fb0b4eaa-df37-469f-88b8-43cbe9adfbc7 button.colab-df-convert');\n",
              "      buttonEl.style.display =\n",
              "        google.colab.kernel.accessAllowed ? 'block' : 'none';\n",
              "\n",
              "      async function convertToInteractive(key) {\n",
              "        const element = document.querySelector('#df-fb0b4eaa-df37-469f-88b8-43cbe9adfbc7');\n",
              "        const dataTable =\n",
              "          await google.colab.kernel.invokeFunction('convertToInteractive',\n",
              "                                                    [key], {});\n",
              "        if (!dataTable) return;\n",
              "\n",
              "        const docLinkHtml = 'Like what you see? Visit the ' +\n",
              "          '<a target=\"_blank\" href=https://colab.research.google.com/notebooks/data_table.ipynb>data table notebook</a>'\n",
              "          + ' to learn more about interactive tables.';\n",
              "        element.innerHTML = '';\n",
              "        dataTable['output_type'] = 'display_data';\n",
              "        await google.colab.output.renderOutput(dataTable, element);\n",
              "        const docLink = document.createElement('div');\n",
              "        docLink.innerHTML = docLinkHtml;\n",
              "        element.appendChild(docLink);\n",
              "      }\n",
              "    </script>\n",
              "  </div>\n",
              "\n",
              "\n",
              "    <div id=\"df-1c3ba458-ca96-4f69-8c6a-142331383825\">\n",
              "      <button class=\"colab-df-quickchart\" onclick=\"quickchart('df-1c3ba458-ca96-4f69-8c6a-142331383825')\"\n",
              "                title=\"Suggest charts\"\n",
              "                style=\"display:none;\">\n",
              "\n",
              "<svg xmlns=\"http://www.w3.org/2000/svg\" height=\"24px\"viewBox=\"0 0 24 24\"\n",
              "     width=\"24px\">\n",
              "    <g>\n",
              "        <path d=\"M19 3H5c-1.1 0-2 .9-2 2v14c0 1.1.9 2 2 2h14c1.1 0 2-.9 2-2V5c0-1.1-.9-2-2-2zM9 17H7v-7h2v7zm4 0h-2V7h2v10zm4 0h-2v-4h2v4z\"/>\n",
              "    </g>\n",
              "</svg>\n",
              "      </button>\n",
              "\n",
              "<style>\n",
              "  .colab-df-quickchart {\n",
              "      --bg-color: #E8F0FE;\n",
              "      --fill-color: #1967D2;\n",
              "      --hover-bg-color: #E2EBFA;\n",
              "      --hover-fill-color: #174EA6;\n",
              "      --disabled-fill-color: #AAA;\n",
              "      --disabled-bg-color: #DDD;\n",
              "  }\n",
              "\n",
              "  [theme=dark] .colab-df-quickchart {\n",
              "      --bg-color: #3B4455;\n",
              "      --fill-color: #D2E3FC;\n",
              "      --hover-bg-color: #434B5C;\n",
              "      --hover-fill-color: #FFFFFF;\n",
              "      --disabled-bg-color: #3B4455;\n",
              "      --disabled-fill-color: #666;\n",
              "  }\n",
              "\n",
              "  .colab-df-quickchart {\n",
              "    background-color: var(--bg-color);\n",
              "    border: none;\n",
              "    border-radius: 50%;\n",
              "    cursor: pointer;\n",
              "    display: none;\n",
              "    fill: var(--fill-color);\n",
              "    height: 32px;\n",
              "    padding: 0;\n",
              "    width: 32px;\n",
              "  }\n",
              "\n",
              "  .colab-df-quickchart:hover {\n",
              "    background-color: var(--hover-bg-color);\n",
              "    box-shadow: 0 1px 2px rgba(60, 64, 67, 0.3), 0 1px 3px 1px rgba(60, 64, 67, 0.15);\n",
              "    fill: var(--button-hover-fill-color);\n",
              "  }\n",
              "\n",
              "  .colab-df-quickchart-complete:disabled,\n",
              "  .colab-df-quickchart-complete:disabled:hover {\n",
              "    background-color: var(--disabled-bg-color);\n",
              "    fill: var(--disabled-fill-color);\n",
              "    box-shadow: none;\n",
              "  }\n",
              "\n",
              "  .colab-df-spinner {\n",
              "    border: 2px solid var(--fill-color);\n",
              "    border-color: transparent;\n",
              "    border-bottom-color: var(--fill-color);\n",
              "    animation:\n",
              "      spin 1s steps(1) infinite;\n",
              "  }\n",
              "\n",
              "  @keyframes spin {\n",
              "    0% {\n",
              "      border-color: transparent;\n",
              "      border-bottom-color: var(--fill-color);\n",
              "      border-left-color: var(--fill-color);\n",
              "    }\n",
              "    20% {\n",
              "      border-color: transparent;\n",
              "      border-left-color: var(--fill-color);\n",
              "      border-top-color: var(--fill-color);\n",
              "    }\n",
              "    30% {\n",
              "      border-color: transparent;\n",
              "      border-left-color: var(--fill-color);\n",
              "      border-top-color: var(--fill-color);\n",
              "      border-right-color: var(--fill-color);\n",
              "    }\n",
              "    40% {\n",
              "      border-color: transparent;\n",
              "      border-right-color: var(--fill-color);\n",
              "      border-top-color: var(--fill-color);\n",
              "    }\n",
              "    60% {\n",
              "      border-color: transparent;\n",
              "      border-right-color: var(--fill-color);\n",
              "    }\n",
              "    80% {\n",
              "      border-color: transparent;\n",
              "      border-right-color: var(--fill-color);\n",
              "      border-bottom-color: var(--fill-color);\n",
              "    }\n",
              "    90% {\n",
              "      border-color: transparent;\n",
              "      border-bottom-color: var(--fill-color);\n",
              "    }\n",
              "  }\n",
              "</style>\n",
              "\n",
              "      <script>\n",
              "        async function quickchart(key) {\n",
              "          const quickchartButtonEl =\n",
              "            document.querySelector('#' + key + ' button');\n",
              "          quickchartButtonEl.disabled = true;  // To prevent multiple clicks.\n",
              "          quickchartButtonEl.classList.add('colab-df-spinner');\n",
              "          try {\n",
              "            const charts = await google.colab.kernel.invokeFunction(\n",
              "                'suggestCharts', [key], {});\n",
              "          } catch (error) {\n",
              "            console.error('Error during call to suggestCharts:', error);\n",
              "          }\n",
              "          quickchartButtonEl.classList.remove('colab-df-spinner');\n",
              "          quickchartButtonEl.classList.add('colab-df-quickchart-complete');\n",
              "        }\n",
              "        (() => {\n",
              "          let quickchartButtonEl =\n",
              "            document.querySelector('#df-1c3ba458-ca96-4f69-8c6a-142331383825 button');\n",
              "          quickchartButtonEl.style.display =\n",
              "            google.colab.kernel.accessAllowed ? 'block' : 'none';\n",
              "        })();\n",
              "      </script>\n",
              "    </div>\n",
              "\n",
              "    </div>\n",
              "  </div>\n"
            ],
            "application/vnd.google.colaboratory.intrinsic+json": {
              "type": "dataframe",
              "summary": "{\n  \"name\": \"df\",\n  \"rows\": 8,\n  \"fields\": [\n    {\n      \"column\": \"SeniorCitizen\",\n      \"properties\": {\n        \"dtype\": \"number\",\n        \"std\": 2489.9992387084,\n        \"min\": 0.0,\n        \"max\": 7043.0,\n        \"num_unique_values\": 5,\n        \"samples\": [\n          0.1621468124378816,\n          1.0,\n          0.36861160561002687\n        ],\n        \"semantic_type\": \"\",\n        \"description\": \"\"\n      }\n    },\n    {\n      \"column\": \"tenure\",\n      \"properties\": {\n        \"dtype\": \"number\",\n        \"std\": 3254.2292069397554,\n        \"min\": 0.0,\n        \"max\": 7100.0,\n        \"num_unique_values\": 8,\n        \"samples\": [\n          35.04389204545455,\n          29.0,\n          7040.0\n        ],\n        \"semantic_type\": \"\",\n        \"description\": \"\"\n      }\n    },\n    {\n      \"column\": \"MonthlyCharges\",\n      \"properties\": {\n        \"dtype\": \"number\",\n        \"std\": 2468.7047672837775,\n        \"min\": 18.25,\n        \"max\": 7043.0,\n        \"num_unique_values\": 8,\n        \"samples\": [\n          64.76169246059918,\n          70.35,\n          7043.0\n        ],\n        \"semantic_type\": \"\",\n        \"description\": \"\"\n      }\n    }\n  ]\n}"
            }
          },
          "metadata": {},
          "execution_count": 177
        }
      ]
    },
    {
      "cell_type": "code",
      "source": [
        "# Jumlah nilai unik per kolom\n",
        "print(\"\\n=== Nilai Unik per Kolom ===\")\n",
        "for col in df.columns:\n",
        "    print(f\"{col}: {df[col].nunique()} nilai unik\")"
      ],
      "metadata": {
        "colab": {
          "base_uri": "https://localhost:8080/"
        },
        "id": "IXhl2yJvQk6S",
        "outputId": "069f9ffd-f0cd-404a-8448-98f1ff28ecb2"
      },
      "execution_count": 178,
      "outputs": [
        {
          "output_type": "stream",
          "name": "stdout",
          "text": [
            "\n",
            "=== Nilai Unik per Kolom ===\n",
            "customerID: 7043 nilai unik\n",
            "gender: 4 nilai unik\n",
            "SeniorCitizen: 2 nilai unik\n",
            "Partner: 2 nilai unik\n",
            "Dependents: 2 nilai unik\n",
            "tenure: 78 nilai unik\n",
            "PhoneService: 2 nilai unik\n",
            "MultipleLines: 3 nilai unik\n",
            "InternetService: 3 nilai unik\n",
            "OnlineSecurity: 3 nilai unik\n",
            "OnlineBackup: 3 nilai unik\n",
            "DeviceProtection: 3 nilai unik\n",
            "TechSupport: 3 nilai unik\n",
            "StreamingTV: 3 nilai unik\n",
            "StreamingMovies: 3 nilai unik\n",
            "Contract: 3 nilai unik\n",
            "PaperlessBilling: 2 nilai unik\n",
            "PaymentMethod: 4 nilai unik\n",
            "MonthlyCharges: 1585 nilai unik\n",
            "TotalCharges: 6531 nilai unik\n",
            "Churn: 2 nilai unik\n"
          ]
        }
      ]
    },
    {
      "cell_type": "markdown",
      "source": [
        "validasi"
      ],
      "metadata": {
        "id": "3JcgIbuhEYXv"
      }
    },
    {
      "cell_type": "code",
      "source": [
        "print(\"Pengecekan Data Duplikat:\")\n",
        "print(f\"Jumlah baris duplikat: {df.duplicated().sum()}\")"
      ],
      "metadata": {
        "colab": {
          "base_uri": "https://localhost:8080/"
        },
        "id": "6VJizmboQik_",
        "outputId": "6d89c22b-34e0-4ff2-8ba6-1cc76dfc93d4"
      },
      "execution_count": 179,
      "outputs": [
        {
          "output_type": "stream",
          "name": "stdout",
          "text": [
            "Pengecekan Data Duplikat:\n",
            "Jumlah baris duplikat: 0\n"
          ]
        }
      ]
    },
    {
      "cell_type": "code",
      "source": [
        "print(\"Pengecekan Nilai Hilang Awal:\")\n",
        "print(df.isnull().sum())"
      ],
      "metadata": {
        "colab": {
          "base_uri": "https://localhost:8080/"
        },
        "id": "-zcdcHvCUCsx",
        "outputId": "904af751-34fa-4a3d-cce3-424d38e87498"
      },
      "execution_count": 180,
      "outputs": [
        {
          "output_type": "stream",
          "name": "stdout",
          "text": [
            "Pengecekan Nilai Hilang Awal:\n",
            "customerID          0\n",
            "gender              5\n",
            "SeniorCitizen       0\n",
            "Partner             0\n",
            "Dependents          0\n",
            "tenure              3\n",
            "PhoneService        0\n",
            "MultipleLines       0\n",
            "InternetService     0\n",
            "OnlineSecurity      0\n",
            "OnlineBackup        0\n",
            "DeviceProtection    0\n",
            "TechSupport         0\n",
            "StreamingTV         0\n",
            "StreamingMovies     0\n",
            "Contract            0\n",
            "PaperlessBilling    0\n",
            "PaymentMethod       0\n",
            "MonthlyCharges      0\n",
            "TotalCharges        0\n",
            "Churn               0\n",
            "dtype: int64\n"
          ]
        }
      ]
    },
    {
      "cell_type": "code",
      "source": [
        "# Distribusi Variabel Target 'Churn'\n",
        "plt.figure(figsize=(5, 3))\n",
        "sns.countplot(data=df, x='Churn')\n",
        "plt.title('Distribusi Pelanggan Churn vs Tidak Churn')\n",
        "plt.show()"
      ],
      "metadata": {
        "colab": {
          "base_uri": "https://localhost:8080/",
          "height": 333
        },
        "id": "ffXxAPQHQt_l",
        "outputId": "52afdb01-5bd7-4177-afbc-ec6cca0eacb1"
      },
      "execution_count": 181,
      "outputs": [
        {
          "output_type": "display_data",
          "data": {
            "text/plain": [
              "<Figure size 500x300 with 1 Axes>"
            ],
            "image/png": "[encoded data removed]"
          },
          "metadata": {}
        }
      ]
    },
    {
      "cell_type": "code",
      "source": [
        "# Distribusi untuk beberapa fitur numerik penting\n",
        "numerical_features = ['tenure', 'MonthlyCharges']\n",
        "df[numerical_features].hist(bins=30, figsize=(8, 4))\n",
        "plt.suptitle('Distribusi Fitur Numerik (Tenure dan Monthly Charges)')\n",
        "plt.show()"
      ],
      "metadata": {
        "colab": {
          "base_uri": "https://localhost:8080/",
          "height": 408
        },
        "id": "HoXL1tOgUbA1",
        "outputId": "eea137ca-d605-4fa6-ee70-9e63715a3285"
      },
      "execution_count": 182,
      "outputs": [
        {
          "output_type": "display_data",
          "data": {
            "text/plain": [
              "<Figure size 800x400 with 2 Axes>"
            ],
            "image/png": "[encoded data removed]"
          },
          "metadata": {}
        }
      ]
    },
    {
      "cell_type": "code",
      "source": [
        "# Distribusi untuk beberapa fitur kategorikal penting\n",
        "categorical_features = ['Contract', 'PaymentMethod', 'InternetService']\n",
        "for col in categorical_features:\n",
        "    plt.figure(figsize=(5, 2))\n",
        "    sns.countplot(data=df, y=col)\n",
        "    plt.title(f'Distribusi Fitur: {col}')\n",
        "    plt.show()"
      ],
      "metadata": {
        "colab": {
          "base_uri": "https://localhost:8080/",
          "height": 734
        },
        "id": "hxcgTzKvUeej",
        "outputId": "8c0dfe1b-e3b8-4d2b-8563-b45c4a711d28"
      },
      "execution_count": 183,
      "outputs": [
        {
          "output_type": "display_data",
          "data": {
            "text/plain": [
              "<Figure size 500x200 with 1 Axes>"
            ],
            "image/png": "[encoded data removed]"
          },
          "metadata": {}
        },
        {
          "output_type": "display_data",
          "data": {
            "text/plain": [
              "<Figure size 500x200 with 1 Axes>"
            ],
            "image/png": "[encoded data removed]"
          },
          "metadata": {}
        },
        {
          "output_type": "display_data",
          "data": {
            "text/plain": [
              "<Figure size 500x200 with 1 Axes>"
            ],
            "image/png": "[encoded data removed]"
          },
          "metadata": {}
        }
      ]
    },
    {
      "cell_type": "markdown",
      "source": [
        "korelasi"
      ],
      "metadata": {
        "id": "mQg6S880Fg9X"
      }
    },
    {
      "cell_type": "code",
      "source": [
        "# Membuat salinan dataframe untuk analisis korelasi\n",
        "# Membuat salinan dataframe untuk analisis korelasi\n",
        "df_corr = df.copy()\n",
        "df_corr['TotalCharges'] = pd.to_numeric(df_corr['TotalCharges'], errors='coerce')\n",
        "df_corr['Churn'] = df_corr['Churn'].map({'No': 0, 'Yes': 1})\n",
        "numerical_cols_for_corr = df_corr.select_dtypes(include=np.number).columns\n",
        "plt.figure(figsize=(15, 12))\n",
        "sns.heatmap(df_corr[numerical_cols_for_corr].corr(), annot=True, fmt='.2f', cmap='coolwarm')\n",
        "plt.title('Matriks Korelasi Antar Fitur Numerik')\n",
        "plt.show()\n"
      ],
      "metadata": {
        "colab": {
          "base_uri": "https://localhost:8080/",
          "height": 1000
        },
        "id": "MEdWRjXpU62T",
        "outputId": "f25eb933-40e4-41bd-fab9-7b6b8c72d915"
      },
      "execution_count": 184,
      "outputs": [
        {
          "output_type": "display_data",
          "data": {
            "text/plain": [
              "<Figure size 1500x1200 with 2 Axes>"
            ],
            "image/png": "[encoded data removed]"
          },
          "metadata": {}
        }
      ]
    },
    {
      "cell_type": "markdown",
      "source": [
        "outlier cek"
      ],
      "metadata": {
        "id": "qT1R289AFdOR"
      }
    },
    {
      "cell_type": "code",
      "source": [
        "# Mentukan kolom numerik yang akan diperiksa (termasuk TotalCharges setelah diperbaiki)\n",
        "kolom_numerik_cek = ['tenure', 'MonthlyCharges', 'TotalCharges']\n",
        "# Buat dataframe sementara hanya untuk pengecekan outlier\n",
        "df_cek_outlier = df.copy()\n",
        "df_cek_outlier['TotalCharges'] = pd.to_numeric(df_cek_outlier['TotalCharges'], errors='coerce')\n",
        "df_cek_outlier.dropna(inplace=True)\n",
        "\n",
        "plt.figure(figsize=(15, 7))\n",
        "sns.boxplot(data=df_cek_outlier[kolom_numerik_cek])\n",
        "plt.title('Box Plot untuk Deteksi Outlier', fontsize=16)\n",
        "plt.show()\n"
      ],
      "metadata": {
        "colab": {
          "base_uri": "https://localhost:8080/",
          "height": 624
        },
        "id": "jr3cRd5FFQpo",
        "outputId": "2c02ff9b-0818-4cb9-ed2f-052c2ba571cf"
      },
      "execution_count": 185,
      "outputs": [
        {
          "output_type": "display_data",
          "data": {
            "text/plain": [
              "<Figure size 1500x700 with 1 Axes>"
            ],
            "image/png": "[encoded data removed]"
          },
          "metadata": {}
        }
      ]
    },
    {
      "cell_type": "markdown",
      "source": [
        "PEMBERSIHAN DAN PERSIAPAN DATA (PREPROCESSING)"
      ],
      "metadata": {
        "id": "k1qulePzO9xC"
      }
    },
    {
      "cell_type": "code",
      "source": [
        "# Menghapus kolom customerID yang tidak relevan\n",
        "df.drop('customerID', axis=1, inplace=True)"
      ],
      "metadata": {
        "id": "qxBzZcGfOuQ9"
      },
      "execution_count": 186,
      "outputs": []
    },
    {
      "cell_type": "code",
      "source": [
        "# Memperbaiki kolom 'TotalCharges' yang seharusnya numerik\n",
        "df['TotalCharges'] = pd.to_numeric(df['TotalCharges'], errors='coerce')\n",
        "print(f\"Jumlah nilai hilang di 'TotalCharges' setelah konversi: {df['TotalCharges'].isnull().sum()}\")\n",
        "df.dropna(inplace=True)"
      ],
      "metadata": {
        "colab": {
          "base_uri": "https://localhost:8080/"
        },
        "id": "5gPl9lvBV8FJ",
        "outputId": "1b3338e9-7f9f-4701-b19c-d9c2558de7bd"
      },
      "execution_count": 187,
      "outputs": [
        {
          "output_type": "stream",
          "name": "stdout",
          "text": [
            "Jumlah nilai hilang di 'TotalCharges' setelah konversi: 11\n"
          ]
        }
      ]
    },
    {
      "cell_type": "code",
      "source": [
        "# Menghapus baris yang memiliki data hilang (NaN)\n",
        "df.dropna(inplace=True)"
      ],
      "metadata": {
        "id": "V1gihxSCWD0w"
      },
      "execution_count": 188,
      "outputs": []
    },
    {
      "cell_type": "code",
      "source": [
        "# Penanganan outlier\n",
        "for col in ['tenure', 'MonthlyCharges', 'TotalCharges']:\n",
        "    Q1 = df[col].quantile(0.25)\n",
        "    Q3 = df[col].quantile(0.75)\n",
        "    IQR = Q3 - Q1\n",
        "    lower_bound = Q1 - 1.5 * IQR\n",
        "    upper_bound = Q3 + 1.5 * IQR\n",
        "\n",
        "    outliers = df[(df[col] < lower_bound) | (df[col] > upper_bound)]\n",
        "    print(f\"Outlier di kolom {col}: {len(outliers)} baris\")"
      ],
      "metadata": {
        "id": "90IIAtaMGu7S",
        "colab": {
          "base_uri": "https://localhost:8080/"
        },
        "outputId": "2df9a1c8-598d-4d8c-9759-718e713e95d5"
      },
      "execution_count": 189,
      "outputs": [
        {
          "output_type": "stream",
          "name": "stdout",
          "text": [
            "Outlier di kolom tenure: 5 baris\n",
            "Outlier di kolom MonthlyCharges: 0 baris\n",
            "Outlier di kolom TotalCharges: 0 baris\n"
          ]
        }
      ]
    },
    {
      "cell_type": "code",
      "source": [
        "print(\"Menyamakan nilai pada kolom 'gender'...\")\n",
        "df['gender'] = df['gender'].replace({'F': 'Female', 'M': 'Male'})\n",
        "# Memeriksa hasilnya untuk memastikan hanya ada 2 nilai unik\n",
        "print(\"Nilai unik di kolom 'gender' setelah standardisasi:\")\n",
        "print(df['gender'].value_counts())"
      ],
      "metadata": {
        "colab": {
          "base_uri": "https://localhost:8080/"
        },
        "id": "cENvPRrxNQIe",
        "outputId": "50d3e8d4-f5d5-4fe6-e330-ce86d2312b6a"
      },
      "execution_count": 190,
      "outputs": [
        {
          "output_type": "stream",
          "name": "stdout",
          "text": [
            "Menyamakan nilai pada kolom 'gender'...\n",
            "Nilai unik di kolom 'gender' setelah standardisasi:\n",
            "gender\n",
            "Male      3546\n",
            "Female    3479\n",
            "Name: count, dtype: int64\n"
          ]
        }
      ]
    },
    {
      "cell_type": "markdown",
      "source": [
        "pelabelan target dan konstruksi fitur"
      ],
      "metadata": {
        "id": "4H6vA_5FHQFB"
      }
    },
    {
      "cell_type": "code",
      "source": [
        "# Mengubah kolom target 'Churn' dari 'Yes'/'No' menjadi 1/0\n",
        "df['Churn'] = df['Churn'].map({'No': 0, 'Yes': 1})"
      ],
      "metadata": {
        "id": "uxpJnBUrWIR-"
      },
      "execution_count": 191,
      "outputs": []
    },
    {
      "cell_type": "code",
      "source": [
        "# Mengubah semua sisa kolom kategorikal menjadi numerik menggunakan One-Hot Encoding\n",
        "categorical_cols = df.select_dtypes(include=['object']).columns\n",
        "df = pd.get_dummies(df, columns=categorical_cols, drop_first=True)\n"
      ],
      "metadata": {
        "id": "6fa475C5WLrb"
      },
      "execution_count": 192,
      "outputs": []
    },
    {
      "cell_type": "code",
      "source": [
        "print(\"Pembersihan dan transformasi data selesai.\")\n",
        "print(f\"Bentuk data setelah diolah: {df.shape[0]} baris, {df.shape[1]} kolom.\")"
      ],
      "metadata": {
        "colab": {
          "base_uri": "https://localhost:8080/"
        },
        "id": "qCzI0ylJWPiK",
        "outputId": "ec18ff6f-7e32-468b-89e4-3726718c44ae"
      },
      "execution_count": 193,
      "outputs": [
        {
          "output_type": "stream",
          "name": "stdout",
          "text": [
            "Pembersihan dan transformasi data selesai.\n",
            "Bentuk data setelah diolah: 7025 baris, 31 kolom.\n"
          ]
        }
      ]
    },
    {
      "cell_type": "code",
      "source": [
        "df.info()"
      ],
      "metadata": {
        "colab": {
          "base_uri": "https://localhost:8080/"
        },
        "id": "ZvqQijeqPE2h",
        "outputId": "8deb68e5-d79d-49f4-c63e-d468c664eb76"
      },
      "execution_count": 194,
      "outputs": [
        {
          "output_type": "stream",
          "name": "stdout",
          "text": [
            "<class 'pandas.core.frame.DataFrame'>\n",
            "Index: 7025 entries, 0 to 7042\n",
            "Data columns (total 31 columns):\n",
            " #   Column                                 Non-Null Count  Dtype  \n",
            "---  ------                                 --------------  -----  \n",
            " 0   SeniorCitizen                          7025 non-null   int64  \n",
            " 1   tenure                                 7025 non-null   float64\n",
            " 2   MonthlyCharges                         7025 non-null   float64\n",
            " 3   TotalCharges                           7025 non-null   float64\n",
            " 4   Churn                                  7025 non-null   int64  \n",
            " 5   gender_Male                            7025 non-null   bool   \n",
            " 6   Partner_Yes                            7025 non-null   bool   \n",
            " 7   Dependents_Yes                         7025 non-null   bool   \n",
            " 8   PhoneService_Yes                       7025 non-null   bool   \n",
            " 9   MultipleLines_No phone service         7025 non-null   bool   \n",
            " 10  MultipleLines_Yes                      7025 non-null   bool   \n",
            " 11  InternetService_Fiber optic            7025 non-null   bool   \n",
            " 12  InternetService_No                     7025 non-null   bool   \n",
            " 13  OnlineSecurity_No internet service     7025 non-null   bool   \n",
            " 14  OnlineSecurity_Yes                     7025 non-null   bool   \n",
            " 15  OnlineBackup_No internet service       7025 non-null   bool   \n",
            " 16  OnlineBackup_Yes                       7025 non-null   bool   \n",
            " 17  DeviceProtection_No internet service   7025 non-null   bool   \n",
            " 18  DeviceProtection_Yes                   7025 non-null   bool   \n",
            " 19  TechSupport_No internet service        7025 non-null   bool   \n",
            " 20  TechSupport_Yes                        7025 non-null   bool   \n",
            " 21  StreamingTV_No internet service        7025 non-null   bool   \n",
            " 22  StreamingTV_Yes                        7025 non-null   bool   \n",
            " 23  StreamingMovies_No internet service    7025 non-null   bool   \n",
            " 24  StreamingMovies_Yes                    7025 non-null   bool   \n",
            " 25  Contract_One year                      7025 non-null   bool   \n",
            " 26  Contract_Two year                      7025 non-null   bool   \n",
            " 27  PaperlessBilling_Yes                   7025 non-null   bool   \n",
            " 28  PaymentMethod_Credit card (automatic)  7025 non-null   bool   \n",
            " 29  PaymentMethod_Electronic check         7025 non-null   bool   \n",
            " 30  PaymentMethod_Mailed check             7025 non-null   bool   \n",
            "dtypes: bool(26), float64(3), int64(2)\n",
            "memory usage: 507.7 KB\n"
          ]
        }
      ]
    },
    {
      "cell_type": "code",
      "source": [
        "df.describe()"
      ],
      "metadata": {
        "colab": {
          "base_uri": "https://localhost:8080/",
          "height": 300
        },
        "id": "j4Kn4dpn5ciO",
        "outputId": "e68f8b03-4e9c-4ef2-ddfe-5ec1f50eb55d"
      },
      "execution_count": 195,
      "outputs": [
        {
          "output_type": "execute_result",
          "data": {
            "text/plain": [
              "       SeniorCitizen       tenure  MonthlyCharges  TotalCharges        Churn\n",
              "count    7025.000000  7025.000000     7025.000000   7025.000000  7025.000000\n",
              "mean        0.162420    35.107616       64.783573   2283.251964     0.265907\n",
              "std         0.368862   115.396389       30.077709   2266.970388     0.441847\n",
              "min         0.000000     1.000000       18.250000     18.800000     0.000000\n",
              "25%         0.000000     9.000000       35.550000    401.300000     0.000000\n",
              "50%         0.000000    29.000000       70.350000   1396.900000     0.000000\n",
              "75%         0.000000    56.000000       89.850000   3794.500000     1.000000\n",
              "max         1.000000  7100.000000      118.750000   8684.800000     1.000000"
            ],
            "text/html": [
              "\n",
              "  <div id=\"df-537c4e4e-55eb-4c65-ab4a-332f6beaa1cd\" class=\"colab-df-container\">\n",
              "    <div>\n",
              "<style scoped>\n",
              "    .dataframe tbody tr th:only-of-type {\n",
              "        vertical-align: middle;\n",
              "    }\n",
              "\n",
              "    .dataframe tbody tr th {\n",
              "        vertical-align: top;\n",
              "    }\n",
              "\n",
              "    .dataframe thead th {\n",
              "        text-align: right;\n",
              "    }\n",
              "</style>\n",
              "<table border=\"1\" class=\"dataframe\">\n",
              "  <thead>\n",
              "    <tr style=\"text-align: right;\">\n",
              "      <th></th>\n",
              "      <th>SeniorCitizen</th>\n",
              "      <th>tenure</th>\n",
              "      <th>MonthlyCharges</th>\n",
              "      <th>TotalCharges</th>\n",
              "      <th>Churn</th>\n",
              "    </tr>\n",
              "  </thead>\n",
              "  <tbody>\n",
              "    <tr>\n",
              "      <th>count</th>\n",
              "      <td>7025.000000</td>\n",
              "      <td>7025.000000</td>\n",
              "      <td>7025.000000</td>\n",
              "      <td>7025.000000</td>\n",
              "      <td>7025.000000</td>\n",
              "    </tr>\n",
              "    <tr>\n",
              "      <th>mean</th>\n",
              "      <td>0.162420</td>\n",
              "      <td>35.107616</td>\n",
              "      <td>64.783573</td>\n",
              "      <td>2283.251964</td>\n",
              "      <td>0.265907</td>\n",
              "    </tr>\n",
              "    <tr>\n",
              "      <th>std</th>\n",
              "      <td>0.368862</td>\n",
              "      <td>115.396389</td>\n",
              "      <td>30.077709</td>\n",
              "      <td>2266.970388</td>\n",
              "      <td>0.441847</td>\n",
              "    </tr>\n",
              "    <tr>\n",
              "      <th>min</th>\n",
              "      <td>0.000000</td>\n",
              "      <td>1.000000</td>\n",
              "      <td>18.250000</td>\n",
              "      <td>18.800000</td>\n",
              "      <td>0.000000</td>\n",
              "    </tr>\n",
              "    <tr>\n",
              "      <th>25%</th>\n",
              "      <td>0.000000</td>\n",
              "      <td>9.000000</td>\n",
              "      <td>35.550000</td>\n",
              "      <td>401.300000</td>\n",
              "      <td>0.000000</td>\n",
              "    </tr>\n",
              "    <tr>\n",
              "      <th>50%</th>\n",
              "      <td>0.000000</td>\n",
              "      <td>29.000000</td>\n",
              "      <td>70.350000</td>\n",
              "      <td>1396.900000</td>\n",
              "      <td>0.000000</td>\n",
              "    </tr>\n",
              "    <tr>\n",
              "      <th>75%</th>\n",
              "      <td>0.000000</td>\n",
              "      <td>56.000000</td>\n",
              "      <td>89.850000</td>\n",
              "      <td>3794.500000</td>\n",
              "      <td>1.000000</td>\n",
              "    </tr>\n",
              "    <tr>\n",
              "      <th>max</th>\n",
              "      <td>1.000000</td>\n",
              "      <td>7100.000000</td>\n",
              "      <td>118.750000</td>\n",
              "      <td>8684.800000</td>\n",
              "      <td>1.000000</td>\n",
              "    </tr>\n",
              "  </tbody>\n",
              "</table>\n",
              "</div>\n",
              "    <div class=\"colab-df-buttons\">\n",
              "\n",
              "  <div class=\"colab-df-container\">\n",
              "    <button class=\"colab-df-convert\" onclick=\"convertToInteractive('df-537c4e4e-55eb-4c65-ab4a-332f6beaa1cd')\"\n",
              "            title=\"Convert this dataframe to an interactive table.\"\n",
              "            style=\"display:none;\">\n",
              "\n",
              "  <svg xmlns=\"http://www.w3.org/2000/svg\" height=\"24px\" viewBox=\"0 -960 960 960\">\n",
              "    <path d=\"M120-120v-720h720v720H120Zm60-500h600v-160H180v160Zm220 220h160v-160H400v160Zm0 220h160v-160H400v160ZM180-400h160v-160H180v160Zm440 0h160v-160H620v160ZM180-180h160v-160H180v160Zm440 0h160v-160H620v160Z\"/>\n",
              "  </svg>\n",
              "    </button>\n",
              "\n",
              "  <style>\n",
              "    .colab-df-container {\n",
              "      display:flex;\n",
              "      gap: 12px;\n",
              "    }\n",
              "\n",
              "    .colab-df-convert {\n",
              "      background-color: #E8F0FE;\n",
              "      border: none;\n",
              "      border-radius: 50%;\n",
              "      cursor: pointer;\n",
              "      display: none;\n",
              "      fill: #1967D2;\n",
              "      height: 32px;\n",
              "      padding: 0 0 0 0;\n",
              "      width: 32px;\n",
              "    }\n",
              "\n",
              "    .colab-df-convert:hover {\n",
              "      background-color: #E2EBFA;\n",
              "      box-shadow: 0px 1px 2px rgba(60, 64, 67, 0.3), 0px 1px 3px 1px rgba(60, 64, 67, 0.15);\n",
              "      fill: #174EA6;\n",
              "    }\n",
              "\n",
              "    .colab-df-buttons div {\n",
              "      margin-bottom: 4px;\n",
              "    }\n",
              "\n",
              "    [theme=dark] .colab-df-convert {\n",
              "      background-color: #3B4455;\n",
              "      fill: #D2E3FC;\n",
              "    }\n",
              "\n",
              "    [theme=dark] .colab-df-convert:hover {\n",
              "      background-color: #434B5C;\n",
              "      box-shadow: 0px 1px 3px 1px rgba(0, 0, 0, 0.15);\n",
              "      filter: drop-shadow(0px 1px 2px rgba(0, 0, 0, 0.3));\n",
              "      fill: #FFFFFF;\n",
              "    }\n",
              "  </style>\n",
              "\n",
              "    <script>\n",
              "      const buttonEl =\n",
              "        document.querySelector('#df-537c4e4e-55eb-4c65-ab4a-332f6beaa1cd button.colab-df-convert');\n",
              "      buttonEl.style.display =\n",
              "        google.colab.kernel.accessAllowed ? 'block' : 'none';\n",
              "\n",
              "      async function convertToInteractive(key) {\n",
              "        const element = document.querySelector('#df-537c4e4e-55eb-4c65-ab4a-332f6beaa1cd');\n",
              "        const dataTable =\n",
              "          await google.colab.kernel.invokeFunction('convertToInteractive',\n",
              "                                                    [key], {});\n",
              "        if (!dataTable) return;\n",
              "\n",
              "        const docLinkHtml = 'Like what you see? Visit the ' +\n",
              "          '<a target=\"_blank\" href=https://colab.research.google.com/notebooks/data_table.ipynb>data table notebook</a>'\n",
              "          + ' to learn more about interactive tables.';\n",
              "        element.innerHTML = '';\n",
              "        dataTable['output_type'] = 'display_data';\n",
              "        await google.colab.output.renderOutput(dataTable, element);\n",
              "        const docLink = document.createElement('div');\n",
              "        docLink.innerHTML = docLinkHtml;\n",
              "        element.appendChild(docLink);\n",
              "      }\n",
              "    </script>\n",
              "  </div>\n",
              "\n",
              "\n",
              "    <div id=\"df-2a7d1b92-8d15-4697-a983-0314836157d9\">\n",
              "      <button class=\"colab-df-quickchart\" onclick=\"quickchart('df-2a7d1b92-8d15-4697-a983-0314836157d9')\"\n",
              "                title=\"Suggest charts\"\n",
              "                style=\"display:none;\">\n",
              "\n",
              "<svg xmlns=\"http://www.w3.org/2000/svg\" height=\"24px\"viewBox=\"0 0 24 24\"\n",
              "     width=\"24px\">\n",
              "    <g>\n",
              "        <path d=\"M19 3H5c-1.1 0-2 .9-2 2v14c0 1.1.9 2 2 2h14c1.1 0 2-.9 2-2V5c0-1.1-.9-2-2-2zM9 17H7v-7h2v7zm4 0h-2V7h2v10zm4 0h-2v-4h2v4z\"/>\n",
              "    </g>\n",
              "</svg>\n",
              "      </button>\n",
              "\n",
              "<style>\n",
              "  .colab-df-quickchart {\n",
              "      --bg-color: #E8F0FE;\n",
              "      --fill-color: #1967D2;\n",
              "      --hover-bg-color: #E2EBFA;\n",
              "      --hover-fill-color: #174EA6;\n",
              "      --disabled-fill-color: #AAA;\n",
              "      --disabled-bg-color: #DDD;\n",
              "  }\n",
              "\n",
              "  [theme=dark] .colab-df-quickchart {\n",
              "      --bg-color: #3B4455;\n",
              "      --fill-color: #D2E3FC;\n",
              "      --hover-bg-color: #434B5C;\n",
              "      --hover-fill-color: #FFFFFF;\n",
              "      --disabled-bg-color: #3B4455;\n",
              "      --disabled-fill-color: #666;\n",
              "  }\n",
              "\n",
              "  .colab-df-quickchart {\n",
              "    background-color: var(--bg-color);\n",
              "    border: none;\n",
              "    border-radius: 50%;\n",
              "    cursor: pointer;\n",
              "    display: none;\n",
              "    fill: var(--fill-color);\n",
              "    height: 32px;\n",
              "    padding: 0;\n",
              "    width: 32px;\n",
              "  }\n",
              "\n",
              "  .colab-df-quickchart:hover {\n",
              "    background-color: var(--hover-bg-color);\n",
              "    box-shadow: 0 1px 2px rgba(60, 64, 67, 0.3), 0 1px 3px 1px rgba(60, 64, 67, 0.15);\n",
              "    fill: var(--button-hover-fill-color);\n",
              "  }\n",
              "\n",
              "  .colab-df-quickchart-complete:disabled,\n",
              "  .colab-df-quickchart-complete:disabled:hover {\n",
              "    background-color: var(--disabled-bg-color);\n",
              "    fill: var(--disabled-fill-color);\n",
              "    box-shadow: none;\n",
              "  }\n",
              "\n",
              "  .colab-df-spinner {\n",
              "    border: 2px solid var(--fill-color);\n",
              "    border-color: transparent;\n",
              "    border-bottom-color: var(--fill-color);\n",
              "    animation:\n",
              "      spin 1s steps(1) infinite;\n",
              "  }\n",
              "\n",
              "  @keyframes spin {\n",
              "    0% {\n",
              "      border-color: transparent;\n",
              "      border-bottom-color: var(--fill-color);\n",
              "      border-left-color: var(--fill-color);\n",
              "    }\n",
              "    20% {\n",
              "      border-color: transparent;\n",
              "      border-left-color: var(--fill-color);\n",
              "      border-top-color: var(--fill-color);\n",
              "    }\n",
              "    30% {\n",
              "      border-color: transparent;\n",
              "      border-left-color: var(--fill-color);\n",
              "      border-top-color: var(--fill-color);\n",
              "      border-right-color: var(--fill-color);\n",
              "    }\n",
              "    40% {\n",
              "      border-color: transparent;\n",
              "      border-right-color: var(--fill-color);\n",
              "      border-top-color: var(--fill-color);\n",
              "    }\n",
              "    60% {\n",
              "      border-color: transparent;\n",
              "      border-right-color: var(--fill-color);\n",
              "    }\n",
              "    80% {\n",
              "      border-color: transparent;\n",
              "      border-right-color: var(--fill-color);\n",
              "      border-bottom-color: var(--fill-color);\n",
              "    }\n",
              "    90% {\n",
              "      border-color: transparent;\n",
              "      border-bottom-color: var(--fill-color);\n",
              "    }\n",
              "  }\n",
              "</style>\n",
              "\n",
              "      <script>\n",
              "        async function quickchart(key) {\n",
              "          const quickchartButtonEl =\n",
              "            document.querySelector('#' + key + ' button');\n",
              "          quickchartButtonEl.disabled = true;  // To prevent multiple clicks.\n",
              "          quickchartButtonEl.classList.add('colab-df-spinner');\n",
              "          try {\n",
              "            const charts = await google.colab.kernel.invokeFunction(\n",
              "                'suggestCharts', [key], {});\n",
              "          } catch (error) {\n",
              "            console.error('Error during call to suggestCharts:', error);\n",
              "          }\n",
              "          quickchartButtonEl.classList.remove('colab-df-spinner');\n",
              "          quickchartButtonEl.classList.add('colab-df-quickchart-complete');\n",
              "        }\n",
              "        (() => {\n",
              "          let quickchartButtonEl =\n",
              "            document.querySelector('#df-2a7d1b92-8d15-4697-a983-0314836157d9 button');\n",
              "          quickchartButtonEl.style.display =\n",
              "            google.colab.kernel.accessAllowed ? 'block' : 'none';\n",
              "        })();\n",
              "      </script>\n",
              "    </div>\n",
              "\n",
              "    </div>\n",
              "  </div>\n"
            ],
            "application/vnd.google.colaboratory.intrinsic+json": {
              "type": "dataframe",
              "summary": "{\n  \"name\": \"df\",\n  \"rows\": 8,\n  \"fields\": [\n    {\n      \"column\": \"SeniorCitizen\",\n      \"properties\": {\n        \"dtype\": \"number\",\n        \"std\": 2483.63525130617,\n        \"min\": 0.0,\n        \"max\": 7025.0,\n        \"num_unique_values\": 5,\n        \"samples\": [\n          0.16241992882562278,\n          1.0,\n          0.3688618486427022\n        ],\n        \"semantic_type\": \"\",\n        \"description\": \"\"\n      }\n    },\n    {\n      \"column\": \"tenure\",\n      \"properties\": {\n        \"dtype\": \"number\",\n        \"std\": 3250.6111447683816,\n        \"min\": 1.0,\n        \"max\": 7100.0,\n        \"num_unique_values\": 8,\n        \"samples\": [\n          35.10761565836299,\n          29.0,\n          7025.0\n        ],\n        \"semantic_type\": \"\",\n        \"description\": \"\"\n      }\n    },\n    {\n      \"column\": \"MonthlyCharges\",\n      \"properties\": {\n        \"dtype\": \"number\",\n        \"std\": 2462.3383278938477,\n        \"min\": 18.25,\n        \"max\": 7025.0,\n        \"num_unique_values\": 8,\n        \"samples\": [\n          64.78357295373667,\n          70.35,\n          7025.0\n        ],\n        \"semantic_type\": \"\",\n        \"description\": \"\"\n      }\n    },\n    {\n      \"column\": \"TotalCharges\",\n      \"properties\": {\n        \"dtype\": \"number\",\n        \"std\": 3116.150709224101,\n        \"min\": 18.8,\n        \"max\": 8684.8,\n        \"num_unique_values\": 8,\n        \"samples\": [\n          2283.2519644128115,\n          1396.9,\n          7025.0\n        ],\n        \"semantic_type\": \"\",\n        \"description\": \"\"\n      }\n    },\n    {\n      \"column\": \"Churn\",\n      \"properties\": {\n        \"dtype\": \"number\",\n        \"std\": 2483.5758417258576,\n        \"min\": 0.0,\n        \"max\": 7025.0,\n        \"num_unique_values\": 5,\n        \"samples\": [\n          0.26590747330960857,\n          1.0,\n          0.4418466696474866\n        ],\n        \"semantic_type\": \"\",\n        \"description\": \"\"\n      }\n    }\n  ]\n}"
            }
          },
          "metadata": {},
          "execution_count": 195
        }
      ]
    },
    {
      "cell_type": "markdown",
      "source": [
        "misahin data"
      ],
      "metadata": {
        "id": "CSMPfzvlJA2k"
      }
    },
    {
      "cell_type": "code",
      "source": [
        "# Memisahkan fitur (X) dan target (y)\n",
        "X = df.drop('Churn', axis=1)\n",
        "y = df['Churn']\n",
        "# Membagi data menjadi 80% data latih dan 20% data uji\n",
        "X_train, X_test, y_train, y_test = train_test_split(X, y, test_size=0.2, random_state=42, stratify=y)\n",
        "print(f\"\\nData telah dibagi menjadi {X_train.shape[0]} data train (latih) dan {X_test.shape[0]} data test (uji).\")"
      ],
      "metadata": {
        "colab": {
          "base_uri": "https://localhost:8080/"
        },
        "id": "H86GVUiWPGzs",
        "outputId": "44b76bd7-b0e5-48c8-e0b2-1f63ef3f0886"
      },
      "execution_count": 196,
      "outputs": [
        {
          "output_type": "stream",
          "name": "stdout",
          "text": [
            "\n",
            "Data telah dibagi menjadi 5620 data train (latih) dan 1405 data test (uji).\n"
          ]
        }
      ]
    },
    {
      "cell_type": "markdown",
      "source": [
        "Bangun dan Latih Model :)\n",
        "\n"
      ],
      "metadata": {
        "id": "RfsiESriW1CZ"
      }
    },
    {
      "cell_type": "code",
      "source": [
        "# Decision Tree\n",
        "model_dt_awal = DecisionTreeClassifier(random_state=42)\n",
        "model_dt_awal.fit(X_train, y_train)\n",
        "print(\"Model Decision Tree berhasil dilatih.\")\n",
        "\n",
        "# LightGBM\n",
        "model_lgbm_awal = LGBMClassifier(random_state=42)\n",
        "model_lgbm_awal.fit(X_train, y_train)\n",
        "print(\"Model LightGBM berhasil dilatih.\")\n",
        "\n",
        "# Random Forest\n",
        "model_rf_awal = RandomForestClassifier(random_state=42, n_estimators=100)\n",
        "model_rf_awal.fit(X_train, y_train)\n",
        "print(\"Model Random Forest berhasil dilatih.\")"
      ],
      "metadata": {
        "colab": {
          "base_uri": "https://localhost:8080/"
        },
        "id": "s8xhFj7RW2Yi",
        "outputId": "51e7b80f-949f-455d-c2f3-70dc5a505723"
      },
      "execution_count": 197,
      "outputs": [
        {
          "output_type": "stream",
          "name": "stdout",
          "text": [
            "Model Decision Tree berhasil dilatih.\n",
            "[LightGBM] [Warning] Found whitespace in feature_names, replace with underlines\n",
            "[LightGBM] [Info] Number of positive: 1494, number of negative: 4126\n",
            "[LightGBM] [Info] Auto-choosing row-wise multi-threading, the overhead of testing was 0.000807 seconds.\n",
            "You can set `force_row_wise=true` to remove the overhead.\n",
            "And if memory is not enough, you can set `force_col_wise=true`.\n",
            "[LightGBM] [Info] Total Bins 639\n",
            "[LightGBM] [Info] Number of data points in the train set: 5620, number of used features: 30\n",
            "[LightGBM] [Info] [binary:BoostFromScore]: pavg=0.265836 -> initscore=-1.015851\n",
            "[LightGBM] [Info] Start training from score -1.015851\n",
            "Model LightGBM berhasil dilatih.\n",
            "Model Random Forest berhasil dilatih.\n"
          ]
        }
      ]
    },
    {
      "cell_type": "code",
      "source": [
        "# Metrik kesuksesan yang ditentukan\n",
        "target_accuracy = 0.70"
      ],
      "metadata": {
        "id": "_7aChyLJgcjo"
      },
      "execution_count": 198,
      "outputs": []
    },
    {
      "cell_type": "code",
      "source": [
        "# Evaluasi Model 1: Decision Tree\n",
        "print(\"MODEL 1: DECISION TREE\")\n",
        "y_pred_dt_awal = model_dt_awal.predict(X_test)\n",
        "accuracy_dt_awal = accuracy_score(y_test, y_pred_dt_awal)\n",
        "print(f\"\\nAkurasi Decision Tree (Awal): {accuracy_dt_awal:.2%}\")\n",
        "\n",
        "if accuracy_dt_awal > target_accuracy: print(\"Status: Target akurasi TERPENUHI.\")\n",
        "else: print(\"Status: Target akurasi TIDAK TERPENUHI.\")\n",
        "print(\"Laporan Klasifikasi:\\n\", classification_report(y_test, y_pred_dt_awal, target_names=['Tidak Churn', 'Churn']))\n",
        "\n",
        "cm_dt = confusion_matrix(y_test, y_pred_dt_awal)\n",
        "disp_dt = ConfusionMatrixDisplay(confusion_matrix=cm_dt, display_labels=['Tidak Churn', 'Churn']).plot(cmap=plt.cm.Blues)\n",
        "plt.title(\"Confusion Matrix - Decision Tree\")\n",
        "plt.show()"
      ],
      "metadata": {
        "colab": {
          "base_uri": "https://localhost:8080/",
          "height": 715
        },
        "id": "LzR6cSCcgOdh",
        "outputId": "0ba62c57-8526-47c5-c455-4961ddce3bc9"
      },
      "execution_count": 199,
      "outputs": [
        {
          "output_type": "stream",
          "name": "stdout",
          "text": [
            "MODEL 1: DECISION TREE\n",
            "\n",
            "Akurasi Decision Tree (Awal): 71.46%\n",
            "Status: Target akurasi TERPENUHI.\n",
            "Laporan Klasifikasi:\n",
            "               precision    recall  f1-score   support\n",
            "\n",
            " Tidak Churn       0.82      0.79      0.80      1031\n",
            "       Churn       0.47      0.51      0.49       374\n",
            "\n",
            "    accuracy                           0.71      1405\n",
            "   macro avg       0.64      0.65      0.65      1405\n",
            "weighted avg       0.72      0.71      0.72      1405\n",
            "\n"
          ]
        },
        {
          "output_type": "display_data",
          "data": {
            "text/plain": [
              "<Figure size 640x480 with 2 Axes>"
            ],
            "image/png": "[encoded data removed]"
          },
          "metadata": {}
        }
      ]
    },
    {
      "cell_type": "code",
      "source": [
        "# Evaluasi Model 2: LightGBM\n",
        "print(\"MODEL 2: LIGHTGBM \")\n",
        "y_pred_lgbm_awal = model_lgbm_awal.predict(X_test)\n",
        "accuracy_lgbm_awal = accuracy_score(y_test, y_pred_lgbm_awal)\n",
        "print(f\"Akurasi LightGBM (Awal): {accuracy_lgbm_awal:.2%}\")\n",
        "\n",
        "if accuracy_lgbm_awal > target_accuracy: print(\"Status: Target akurasi TERPENUHI.\")\n",
        "else: print(\"Status: Target akurasi TIDAK TERPENUHI.\")\n",
        "print(\"Laporan Klasifikasi:\\n\", classification_report(y_test, y_pred_lgbm_awal, target_names=['Tidak Churn', 'Churn']))\n",
        "\n",
        "cm_lgbm = confusion_matrix(y_test, y_pred_lgbm_awal)\n",
        "disp_lgbm = ConfusionMatrixDisplay(confusion_matrix=cm_lgbm, display_labels=['Tidak Churn', 'Churn']).plot(cmap=plt.cm.Purples)\n",
        "plt.title(\"Confusion Matrix - LightGBM\")\n",
        "plt.show()"
      ],
      "metadata": {
        "colab": {
          "base_uri": "https://localhost:8080/",
          "height": 698
        },
        "id": "Uc_aBw2UKE8t",
        "outputId": "61fe7593-a677-4a21-afb6-f4cb6ab2f925"
      },
      "execution_count": 200,
      "outputs": [
        {
          "output_type": "stream",
          "name": "stdout",
          "text": [
            "MODEL 2: LIGHTGBM \n",
            "Akurasi LightGBM (Awal): 79.43%\n",
            "Status: Target akurasi TERPENUHI.\n",
            "Laporan Klasifikasi:\n",
            "               precision    recall  f1-score   support\n",
            "\n",
            " Tidak Churn       0.85      0.88      0.86      1031\n",
            "       Churn       0.63      0.56      0.59       374\n",
            "\n",
            "    accuracy                           0.79      1405\n",
            "   macro avg       0.74      0.72      0.73      1405\n",
            "weighted avg       0.79      0.79      0.79      1405\n",
            "\n"
          ]
        },
        {
          "output_type": "display_data",
          "data": {
            "text/plain": [
              "<Figure size 640x480 with 2 Axes>"
            ],
            "image/png": "[encoded data removed]"
          },
          "metadata": {}
        }
      ]
    },
    {
      "cell_type": "code",
      "source": [
        "# Evaluasi Model 3: Random Forest (Awal)\n",
        "print(\"\\n\\n===== MODEL 3: RANDOM FOREST (AWAL) =====\")\n",
        "y_pred_rf_awal = model_rf_awal.predict(X_test)\n",
        "accuracy_rf_awal = accuracy_score(y_test, y_pred_rf_awal)\n",
        "print(f\"\\nAkurasi Random Forest (Awal): {accuracy_rf_awal:.2%}\")\n",
        "\n",
        "# Memeriksa apakah target akurasi terpenuhi\n",
        "if accuracy_rf_awal > target_accuracy:\n",
        "    print(\"Status: Target akurasi TERPENUHI.\")\n",
        "else:\n",
        "    print(\"Status: Target akurasi TIDAK TERPENUHI.\")\n",
        "\n",
        "# Menampilkan laporan klasifikasi\n",
        "print(\"Laporan Klasifikasi:\\n\", classification_report(y_test, y_pred_rf_awal, target_names=['Tidak Churn', 'Churn']))\n",
        "\n",
        "# Membuat dan menampilkan confusion matrix\n",
        "cm_rf_awal = confusion_matrix(y_test, y_pred_rf_awal)\n",
        "disp_rf_awal = ConfusionMatrixDisplay(confusion_matrix=cm_rf_awal, display_labels=['Tidak Churn', 'Churn']).plot(cmap=plt.cm.Greens)\n",
        "plt.title(\"Confusion Matrix - Random Forest (Awal)\")\n",
        "plt.show()"
      ],
      "metadata": {
        "colab": {
          "base_uri": "https://localhost:8080/",
          "height": 750
        },
        "id": "JeF4ehLBaFuf",
        "outputId": "f990c5fe-c113-4743-a82e-c95678be47a4"
      },
      "execution_count": 201,
      "outputs": [
        {
          "output_type": "stream",
          "name": "stdout",
          "text": [
            "\n",
            "\n",
            "===== MODEL 3: RANDOM FOREST (AWAL) =====\n",
            "\n",
            "Akurasi Random Forest (Awal): 78.86%\n",
            "Status: Target akurasi TERPENUHI.\n",
            "Laporan Klasifikasi:\n",
            "               precision    recall  f1-score   support\n",
            "\n",
            " Tidak Churn       0.83      0.89      0.86      1031\n",
            "       Churn       0.63      0.51      0.56       374\n",
            "\n",
            "    accuracy                           0.79      1405\n",
            "   macro avg       0.73      0.70      0.71      1405\n",
            "weighted avg       0.78      0.79      0.78      1405\n",
            "\n"
          ]
        },
        {
          "output_type": "display_data",
          "data": {
            "text/plain": [
              "<Figure size 640x480 with 2 Axes>"
            ],
            "image/png": "[encoded data removed]"
          },
          "metadata": {}
        }
      ]
    },
    {
      "cell_type": "code",
      "source": [
        "# --- Tuning untuk Decision Tree ---\n",
        "print(\"\\n1. Menjalankan Tuning untuk Decision Tree...\")\n",
        "param_grid_dt = {\n",
        "    'criterion': ['gini', 'entropy'],\n",
        "    'max_depth': [5, 10, None],\n",
        "    'min_samples_leaf': [1, 5, 10]\n",
        "}\n",
        "grid_search_dt = GridSearchCV(estimator=DecisionTreeClassifier(random_state=42),\n",
        "                              param_grid=param_grid_dt, cv=3, n_jobs=-1, scoring='accuracy')\n",
        "grid_search_dt.fit(X_train, y_train)\n",
        "model_dt_tuned = grid_search_dt.best_estimator_\n",
        "print(f\"   -> Parameter terbaik ditemukan: {grid_search_dt.best_params_}\")"
      ],
      "metadata": {
        "colab": {
          "base_uri": "https://localhost:8080/"
        },
        "id": "MDfjhVl7VgAo",
        "outputId": "8bfb094a-607d-499a-c9d6-ffcc24550ccc"
      },
      "execution_count": 202,
      "outputs": [
        {
          "output_type": "stream",
          "name": "stdout",
          "text": [
            "\n",
            "1. Menjalankan Tuning untuk Decision Tree...\n",
            "   -> Parameter terbaik ditemukan: {'criterion': 'entropy', 'max_depth': 5, 'min_samples_leaf': 5}\n"
          ]
        }
      ]
    },
    {
      "cell_type": "code",
      "source": [
        "# --- Tuning untuk LightGBM ---\n",
        "print(\"\\n2. Menjalankan Tuning untuk LightGBM...\")\n",
        "param_grid_lgbm = {\n",
        "    'n_estimators': [100, 200],\n",
        "    'learning_rate': [0.05, 0.1],\n",
        "    'num_leaves': [31, 40]\n",
        "}\n",
        "grid_search_lgbm = GridSearchCV(estimator=LGBMClassifier(random_state=42),\n",
        "                                param_grid=param_grid_lgbm, cv=3, n_jobs=-1, scoring='accuracy')\n",
        "grid_search_lgbm.fit(X_train, y_train)\n",
        "model_lgbm_tuned = grid_search_lgbm.best_estimator_\n",
        "print(f\"   -> Parameter terbaik ditemukan: {grid_search_lgbm.best_params_}\")"
      ],
      "metadata": {
        "colab": {
          "base_uri": "https://localhost:8080/"
        },
        "id": "Y560w16CViDV",
        "outputId": "fffb08af-ed91-4c51-cff2-d7e8e73019ea"
      },
      "execution_count": 203,
      "outputs": [
        {
          "output_type": "stream",
          "name": "stdout",
          "text": [
            "\n",
            "2. Menjalankan Tuning untuk LightGBM...\n",
            "[LightGBM] [Warning] Found whitespace in feature_names, replace with underlines\n",
            "[LightGBM] [Info] Number of positive: 1494, number of negative: 4126\n",
            "[LightGBM] [Info] Auto-choosing row-wise multi-threading, the overhead of testing was 0.000589 seconds.\n",
            "You can set `force_row_wise=true` to remove the overhead.\n",
            "And if memory is not enough, you can set `force_col_wise=true`.\n",
            "[LightGBM] [Info] Total Bins 639\n",
            "[LightGBM] [Info] Number of data points in the train set: 5620, number of used features: 30\n",
            "[LightGBM] [Info] [binary:BoostFromScore]: pavg=0.265836 -> initscore=-1.015851\n",
            "[LightGBM] [Info] Start training from score -1.015851\n",
            "   -> Parameter terbaik ditemukan: {'learning_rate': 0.05, 'n_estimators': 100, 'num_leaves': 31}\n"
          ]
        }
      ]
    },
    {
      "cell_type": "code",
      "source": [
        "# --- Tuning untuk Random Forest ---\n",
        "print(\"\\n3. Menjalankan Tuning untuk Random Forest...\")\n",
        "param_grid_rf = {\n",
        "    'n_estimators': [100, 200],\n",
        "    'max_depth': [10, 20],\n",
        "    'min_samples_leaf': [2, 5]\n",
        "}\n",
        "grid_search_rf = GridSearchCV(estimator=RandomForestClassifier(random_state=42),\n",
        "                              param_grid=param_grid_rf, cv=3, n_jobs=-1, scoring='accuracy')\n",
        "grid_search_rf.fit(X_train, y_train)\n",
        "model_rf_tuned = grid_search_rf.best_estimator_\n",
        "print(f\"   -> Parameter terbaik ditemukan: {grid_search_rf.best_params_}\")"
      ],
      "metadata": {
        "colab": {
          "base_uri": "https://localhost:8080/"
        },
        "id": "uGw6txNQabqc",
        "outputId": "5cb54de9-8adf-432b-d56f-acf5f09f1576"
      },
      "execution_count": 204,
      "outputs": [
        {
          "output_type": "stream",
          "name": "stdout",
          "text": [
            "\n",
            "3. Menjalankan Tuning untuk Random Forest...\n",
            "   -> Parameter terbaik ditemukan: {'max_depth': 10, 'min_samples_leaf': 5, 'n_estimators': 200}\n"
          ]
        }
      ]
    },
    {
      "cell_type": "code",
      "source": [
        "print(\"EVALUASI AKHIR DAN PERBANDINGAN SEMUA MODEL \")\n",
        "\n",
        "# --- Evaluasi AKHIR untuk SEMUA model yang sudah di-tuning ---\n",
        "\n",
        "# 1. Lakukan prediksi dan hitung akurasi untuk setiap model\n",
        "y_pred_dt_tuned = model_dt_tuned.predict(X_test)\n",
        "accuracy_dt_tuned = accuracy_score(y_test, y_pred_dt_tuned)\n",
        "\n",
        "y_pred_rf_tuned = model_rf_tuned.predict(X_test)\n",
        "accuracy_rf_tuned = accuracy_score(y_test, y_pred_rf_tuned)\n",
        "\n",
        "y_pred_lgbm_tuned = model_lgbm_tuned.predict(X_test)\n",
        "accuracy_lgbm_tuned = accuracy_score(y_test, y_pred_lgbm_tuned)\n",
        "\n",
        "\n",
        "# 2. Tampilkan hasil dalam bentuk tabel perbandingan yang rapi\n",
        "# Ini adalah cara terbaik untuk \"melihat perbandingan\"\n",
        "hasil_akhir = {\n",
        "    'Model': ['Decision Tree (setelah tuning)', 'Random Forest (setelah tuning)', 'LightGBM (setelah tuning)'],\n",
        "    'Akurasi': [accuracy_dt_tuned, accuracy_rf_tuned, accuracy_lgbm_tuned]\n",
        "}\n",
        "df_hasil_akhir = pd.DataFrame(hasil_akhir)\n",
        "\n",
        "print(\"\\n\\n===== TABEL PERBANDINGAN AKURASI MODEL AKHIR =====\")\n",
        "# Urutkan berdasarkan akurasi tertinggi\n",
        "print(df_hasil_akhir.sort_values(by='Akurasi', ascending=False))"
      ],
      "metadata": {
        "colab": {
          "base_uri": "https://localhost:8080/"
        },
        "id": "7ctOgMMEVi1k",
        "outputId": "c9a58f60-98ca-4b89-cc8d-1648db160387"
      },
      "execution_count": 205,
      "outputs": [
        {
          "output_type": "stream",
          "name": "stdout",
          "text": [
            "EVALUASI AKHIR DAN PERBANDINGAN SEMUA MODEL \n",
            "\n",
            "\n",
            "===== TABEL PERBANDINGAN AKURASI MODEL AKHIR =====\n",
            "                            Model   Akurasi\n",
            "1  Random Forest (setelah tuning)  0.796441\n",
            "2       LightGBM (setelah tuning)  0.790747\n",
            "0  Decision Tree (setelah tuning)  0.775089\n"
          ]
        }
      ]
    },
    {
      "cell_type": "code",
      "source": [],
      "metadata": {
        "id": "g1ulASHLdtzx"
      },
      "execution_count": null,
      "outputs": []
    }
  ]
}