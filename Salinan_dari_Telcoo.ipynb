{
  "nbformat": 4,
  "nbformat_minor": 0,
  "metadata": {
    "colab": {
      "provenance": [],
      "authorship_tag": "ABX9TyNn7466LBqkqfEsCo6kpnzR",
      "include_colab_link": true
    },
    "kernelspec": {
      "name": "python3",
      "display_name": "Python 3"
    },
    "language_info": {
      "name": "python"
    }
  },
  "cells": [
    {
      "cell_type": "markdown",
      "metadata": {
        "id": "view-in-github",
        "colab_type": "text"
      },
      "source": [
        "<a href=\"https://colab.research.google.com/github/zainamri/Kelompok-3-/blob/main/Salinan_dari_Telcoo.ipynb\" target=\"_parent\"><img src=\"https://colab.research.google.com/assets/colab-badge.svg\" alt=\"Open In Colab\"/></a>"
      ]
    },
    {
      "cell_type": "code",
      "execution_count": 1,
      "metadata": {
        "colab": {
          "base_uri": "https://localhost:8080/"
        },
        "id": "iHvM6w7_n0k5",
        "outputId": "1706cc15-c94b-4c5f-a7bf-931e282b204c"
      },
      "outputs": [
        {
          "output_type": "stream",
          "name": "stdout",
          "text": [
            "Jumlah data terinput: (7043, 21) baris\n"
          ]
        }
      ],
      "source": [
        "import pandas as pd\n",
        "import numpy as np\n",
        "import matplotlib.pyplot as plt\n",
        "import seaborn as sns\n",
        "from sklearn.model_selection import train_test_split, GridSearchCV\n",
        "from sklearn.tree import DecisionTreeClassifier\n",
        "from sklearn.ensemble import RandomForestClassifier\n",
        "from lightgbm import LGBMClassifier\n",
        "from sklearn.metrics import classification_report, accuracy_score, confusion_matrix, ConfusionMatrixDisplay\n",
        "\n",
        "# URL raw file GitHub\n",
        "url = \"https://raw.githubusercontent.com/arubhasy/dataset/main/Telco-Customer-Churn.csv\"\n",
        "\n",
        "# Membaca dataset\n",
        "df = pd.read_csv(url)\n",
        "\n",
        "print(f\"Jumlah data terinput: {df.shape} baris\")"
      ]
    },
    {
      "cell_type": "code",
      "source": [
        "# Menampilkan 5 baris pertama\n",
        "df.head()"
      ],
      "metadata": {
        "colab": {
          "base_uri": "https://localhost:8080/",
          "height": 342
        },
        "id": "jsdAr0LydZwi",
        "outputId": "d65f7d67-97b1-40dd-9d87-fda8e26f4dee"
      },
      "execution_count": 2,
      "outputs": [
        {
          "output_type": "execute_result",
          "data": {
            "text/plain": [
              "   customerID  gender  SeniorCitizen Partner Dependents  tenure PhoneService  \\\n",
              "0  7590-VHVEG       F              0     Yes         No     1.0           No   \n",
              "1  5575-GNVDE    Male              0      No         No    34.0          Yes   \n",
              "2  3668-QPYBK    Male              0      No         No     2.0          Yes   \n",
              "3  7795-CFOCW    Male              0      No         No    45.0           No   \n",
              "4  9237-HQITU  Female              0      No         No     2.0          Yes   \n",
              "\n",
              "      MultipleLines InternetService OnlineSecurity  ... DeviceProtection  \\\n",
              "0  No phone service             DSL             No  ...               No   \n",
              "1                No             DSL            Yes  ...              Yes   \n",
              "2                No             DSL            Yes  ...               No   \n",
              "3  No phone service             DSL            Yes  ...              Yes   \n",
              "4                No     Fiber optic             No  ...               No   \n",
              "\n",
              "  TechSupport StreamingTV StreamingMovies        Contract PaperlessBilling  \\\n",
              "0          No          No              No  Month-to-month              Yes   \n",
              "1          No          No              No        One year               No   \n",
              "2          No          No              No  Month-to-month              Yes   \n",
              "3         Yes          No              No        One year               No   \n",
              "4          No          No              No  Month-to-month              Yes   \n",
              "\n",
              "               PaymentMethod MonthlyCharges  TotalCharges Churn  \n",
              "0           Electronic check          29.85         29.85    No  \n",
              "1               Mailed check          56.95        1889.5    No  \n",
              "2               Mailed check          53.85        108.15   Yes  \n",
              "3  Bank transfer (automatic)          42.30       1840.75    No  \n",
              "4           Electronic check          70.70        151.65   Yes  \n",
              "\n",
              "[5 rows x 21 columns]"
            ],
            "text/html": [
              "\n",
              "  <div id=\"df-8a98fcc2-327b-44f2-8219-00684192d6d3\" class=\"colab-df-container\">\n",
              "    <div>\n",
              "<style scoped>\n",
              "    .dataframe tbody tr th:only-of-type {\n",
              "        vertical-align: middle;\n",
              "    }\n",
              "\n",
              "    .dataframe tbody tr th {\n",
              "        vertical-align: top;\n",
              "    }\n",
              "\n",
              "    .dataframe thead th {\n",
              "        text-align: right;\n",
              "    }\n",
              "</style>\n",
              "<table border=\"1\" class=\"dataframe\">\n",
              "  <thead>\n",
              "    <tr style=\"text-align: right;\">\n",
              "      <th></th>\n",
              "      <th>customerID</th>\n",
              "      <th>gender</th>\n",
              "      <th>SeniorCitizen</th>\n",
              "      <th>Partner</th>\n",
              "      <th>Dependents</th>\n",
              "      <th>tenure</th>\n",
              "      <th>PhoneService</th>\n",
              "      <th>MultipleLines</th>\n",
              "      <th>InternetService</th>\n",
              "      <th>OnlineSecurity</th>\n",
              "      <th>...</th>\n",
              "      <th>DeviceProtection</th>\n",
              "      <th>TechSupport</th>\n",
              "      <th>StreamingTV</th>\n",
              "      <th>StreamingMovies</th>\n",
              "      <th>Contract</th>\n",
              "      <th>PaperlessBilling</th>\n",
              "      <th>PaymentMethod</th>\n",
              "      <th>MonthlyCharges</th>\n",
              "      <th>TotalCharges</th>\n",
              "      <th>Churn</th>\n",
              "    </tr>\n",
              "  </thead>\n",
              "  <tbody>\n",
              "    <tr>\n",
              "      <th>0</th>\n",
              "      <td>7590-VHVEG</td>\n",
              "      <td>F</td>\n",
              "      <td>0</td>\n",
              "      <td>Yes</td>\n",
              "      <td>No</td>\n",
              "      <td>1.0</td>\n",
              "      <td>No</td>\n",
              "      <td>No phone service</td>\n",
              "      <td>DSL</td>\n",
              "      <td>No</td>\n",
              "      <td>...</td>\n",
              "      <td>No</td>\n",
              "      <td>No</td>\n",
              "      <td>No</td>\n",
              "      <td>No</td>\n",
              "      <td>Month-to-month</td>\n",
              "      <td>Yes</td>\n",
              "      <td>Electronic check</td>\n",
              "      <td>29.85</td>\n",
              "      <td>29.85</td>\n",
              "      <td>No</td>\n",
              "    </tr>\n",
              "    <tr>\n",
              "      <th>1</th>\n",
              "      <td>5575-GNVDE</td>\n",
              "      <td>Male</td>\n",
              "      <td>0</td>\n",
              "      <td>No</td>\n",
              "      <td>No</td>\n",
              "      <td>34.0</td>\n",
              "      <td>Yes</td>\n",
              "      <td>No</td>\n",
              "      <td>DSL</td>\n",
              "      <td>Yes</td>\n",
              "      <td>...</td>\n",
              "      <td>Yes</td>\n",
              "      <td>No</td>\n",
              "      <td>No</td>\n",
              "      <td>No</td>\n",
              "      <td>One year</td>\n",
              "      <td>No</td>\n",
              "      <td>Mailed check</td>\n",
              "      <td>56.95</td>\n",
              "      <td>1889.5</td>\n",
              "      <td>No</td>\n",
              "    </tr>\n",
              "    <tr>\n",
              "      <th>2</th>\n",
              "      <td>3668-QPYBK</td>\n",
              "      <td>Male</td>\n",
              "      <td>0</td>\n",
              "      <td>No</td>\n",
              "      <td>No</td>\n",
              "      <td>2.0</td>\n",
              "      <td>Yes</td>\n",
              "      <td>No</td>\n",
              "      <td>DSL</td>\n",
              "      <td>Yes</td>\n",
              "      <td>...</td>\n",
              "      <td>No</td>\n",
              "      <td>No</td>\n",
              "      <td>No</td>\n",
              "      <td>No</td>\n",
              "      <td>Month-to-month</td>\n",
              "      <td>Yes</td>\n",
              "      <td>Mailed check</td>\n",
              "      <td>53.85</td>\n",
              "      <td>108.15</td>\n",
              "      <td>Yes</td>\n",
              "    </tr>\n",
              "    <tr>\n",
              "      <th>3</th>\n",
              "      <td>7795-CFOCW</td>\n",
              "      <td>Male</td>\n",
              "      <td>0</td>\n",
              "      <td>No</td>\n",
              "      <td>No</td>\n",
              "      <td>45.0</td>\n",
              "      <td>No</td>\n",
              "      <td>No phone service</td>\n",
              "      <td>DSL</td>\n",
              "      <td>Yes</td>\n",
              "      <td>...</td>\n",
              "      <td>Yes</td>\n",
              "      <td>Yes</td>\n",
              "      <td>No</td>\n",
              "      <td>No</td>\n",
              "      <td>One year</td>\n",
              "      <td>No</td>\n",
              "      <td>Bank transfer (automatic)</td>\n",
              "      <td>42.30</td>\n",
              "      <td>1840.75</td>\n",
              "      <td>No</td>\n",
              "    </tr>\n",
              "    <tr>\n",
              "      <th>4</th>\n",
              "      <td>9237-HQITU</td>\n",
              "      <td>Female</td>\n",
              "      <td>0</td>\n",
              "      <td>No</td>\n",
              "      <td>No</td>\n",
              "      <td>2.0</td>\n",
              "      <td>Yes</td>\n",
              "      <td>No</td>\n",
              "      <td>Fiber optic</td>\n",
              "      <td>No</td>\n",
              "      <td>...</td>\n",
              "      <td>No</td>\n",
              "      <td>No</td>\n",
              "      <td>No</td>\n",
              "      <td>No</td>\n",
              "      <td>Month-to-month</td>\n",
              "      <td>Yes</td>\n",
              "      <td>Electronic check</td>\n",
              "      <td>70.70</td>\n",
              "      <td>151.65</td>\n",
              "      <td>Yes</td>\n",
              "    </tr>\n",
              "  </tbody>\n",
              "</table>\n",
              "<p>5 rows × 21 columns</p>\n",
              "</div>\n",
              "    <div class=\"colab-df-buttons\">\n",
              "\n",
              "  <div class=\"colab-df-container\">\n",
              "    <button class=\"colab-df-convert\" onclick=\"convertToInteractive('df-8a98fcc2-327b-44f2-8219-00684192d6d3')\"\n",
              "            title=\"Convert this dataframe to an interactive table.\"\n",
              "            style=\"display:none;\">\n",
              "\n",
              "  <svg xmlns=\"http://www.w3.org/2000/svg\" height=\"24px\" viewBox=\"0 -960 960 960\">\n",
              "    <path d=\"M120-120v-720h720v720H120Zm60-500h600v-160H180v160Zm220 220h160v-160H400v160Zm0 220h160v-160H400v160ZM180-400h160v-160H180v160Zm440 0h160v-160H620v160ZM180-180h160v-160H180v160Zm440 0h160v-160H620v160Z\"/>\n",
              "  </svg>\n",
              "    </button>\n",
              "\n",
              "  <style>\n",
              "    .colab-df-container {\n",
              "      display:flex;\n",
              "      gap: 12px;\n",
              "    }\n",
              "\n",
              "    .colab-df-convert {\n",
              "      background-color: #E8F0FE;\n",
              "      border: none;\n",
              "      border-radius: 50%;\n",
              "      cursor: pointer;\n",
              "      display: none;\n",
              "      fill: #1967D2;\n",
              "      height: 32px;\n",
              "      padding: 0 0 0 0;\n",
              "      width: 32px;\n",
              "    }\n",
              "\n",
              "    .colab-df-convert:hover {\n",
              "      background-color: #E2EBFA;\n",
              "      box-shadow: 0px 1px 2px rgba(60, 64, 67, 0.3), 0px 1px 3px 1px rgba(60, 64, 67, 0.15);\n",
              "      fill: #174EA6;\n",
              "    }\n",
              "\n",
              "    .colab-df-buttons div {\n",
              "      margin-bottom: 4px;\n",
              "    }\n",
              "\n",
              "    [theme=dark] .colab-df-convert {\n",
              "      background-color: #3B4455;\n",
              "      fill: #D2E3FC;\n",
              "    }\n",
              "\n",
              "    [theme=dark] .colab-df-convert:hover {\n",
              "      background-color: #434B5C;\n",
              "      box-shadow: 0px 1px 3px 1px rgba(0, 0, 0, 0.15);\n",
              "      filter: drop-shadow(0px 1px 2px rgba(0, 0, 0, 0.3));\n",
              "      fill: #FFFFFF;\n",
              "    }\n",
              "  </style>\n",
              "\n",
              "    <script>\n",
              "      const buttonEl =\n",
              "        document.querySelector('#df-8a98fcc2-327b-44f2-8219-00684192d6d3 button.colab-df-convert');\n",
              "      buttonEl.style.display =\n",
              "        google.colab.kernel.accessAllowed ? 'block' : 'none';\n",
              "\n",
              "      async function convertToInteractive(key) {\n",
              "        const element = document.querySelector('#df-8a98fcc2-327b-44f2-8219-00684192d6d3');\n",
              "        const dataTable =\n",
              "          await google.colab.kernel.invokeFunction('convertToInteractive',\n",
              "                                                    [key], {});\n",
              "        if (!dataTable) return;\n",
              "\n",
              "        const docLinkHtml = 'Like what you see? Visit the ' +\n",
              "          '<a target=\"_blank\" href=https://colab.research.google.com/notebooks/data_table.ipynb>data table notebook</a>'\n",
              "          + ' to learn more about interactive tables.';\n",
              "        element.innerHTML = '';\n",
              "        dataTable['output_type'] = 'display_data';\n",
              "        await google.colab.output.renderOutput(dataTable, element);\n",
              "        const docLink = document.createElement('div');\n",
              "        docLink.innerHTML = docLinkHtml;\n",
              "        element.appendChild(docLink);\n",
              "      }\n",
              "    </script>\n",
              "  </div>\n",
              "\n",
              "\n",
              "    <div id=\"df-3ebc6cd6-dcf9-4c01-bfff-42ea6c107b07\">\n",
              "      <button class=\"colab-df-quickchart\" onclick=\"quickchart('df-3ebc6cd6-dcf9-4c01-bfff-42ea6c107b07')\"\n",
              "                title=\"Suggest charts\"\n",
              "                style=\"display:none;\">\n",
              "\n",
              "<svg xmlns=\"http://www.w3.org/2000/svg\" height=\"24px\"viewBox=\"0 0 24 24\"\n",
              "     width=\"24px\">\n",
              "    <g>\n",
              "        <path d=\"M19 3H5c-1.1 0-2 .9-2 2v14c0 1.1.9 2 2 2h14c1.1 0 2-.9 2-2V5c0-1.1-.9-2-2-2zM9 17H7v-7h2v7zm4 0h-2V7h2v10zm4 0h-2v-4h2v4z\"/>\n",
              "    </g>\n",
              "</svg>\n",
              "      </button>\n",
              "\n",
              "<style>\n",
              "  .colab-df-quickchart {\n",
              "      --bg-color: #E8F0FE;\n",
              "      --fill-color: #1967D2;\n",
              "      --hover-bg-color: #E2EBFA;\n",
              "      --hover-fill-color: #174EA6;\n",
              "      --disabled-fill-color: #AAA;\n",
              "      --disabled-bg-color: #DDD;\n",
              "  }\n",
              "\n",
              "  [theme=dark] .colab-df-quickchart {\n",
              "      --bg-color: #3B4455;\n",
              "      --fill-color: #D2E3FC;\n",
              "      --hover-bg-color: #434B5C;\n",
              "      --hover-fill-color: #FFFFFF;\n",
              "      --disabled-bg-color: #3B4455;\n",
              "      --disabled-fill-color: #666;\n",
              "  }\n",
              "\n",
              "  .colab-df-quickchart {\n",
              "    background-color: var(--bg-color);\n",
              "    border: none;\n",
              "    border-radius: 50%;\n",
              "    cursor: pointer;\n",
              "    display: none;\n",
              "    fill: var(--fill-color);\n",
              "    height: 32px;\n",
              "    padding: 0;\n",
              "    width: 32px;\n",
              "  }\n",
              "\n",
              "  .colab-df-quickchart:hover {\n",
              "    background-color: var(--hover-bg-color);\n",
              "    box-shadow: 0 1px 2px rgba(60, 64, 67, 0.3), 0 1px 3px 1px rgba(60, 64, 67, 0.15);\n",
              "    fill: var(--button-hover-fill-color);\n",
              "  }\n",
              "\n",
              "  .colab-df-quickchart-complete:disabled,\n",
              "  .colab-df-quickchart-complete:disabled:hover {\n",
              "    background-color: var(--disabled-bg-color);\n",
              "    fill: var(--disabled-fill-color);\n",
              "    box-shadow: none;\n",
              "  }\n",
              "\n",
              "  .colab-df-spinner {\n",
              "    border: 2px solid var(--fill-color);\n",
              "    border-color: transparent;\n",
              "    border-bottom-color: var(--fill-color);\n",
              "    animation:\n",
              "      spin 1s steps(1) infinite;\n",
              "  }\n",
              "\n",
              "  @keyframes spin {\n",
              "    0% {\n",
              "      border-color: transparent;\n",
              "      border-bottom-color: var(--fill-color);\n",
              "      border-left-color: var(--fill-color);\n",
              "    }\n",
              "    20% {\n",
              "      border-color: transparent;\n",
              "      border-left-color: var(--fill-color);\n",
              "      border-top-color: var(--fill-color);\n",
              "    }\n",
              "    30% {\n",
              "      border-color: transparent;\n",
              "      border-left-color: var(--fill-color);\n",
              "      border-top-color: var(--fill-color);\n",
              "      border-right-color: var(--fill-color);\n",
              "    }\n",
              "    40% {\n",
              "      border-color: transparent;\n",
              "      border-right-color: var(--fill-color);\n",
              "      border-top-color: var(--fill-color);\n",
              "    }\n",
              "    60% {\n",
              "      border-color: transparent;\n",
              "      border-right-color: var(--fill-color);\n",
              "    }\n",
              "    80% {\n",
              "      border-color: transparent;\n",
              "      border-right-color: var(--fill-color);\n",
              "      border-bottom-color: var(--fill-color);\n",
              "    }\n",
              "    90% {\n",
              "      border-color: transparent;\n",
              "      border-bottom-color: var(--fill-color);\n",
              "    }\n",
              "  }\n",
              "</style>\n",
              "\n",
              "      <script>\n",
              "        async function quickchart(key) {\n",
              "          const quickchartButtonEl =\n",
              "            document.querySelector('#' + key + ' button');\n",
              "          quickchartButtonEl.disabled = true;  // To prevent multiple clicks.\n",
              "          quickchartButtonEl.classList.add('colab-df-spinner');\n",
              "          try {\n",
              "            const charts = await google.colab.kernel.invokeFunction(\n",
              "                'suggestCharts', [key], {});\n",
              "          } catch (error) {\n",
              "            console.error('Error during call to suggestCharts:', error);\n",
              "          }\n",
              "          quickchartButtonEl.classList.remove('colab-df-spinner');\n",
              "          quickchartButtonEl.classList.add('colab-df-quickchart-complete');\n",
              "        }\n",
              "        (() => {\n",
              "          let quickchartButtonEl =\n",
              "            document.querySelector('#df-3ebc6cd6-dcf9-4c01-bfff-42ea6c107b07 button');\n",
              "          quickchartButtonEl.style.display =\n",
              "            google.colab.kernel.accessAllowed ? 'block' : 'none';\n",
              "        })();\n",
              "      </script>\n",
              "    </div>\n",
              "\n",
              "    </div>\n",
              "  </div>\n"
            ],
            "application/vnd.google.colaboratory.intrinsic+json": {
              "type": "dataframe",
              "variable_name": "df"
            }
          },
          "metadata": {},
          "execution_count": 2
        }
      ]
    },
    {
      "cell_type": "markdown",
      "source": [
        "menelaah data"
      ],
      "metadata": {
        "id": "tFtrSB3TDmIp"
      }
    },
    {
      "cell_type": "code",
      "source": [
        "print(\"--- Analisis Tipe Data ---\")\n",
        "df.info()"
      ],
      "metadata": {
        "colab": {
          "base_uri": "https://localhost:8080/"
        },
        "id": "seOuJpwGpC5i",
        "outputId": "45ba2744-c8cf-4225-9e38-bf166f059fd3"
      },
      "execution_count": 3,
      "outputs": [
        {
          "output_type": "stream",
          "name": "stdout",
          "text": [
            "--- Analisis Tipe Data ---\n",
            "<class 'pandas.core.frame.DataFrame'>\n",
            "RangeIndex: 7043 entries, 0 to 7042\n",
            "Data columns (total 21 columns):\n",
            " #   Column            Non-Null Count  Dtype  \n",
            "---  ------            --------------  -----  \n",
            " 0   customerID        7043 non-null   object \n",
            " 1   gender            7038 non-null   object \n",
            " 2   SeniorCitizen     7043 non-null   int64  \n",
            " 3   Partner           7043 non-null   object \n",
            " 4   Dependents        7043 non-null   object \n",
            " 5   tenure            7040 non-null   float64\n",
            " 6   PhoneService      7043 non-null   object \n",
            " 7   MultipleLines     7043 non-null   object \n",
            " 8   InternetService   7043 non-null   object \n",
            " 9   OnlineSecurity    7043 non-null   object \n",
            " 10  OnlineBackup      7043 non-null   object \n",
            " 11  DeviceProtection  7043 non-null   object \n",
            " 12  TechSupport       7043 non-null   object \n",
            " 13  StreamingTV       7043 non-null   object \n",
            " 14  StreamingMovies   7043 non-null   object \n",
            " 15  Contract          7043 non-null   object \n",
            " 16  PaperlessBilling  7043 non-null   object \n",
            " 17  PaymentMethod     7043 non-null   object \n",
            " 18  MonthlyCharges    7043 non-null   float64\n",
            " 19  TotalCharges      7043 non-null   object \n",
            " 20  Churn             7043 non-null   object \n",
            "dtypes: float64(2), int64(1), object(18)\n",
            "memory usage: 1.1+ MB\n"
          ]
        }
      ]
    },
    {
      "cell_type": "code",
      "source": [
        "df.describe()"
      ],
      "metadata": {
        "colab": {
          "base_uri": "https://localhost:8080/",
          "height": 300
        },
        "id": "ONt3aKlmOtgi",
        "outputId": "173b59dd-dc54-4995-adff-e25d3103157e"
      },
      "execution_count": 4,
      "outputs": [
        {
          "output_type": "execute_result",
          "data": {
            "text/plain": [
              "       SeniorCitizen       tenure  MonthlyCharges\n",
              "count    7043.000000  7040.000000     7043.000000\n",
              "mean        0.162147    35.043892       64.761692\n",
              "std         0.368612   115.282871       30.090047\n",
              "min         0.000000     0.000000       18.250000\n",
              "25%         0.000000     9.000000       35.500000\n",
              "50%         0.000000    29.000000       70.350000\n",
              "75%         0.000000    55.000000       89.850000\n",
              "max         1.000000  7100.000000      118.750000"
            ],
            "text/html": [
              "\n",
              "  <div id=\"df-0cb6492f-5c66-4c67-bc23-ede2c49b9b18\" class=\"colab-df-container\">\n",
              "    <div>\n",
              "<style scoped>\n",
              "    .dataframe tbody tr th:only-of-type {\n",
              "        vertical-align: middle;\n",
              "    }\n",
              "\n",
              "    .dataframe tbody tr th {\n",
              "        vertical-align: top;\n",
              "    }\n",
              "\n",
              "    .dataframe thead th {\n",
              "        text-align: right;\n",
              "    }\n",
              "</style>\n",
              "<table border=\"1\" class=\"dataframe\">\n",
              "  <thead>\n",
              "    <tr style=\"text-align: right;\">\n",
              "      <th></th>\n",
              "      <th>SeniorCitizen</th>\n",
              "      <th>tenure</th>\n",
              "      <th>MonthlyCharges</th>\n",
              "    </tr>\n",
              "  </thead>\n",
              "  <tbody>\n",
              "    <tr>\n",
              "      <th>count</th>\n",
              "      <td>7043.000000</td>\n",
              "      <td>7040.000000</td>\n",
              "      <td>7043.000000</td>\n",
              "    </tr>\n",
              "    <tr>\n",
              "      <th>mean</th>\n",
              "      <td>0.162147</td>\n",
              "      <td>35.043892</td>\n",
              "      <td>64.761692</td>\n",
              "    </tr>\n",
              "    <tr>\n",
              "      <th>std</th>\n",
              "      <td>0.368612</td>\n",
              "      <td>115.282871</td>\n",
              "      <td>30.090047</td>\n",
              "    </tr>\n",
              "    <tr>\n",
              "      <th>min</th>\n",
              "      <td>0.000000</td>\n",
              "      <td>0.000000</td>\n",
              "      <td>18.250000</td>\n",
              "    </tr>\n",
              "    <tr>\n",
              "      <th>25%</th>\n",
              "      <td>0.000000</td>\n",
              "      <td>9.000000</td>\n",
              "      <td>35.500000</td>\n",
              "    </tr>\n",
              "    <tr>\n",
              "      <th>50%</th>\n",
              "      <td>0.000000</td>\n",
              "      <td>29.000000</td>\n",
              "      <td>70.350000</td>\n",
              "    </tr>\n",
              "    <tr>\n",
              "      <th>75%</th>\n",
              "      <td>0.000000</td>\n",
              "      <td>55.000000</td>\n",
              "      <td>89.850000</td>\n",
              "    </tr>\n",
              "    <tr>\n",
              "      <th>max</th>\n",
              "      <td>1.000000</td>\n",
              "      <td>7100.000000</td>\n",
              "      <td>118.750000</td>\n",
              "    </tr>\n",
              "  </tbody>\n",
              "</table>\n",
              "</div>\n",
              "    <div class=\"colab-df-buttons\">\n",
              "\n",
              "  <div class=\"colab-df-container\">\n",
              "    <button class=\"colab-df-convert\" onclick=\"convertToInteractive('df-0cb6492f-5c66-4c67-bc23-ede2c49b9b18')\"\n",
              "            title=\"Convert this dataframe to an interactive table.\"\n",
              "            style=\"display:none;\">\n",
              "\n",
              "  <svg xmlns=\"http://www.w3.org/2000/svg\" height=\"24px\" viewBox=\"0 -960 960 960\">\n",
              "    <path d=\"M120-120v-720h720v720H120Zm60-500h600v-160H180v160Zm220 220h160v-160H400v160Zm0 220h160v-160H400v160ZM180-400h160v-160H180v160Zm440 0h160v-160H620v160ZM180-180h160v-160H180v160Zm440 0h160v-160H620v160Z\"/>\n",
              "  </svg>\n",
              "    </button>\n",
              "\n",
              "  <style>\n",
              "    .colab-df-container {\n",
              "      display:flex;\n",
              "      gap: 12px;\n",
              "    }\n",
              "\n",
              "    .colab-df-convert {\n",
              "      background-color: #E8F0FE;\n",
              "      border: none;\n",
              "      border-radius: 50%;\n",
              "      cursor: pointer;\n",
              "      display: none;\n",
              "      fill: #1967D2;\n",
              "      height: 32px;\n",
              "      padding: 0 0 0 0;\n",
              "      width: 32px;\n",
              "    }\n",
              "\n",
              "    .colab-df-convert:hover {\n",
              "      background-color: #E2EBFA;\n",
              "      box-shadow: 0px 1px 2px rgba(60, 64, 67, 0.3), 0px 1px 3px 1px rgba(60, 64, 67, 0.15);\n",
              "      fill: #174EA6;\n",
              "    }\n",
              "\n",
              "    .colab-df-buttons div {\n",
              "      margin-bottom: 4px;\n",
              "    }\n",
              "\n",
              "    [theme=dark] .colab-df-convert {\n",
              "      background-color: #3B4455;\n",
              "      fill: #D2E3FC;\n",
              "    }\n",
              "\n",
              "    [theme=dark] .colab-df-convert:hover {\n",
              "      background-color: #434B5C;\n",
              "      box-shadow: 0px 1px 3px 1px rgba(0, 0, 0, 0.15);\n",
              "      filter: drop-shadow(0px 1px 2px rgba(0, 0, 0, 0.3));\n",
              "      fill: #FFFFFF;\n",
              "    }\n",
              "  </style>\n",
              "\n",
              "    <script>\n",
              "      const buttonEl =\n",
              "        document.querySelector('#df-0cb6492f-5c66-4c67-bc23-ede2c49b9b18 button.colab-df-convert');\n",
              "      buttonEl.style.display =\n",
              "        google.colab.kernel.accessAllowed ? 'block' : 'none';\n",
              "\n",
              "      async function convertToInteractive(key) {\n",
              "        const element = document.querySelector('#df-0cb6492f-5c66-4c67-bc23-ede2c49b9b18');\n",
              "        const dataTable =\n",
              "          await google.colab.kernel.invokeFunction('convertToInteractive',\n",
              "                                                    [key], {});\n",
              "        if (!dataTable) return;\n",
              "\n",
              "        const docLinkHtml = 'Like what you see? Visit the ' +\n",
              "          '<a target=\"_blank\" href=https://colab.research.google.com/notebooks/data_table.ipynb>data table notebook</a>'\n",
              "          + ' to learn more about interactive tables.';\n",
              "        element.innerHTML = '';\n",
              "        dataTable['output_type'] = 'display_data';\n",
              "        await google.colab.output.renderOutput(dataTable, element);\n",
              "        const docLink = document.createElement('div');\n",
              "        docLink.innerHTML = docLinkHtml;\n",
              "        element.appendChild(docLink);\n",
              "      }\n",
              "    </script>\n",
              "  </div>\n",
              "\n",
              "\n",
              "    <div id=\"df-fd689eaa-50b9-46d8-a9a5-b5c06b85bf27\">\n",
              "      <button class=\"colab-df-quickchart\" onclick=\"quickchart('df-fd689eaa-50b9-46d8-a9a5-b5c06b85bf27')\"\n",
              "                title=\"Suggest charts\"\n",
              "                style=\"display:none;\">\n",
              "\n",
              "<svg xmlns=\"http://www.w3.org/2000/svg\" height=\"24px\"viewBox=\"0 0 24 24\"\n",
              "     width=\"24px\">\n",
              "    <g>\n",
              "        <path d=\"M19 3H5c-1.1 0-2 .9-2 2v14c0 1.1.9 2 2 2h14c1.1 0 2-.9 2-2V5c0-1.1-.9-2-2-2zM9 17H7v-7h2v7zm4 0h-2V7h2v10zm4 0h-2v-4h2v4z\"/>\n",
              "    </g>\n",
              "</svg>\n",
              "      </button>\n",
              "\n",
              "<style>\n",
              "  .colab-df-quickchart {\n",
              "      --bg-color: #E8F0FE;\n",
              "      --fill-color: #1967D2;\n",
              "      --hover-bg-color: #E2EBFA;\n",
              "      --hover-fill-color: #174EA6;\n",
              "      --disabled-fill-color: #AAA;\n",
              "      --disabled-bg-color: #DDD;\n",
              "  }\n",
              "\n",
              "  [theme=dark] .colab-df-quickchart {\n",
              "      --bg-color: #3B4455;\n",
              "      --fill-color: #D2E3FC;\n",
              "      --hover-bg-color: #434B5C;\n",
              "      --hover-fill-color: #FFFFFF;\n",
              "      --disabled-bg-color: #3B4455;\n",
              "      --disabled-fill-color: #666;\n",
              "  }\n",
              "\n",
              "  .colab-df-quickchart {\n",
              "    background-color: var(--bg-color);\n",
              "    border: none;\n",
              "    border-radius: 50%;\n",
              "    cursor: pointer;\n",
              "    display: none;\n",
              "    fill: var(--fill-color);\n",
              "    height: 32px;\n",
              "    padding: 0;\n",
              "    width: 32px;\n",
              "  }\n",
              "\n",
              "  .colab-df-quickchart:hover {\n",
              "    background-color: var(--hover-bg-color);\n",
              "    box-shadow: 0 1px 2px rgba(60, 64, 67, 0.3), 0 1px 3px 1px rgba(60, 64, 67, 0.15);\n",
              "    fill: var(--button-hover-fill-color);\n",
              "  }\n",
              "\n",
              "  .colab-df-quickchart-complete:disabled,\n",
              "  .colab-df-quickchart-complete:disabled:hover {\n",
              "    background-color: var(--disabled-bg-color);\n",
              "    fill: var(--disabled-fill-color);\n",
              "    box-shadow: none;\n",
              "  }\n",
              "\n",
              "  .colab-df-spinner {\n",
              "    border: 2px solid var(--fill-color);\n",
              "    border-color: transparent;\n",
              "    border-bottom-color: var(--fill-color);\n",
              "    animation:\n",
              "      spin 1s steps(1) infinite;\n",
              "  }\n",
              "\n",
              "  @keyframes spin {\n",
              "    0% {\n",
              "      border-color: transparent;\n",
              "      border-bottom-color: var(--fill-color);\n",
              "      border-left-color: var(--fill-color);\n",
              "    }\n",
              "    20% {\n",
              "      border-color: transparent;\n",
              "      border-left-color: var(--fill-color);\n",
              "      border-top-color: var(--fill-color);\n",
              "    }\n",
              "    30% {\n",
              "      border-color: transparent;\n",
              "      border-left-color: var(--fill-color);\n",
              "      border-top-color: var(--fill-color);\n",
              "      border-right-color: var(--fill-color);\n",
              "    }\n",
              "    40% {\n",
              "      border-color: transparent;\n",
              "      border-right-color: var(--fill-color);\n",
              "      border-top-color: var(--fill-color);\n",
              "    }\n",
              "    60% {\n",
              "      border-color: transparent;\n",
              "      border-right-color: var(--fill-color);\n",
              "    }\n",
              "    80% {\n",
              "      border-color: transparent;\n",
              "      border-right-color: var(--fill-color);\n",
              "      border-bottom-color: var(--fill-color);\n",
              "    }\n",
              "    90% {\n",
              "      border-color: transparent;\n",
              "      border-bottom-color: var(--fill-color);\n",
              "    }\n",
              "  }\n",
              "</style>\n",
              "\n",
              "      <script>\n",
              "        async function quickchart(key) {\n",
              "          const quickchartButtonEl =\n",
              "            document.querySelector('#' + key + ' button');\n",
              "          quickchartButtonEl.disabled = true;  // To prevent multiple clicks.\n",
              "          quickchartButtonEl.classList.add('colab-df-spinner');\n",
              "          try {\n",
              "            const charts = await google.colab.kernel.invokeFunction(\n",
              "                'suggestCharts', [key], {});\n",
              "          } catch (error) {\n",
              "            console.error('Error during call to suggestCharts:', error);\n",
              "          }\n",
              "          quickchartButtonEl.classList.remove('colab-df-spinner');\n",
              "          quickchartButtonEl.classList.add('colab-df-quickchart-complete');\n",
              "        }\n",
              "        (() => {\n",
              "          let quickchartButtonEl =\n",
              "            document.querySelector('#df-fd689eaa-50b9-46d8-a9a5-b5c06b85bf27 button');\n",
              "          quickchartButtonEl.style.display =\n",
              "            google.colab.kernel.accessAllowed ? 'block' : 'none';\n",
              "        })();\n",
              "      </script>\n",
              "    </div>\n",
              "\n",
              "    </div>\n",
              "  </div>\n"
            ],
            "application/vnd.google.colaboratory.intrinsic+json": {
              "type": "dataframe",
              "summary": "{\n  \"name\": \"df\",\n  \"rows\": 8,\n  \"fields\": [\n    {\n      \"column\": \"SeniorCitizen\",\n      \"properties\": {\n        \"dtype\": \"number\",\n        \"std\": 2489.9992387084,\n        \"min\": 0.0,\n        \"max\": 7043.0,\n        \"num_unique_values\": 5,\n        \"samples\": [\n          0.1621468124378816,\n          1.0,\n          0.36861160561002687\n        ],\n        \"semantic_type\": \"\",\n        \"description\": \"\"\n      }\n    },\n    {\n      \"column\": \"tenure\",\n      \"properties\": {\n        \"dtype\": \"number\",\n        \"std\": 3254.2292069397554,\n        \"min\": 0.0,\n        \"max\": 7100.0,\n        \"num_unique_values\": 8,\n        \"samples\": [\n          35.04389204545455,\n          29.0,\n          7040.0\n        ],\n        \"semantic_type\": \"\",\n        \"description\": \"\"\n      }\n    },\n    {\n      \"column\": \"MonthlyCharges\",\n      \"properties\": {\n        \"dtype\": \"number\",\n        \"std\": 2468.7047672837775,\n        \"min\": 18.25,\n        \"max\": 7043.0,\n        \"num_unique_values\": 8,\n        \"samples\": [\n          64.76169246059918,\n          70.35,\n          7043.0\n        ],\n        \"semantic_type\": \"\",\n        \"description\": \"\"\n      }\n    }\n  ]\n}"
            }
          },
          "metadata": {},
          "execution_count": 4
        }
      ]
    },
    {
      "cell_type": "code",
      "source": [
        "# Jumlah nilai unik per kolom\n",
        "print(\"\\n=== Nilai Unik per Kolom ===\")\n",
        "for col in df.columns:\n",
        "    print(f\"{col}: {df[col].nunique()} nilai unik\")"
      ],
      "metadata": {
        "colab": {
          "base_uri": "https://localhost:8080/"
        },
        "id": "IXhl2yJvQk6S",
        "outputId": "171baad5-b7a3-4064-feaf-0b337d4aed20"
      },
      "execution_count": 5,
      "outputs": [
        {
          "output_type": "stream",
          "name": "stdout",
          "text": [
            "\n",
            "=== Nilai Unik per Kolom ===\n",
            "customerID: 7043 nilai unik\n",
            "gender: 4 nilai unik\n",
            "SeniorCitizen: 2 nilai unik\n",
            "Partner: 2 nilai unik\n",
            "Dependents: 2 nilai unik\n",
            "tenure: 78 nilai unik\n",
            "PhoneService: 2 nilai unik\n",
            "MultipleLines: 3 nilai unik\n",
            "InternetService: 3 nilai unik\n",
            "OnlineSecurity: 3 nilai unik\n",
            "OnlineBackup: 3 nilai unik\n",
            "DeviceProtection: 3 nilai unik\n",
            "TechSupport: 3 nilai unik\n",
            "StreamingTV: 3 nilai unik\n",
            "StreamingMovies: 3 nilai unik\n",
            "Contract: 3 nilai unik\n",
            "PaperlessBilling: 2 nilai unik\n",
            "PaymentMethod: 4 nilai unik\n",
            "MonthlyCharges: 1585 nilai unik\n",
            "TotalCharges: 6531 nilai unik\n",
            "Churn: 2 nilai unik\n"
          ]
        }
      ]
    },
    {
      "cell_type": "markdown",
      "source": [
        "validasi"
      ],
      "metadata": {
        "id": "3JcgIbuhEYXv"
      }
    },
    {
      "cell_type": "code",
      "source": [
        "print(\"Pengecekan Data Duplikat:\")\n",
        "print(f\"Jumlah baris duplikat: {df.duplicated().sum()}\")"
      ],
      "metadata": {
        "colab": {
          "base_uri": "https://localhost:8080/"
        },
        "id": "6VJizmboQik_",
        "outputId": "045b066b-7c68-4f0f-f854-8379b7edaced"
      },
      "execution_count": 6,
      "outputs": [
        {
          "output_type": "stream",
          "name": "stdout",
          "text": [
            "Pengecekan Data Duplikat:\n",
            "Jumlah baris duplikat: 0\n"
          ]
        }
      ]
    },
    {
      "cell_type": "code",
      "source": [
        "print(\"Pengecekan Nilai Hilang Awal:\")\n",
        "print(df.isnull().sum())"
      ],
      "metadata": {
        "colab": {
          "base_uri": "https://localhost:8080/"
        },
        "id": "-zcdcHvCUCsx",
        "outputId": "c943507e-185a-4ee3-8695-556c63711a2f"
      },
      "execution_count": 7,
      "outputs": [
        {
          "output_type": "stream",
          "name": "stdout",
          "text": [
            "Pengecekan Nilai Hilang Awal:\n",
            "customerID          0\n",
            "gender              5\n",
            "SeniorCitizen       0\n",
            "Partner             0\n",
            "Dependents          0\n",
            "tenure              3\n",
            "PhoneService        0\n",
            "MultipleLines       0\n",
            "InternetService     0\n",
            "OnlineSecurity      0\n",
            "OnlineBackup        0\n",
            "DeviceProtection    0\n",
            "TechSupport         0\n",
            "StreamingTV         0\n",
            "StreamingMovies     0\n",
            "Contract            0\n",
            "PaperlessBilling    0\n",
            "PaymentMethod       0\n",
            "MonthlyCharges      0\n",
            "TotalCharges        0\n",
            "Churn               0\n",
            "dtype: int64\n"
          ]
        }
      ]
    },
    {
      "cell_type": "code",
      "source": [
        "# Distribusi Variabel Target 'Churn'\n",
        "plt.figure(figsize=(5, 3))\n",
        "sns.countplot(data=df, x='Churn')\n",
        "plt.title('Distribusi Pelanggan Churn vs Tidak Churn')\n",
        "plt.show()"
      ],
      "metadata": {
        "colab": {
          "base_uri": "https://localhost:8080/",
          "height": 333
        },
        "id": "ffXxAPQHQt_l",
        "outputId": "25d02ac5-b6b3-4b9a-87a8-3fae533b30d3"
      },
      "execution_count": 8,
      "outputs": [
        {
          "output_type": "display_data",
          "data": {
            "text/plain": [
              "<Figure size 500x300 with 1 Axes>"
            ],
            "image/png": "[encoded data removed]"
          },
          "metadata": {}
        }
      ]
    },
    {
      "cell_type": "code",
      "source": [
        "# Distribusi untuk beberapa fitur numerik penting\n",
        "numerical_features = ['tenure', 'MonthlyCharges']\n",
        "df[numerical_features].hist(bins=30, figsize=(8, 4))\n",
        "plt.suptitle('Distribusi Fitur Numerik (Tenure dan Monthly Charges)')\n",
        "plt.show()"
      ],
      "metadata": {
        "colab": {
          "base_uri": "https://localhost:8080/",
          "height": 408
        },
        "id": "HoXL1tOgUbA1",
        "outputId": "bf39a053-0a45-4a76-8a1e-c5c0603f94d5"
      },
      "execution_count": 9,
      "outputs": [
        {
          "output_type": "display_data",
          "data": {
            "text/plain": [
              "<Figure size 800x400 with 2 Axes>"
            ],
            "image/png": "[encoded data removed]"
          },
          "metadata": {}
        }
      ]
    },
    {
      "cell_type": "code",
      "source": [
        "# Distribusi untuk beberapa fitur kategorikal penting\n",
        "categorical_features = ['Contract', 'PaymentMethod', 'InternetService']\n",
        "for col in categorical_features:\n",
        "    plt.figure(figsize=(5, 2))\n",
        "    sns.countplot(data=df, y=col)\n",
        "    plt.title(f'Distribusi Fitur: {col}')\n",
        "    plt.show()"
      ],
      "metadata": {
        "colab": {
          "base_uri": "https://localhost:8080/",
          "height": 734
        },
        "id": "hxcgTzKvUeej",
        "outputId": "65c15179-bc3c-41c7-abc4-7d00db578a78"
      },
      "execution_count": 10,
      "outputs": [
        {
          "output_type": "display_data",
          "data": {
            "text/plain": [
              "<Figure size 500x200 with 1 Axes>"
            ],
            "image/png": "[encoded data removed]"
          },
          "metadata": {}
        },
        {
          "output_type": "display_data",
          "data": {
            "text/plain": [
              "<Figure size 500x200 with 1 Axes>"
            ],
            "image/png": "[encoded data removed]"
          },
          "metadata": {}
        },
        {
          "output_type": "display_data",
          "data": {
            "text/plain": [
              "<Figure size 500x200 with 1 Axes>"
            ],
            "image/png": "[encoded data removed]"
          },
          "metadata": {}
        }
      ]
    },
    {
      "cell_type": "markdown",
      "source": [
        "korelasi"
      ],
      "metadata": {
        "id": "mQg6S880Fg9X"
      }
    },
    {
      "cell_type": "code",
      "source": [
        "# Membuat salinan dataframe untuk analisis korelasi\n",
        "# Membuat salinan dataframe untuk analisis korelasi\n",
        "df_corr = df.copy()\n",
        "df_corr['TotalCharges'] = pd.to_numeric(df_corr['TotalCharges'], errors='coerce')\n",
        "df_corr['Churn'] = df_corr['Churn'].map({'No': 0, 'Yes': 1})\n",
        "numerical_cols_for_corr = df_corr.select_dtypes(include=np.number).columns\n",
        "plt.figure(figsize=(15, 12))\n",
        "sns.heatmap(df_corr[numerical_cols_for_corr].corr(), annot=True, fmt='.2f', cmap='coolwarm')\n",
        "plt.title('Matriks Korelasi Antar Fitur Numerik')\n",
        "plt.show()\n"
      ],
      "metadata": {
        "colab": {
          "base_uri": "https://localhost:8080/",
          "height": 1000
        },
        "id": "MEdWRjXpU62T",
        "outputId": "bfdc061b-ed0a-49c3-906d-3345bdfaedc7"
      },
      "execution_count": 11,
      "outputs": [
        {
          "output_type": "display_data",
          "data": {
            "text/plain": [
              "<Figure size 1500x1200 with 2 Axes>"
            ],
            "image/png": "[encoded data removed]"
          },
          "metadata": {}
        }
      ]
    },
    {
      "cell_type": "markdown",
      "source": [
        "outlier cek"
      ],
      "metadata": {
        "id": "qT1R289AFdOR"
      }
    },
    {
      "cell_type": "code",
      "source": [
        "# Mentukan kolom numerik yang akan diperiksa (termasuk TotalCharges setelah diperbaiki)\n",
        "kolom_numerik_cek = ['tenure', 'MonthlyCharges', 'TotalCharges']\n",
        "# Buat dataframe sementara hanya untuk pengecekan outlier\n",
        "df_cek_outlier = df.copy()\n",
        "df_cek_outlier['TotalCharges'] = pd.to_numeric(df_cek_outlier['TotalCharges'], errors='coerce')\n",
        "df_cek_outlier.dropna(inplace=True)\n",
        "\n",
        "plt.figure(figsize=(15, 7))\n",
        "sns.boxplot(data=df_cek_outlier[kolom_numerik_cek])\n",
        "plt.title('Box Plot untuk Deteksi Outlier', fontsize=16)\n",
        "plt.show()\n"
      ],
      "metadata": {
        "colab": {
          "base_uri": "https://localhost:8080/",
          "height": 624
        },
        "id": "jr3cRd5FFQpo",
        "outputId": "dd49dc16-b066-42ed-b16f-a89278970109"
      },
      "execution_count": 12,
      "outputs": [
        {
          "output_type": "display_data",
          "data": {
            "text/plain": [
              "<Figure size 1500x700 with 1 Axes>"
            ],
            "image/png": "[encoded data removed]"
          },
          "metadata": {}
        }
      ]
    },
    {
      "cell_type": "markdown",
      "source": [
        "PEMBERSIHAN DAN PERSIAPAN DATA (PREPROCESSING)"
      ],
      "metadata": {
        "id": "k1qulePzO9xC"
      }
    },
    {
      "cell_type": "code",
      "source": [
        "# Menghapus kolom customerID yang tidak relevan\n",
        "df.drop('customerID', axis=1, inplace=True)"
      ],
      "metadata": {
        "id": "qxBzZcGfOuQ9"
      },
      "execution_count": 13,
      "outputs": []
    },
    {
      "cell_type": "code",
      "source": [
        "# Memperbaiki kolom 'TotalCharges' yang seharusnya numerik\n",
        "df['TotalCharges'] = pd.to_numeric(df['TotalCharges'], errors='coerce')\n",
        "print(f\"Jumlah nilai hilang di 'TotalCharges' setelah konversi: {df['TotalCharges'].isnull().sum()}\")\n",
        "df.dropna(inplace=True)"
      ],
      "metadata": {
        "colab": {
          "base_uri": "https://localhost:8080/"
        },
        "id": "5gPl9lvBV8FJ",
        "outputId": "b4f76aa1-d68b-4c28-ca9e-241310739ad6"
      },
      "execution_count": 14,
      "outputs": [
        {
          "output_type": "stream",
          "name": "stdout",
          "text": [
            "Jumlah nilai hilang di 'TotalCharges' setelah konversi: 11\n"
          ]
        }
      ]
    },
    {
      "cell_type": "code",
      "source": [
        "# Menghapus baris yang memiliki data hilang (NaN)\n",
        "df.dropna(inplace=True)"
      ],
      "metadata": {
        "id": "V1gihxSCWD0w"
      },
      "execution_count": 15,
      "outputs": []
    },
    {
      "cell_type": "code",
      "source": [
        "# Penanganan outlier\n",
        "for col in ['tenure', 'MonthlyCharges', 'TotalCharges']:\n",
        "    Q1 = df[col].quantile(0.25)\n",
        "    Q3 = df[col].quantile(0.75)\n",
        "    IQR = Q3 - Q1\n",
        "    lower_bound = Q1 - 1.5 * IQR\n",
        "    upper_bound = Q3 + 1.5 * IQR\n",
        "\n",
        "    outliers = df[(df[col] < lower_bound) | (df[col] > upper_bound)]\n",
        "    print(f\"Outlier di kolom {col}: {len(outliers)} baris\")"
      ],
      "metadata": {
        "id": "90IIAtaMGu7S",
        "colab": {
          "base_uri": "https://localhost:8080/"
        },
        "outputId": "b21eaea8-bd80-4173-de8a-e8b8e88a1429"
      },
      "execution_count": 16,
      "outputs": [
        {
          "output_type": "stream",
          "name": "stdout",
          "text": [
            "Outlier di kolom tenure: 5 baris\n",
            "Outlier di kolom MonthlyCharges: 0 baris\n",
            "Outlier di kolom TotalCharges: 0 baris\n"
          ]
        }
      ]
    },
    {
      "cell_type": "code",
      "source": [
        "print(\"Menyamakan nilai pada kolom 'gender'...\")\n",
        "df['gender'] = df['gender'].replace({'F': 'Female', 'M': 'Male'})\n",
        "# Memeriksa hasilnya untuk memastikan hanya ada 2 nilai unik\n",
        "print(\"Nilai unik di kolom 'gender' setelah standardisasi:\")\n",
        "print(df['gender'].value_counts())"
      ],
      "metadata": {
        "colab": {
          "base_uri": "https://localhost:8080/"
        },
        "id": "cENvPRrxNQIe",
        "outputId": "1236c70f-d36e-4179-f949-23f9255fdef7"
      },
      "execution_count": 17,
      "outputs": [
        {
          "output_type": "stream",
          "name": "stdout",
          "text": [
            "Menyamakan nilai pada kolom 'gender'...\n",
            "Nilai unik di kolom 'gender' setelah standardisasi:\n",
            "gender\n",
            "Male      3546\n",
            "Female    3479\n",
            "Name: count, dtype: int64\n"
          ]
        }
      ]
    },
    {
      "cell_type": "markdown",
      "source": [
        "pelabelan target dan konstruksi fitur"
      ],
      "metadata": {
        "id": "4H6vA_5FHQFB"
      }
    },
    {
      "cell_type": "code",
      "source": [
        "# Mengubah kolom target 'Churn' dari 'Yes'/'No' menjadi 1/0\n",
        "df['Churn'] = df['Churn'].map({'No': 0, 'Yes': 1})"
      ],
      "metadata": {
        "id": "uxpJnBUrWIR-"
      },
      "execution_count": 18,
      "outputs": []
    },
    {
      "cell_type": "code",
      "source": [
        "# Mengubah semua sisa kolom kategorikal menjadi numerik menggunakan One-Hot Encoding\n",
        "categorical_cols = df.select_dtypes(include=['object']).columns\n",
        "df = pd.get_dummies(df, columns=categorical_cols, drop_first=True)\n"
      ],
      "metadata": {
        "id": "6fa475C5WLrb"
      },
      "execution_count": 19,
      "outputs": []
    },
    {
      "cell_type": "code",
      "source": [
        "print(\"Pembersihan dan transformasi data selesai.\")\n",
        "print(f\"Bentuk data setelah diolah: {df.shape[0]} baris, {df.shape[1]} kolom.\")"
      ],
      "metadata": {
        "colab": {
          "base_uri": "https://localhost:8080/"
        },
        "id": "qCzI0ylJWPiK",
        "outputId": "ce6b46a3-0151-4a3b-dc68-235732ee1250"
      },
      "execution_count": 20,
      "outputs": [
        {
          "output_type": "stream",
          "name": "stdout",
          "text": [
            "Pembersihan dan transformasi data selesai.\n",
            "Bentuk data setelah diolah: 7025 baris, 31 kolom.\n"
          ]
        }
      ]
    },
    {
      "cell_type": "code",
      "source": [
        "df.info()"
      ],
      "metadata": {
        "colab": {
          "base_uri": "https://localhost:8080/"
        },
        "id": "ZvqQijeqPE2h",
        "outputId": "ca278bb6-26c8-4b02-eb50-9376742d3ea9"
      },
      "execution_count": 21,
      "outputs": [
        {
          "output_type": "stream",
          "name": "stdout",
          "text": [
            "<class 'pandas.core.frame.DataFrame'>\n",
            "Index: 7025 entries, 0 to 7042\n",
            "Data columns (total 31 columns):\n",
            " #   Column                                 Non-Null Count  Dtype  \n",
            "---  ------                                 --------------  -----  \n",
            " 0   SeniorCitizen                          7025 non-null   int64  \n",
            " 1   tenure                                 7025 non-null   float64\n",
            " 2   MonthlyCharges                         7025 non-null   float64\n",
            " 3   TotalCharges                           7025 non-null   float64\n",
            " 4   Churn                                  7025 non-null   int64  \n",
            " 5   gender_Male                            7025 non-null   bool   \n",
            " 6   Partner_Yes                            7025 non-null   bool   \n",
            " 7   Dependents_Yes                         7025 non-null   bool   \n",
            " 8   PhoneService_Yes                       7025 non-null   bool   \n",
            " 9   MultipleLines_No phone service         7025 non-null   bool   \n",
            " 10  MultipleLines_Yes                      7025 non-null   bool   \n",
            " 11  InternetService_Fiber optic            7025 non-null   bool   \n",
            " 12  InternetService_No                     7025 non-null   bool   \n",
            " 13  OnlineSecurity_No internet service     7025 non-null   bool   \n",
            " 14  OnlineSecurity_Yes                     7025 non-null   bool   \n",
            " 15  OnlineBackup_No internet service       7025 non-null   bool   \n",
            " 16  OnlineBackup_Yes                       7025 non-null   bool   \n",
            " 17  DeviceProtection_No internet service   7025 non-null   bool   \n",
            " 18  DeviceProtection_Yes                   7025 non-null   bool   \n",
            " 19  TechSupport_No internet service        7025 non-null   bool   \n",
            " 20  TechSupport_Yes                        7025 non-null   bool   \n",
            " 21  StreamingTV_No internet service        7025 non-null   bool   \n",
            " 22  StreamingTV_Yes                        7025 non-null   bool   \n",
            " 23  StreamingMovies_No internet service    7025 non-null   bool   \n",
            " 24  StreamingMovies_Yes                    7025 non-null   bool   \n",
            " 25  Contract_One year                      7025 non-null   bool   \n",
            " 26  Contract_Two year                      7025 non-null   bool   \n",
            " 27  PaperlessBilling_Yes                   7025 non-null   bool   \n",
            " 28  PaymentMethod_Credit card (automatic)  7025 non-null   bool   \n",
            " 29  PaymentMethod_Electronic check         7025 non-null   bool   \n",
            " 30  PaymentMethod_Mailed check             7025 non-null   bool   \n",
            "dtypes: bool(26), float64(3), int64(2)\n",
            "memory usage: 507.7 KB\n"
          ]
        }
      ]
    },
    {
      "cell_type": "code",
      "source": [
        "df.describe()"
      ],
      "metadata": {
        "colab": {
          "base_uri": "https://localhost:8080/",
          "height": 300
        },
        "id": "j4Kn4dpn5ciO",
        "outputId": "a7bafd0b-f55b-4a78-ed58-3853338d6ffd"
      },
      "execution_count": 22,
      "outputs": [
        {
          "output_type": "execute_result",
          "data": {
            "text/plain": [
              "       SeniorCitizen       tenure  MonthlyCharges  TotalCharges        Churn\n",
              "count    7025.000000  7025.000000     7025.000000   7025.000000  7025.000000\n",
              "mean        0.162420    35.107616       64.783573   2283.251964     0.265907\n",
              "std         0.368862   115.396389       30.077709   2266.970388     0.441847\n",
              "min         0.000000     1.000000       18.250000     18.800000     0.000000\n",
              "25%         0.000000     9.000000       35.550000    401.300000     0.000000\n",
              "50%         0.000000    29.000000       70.350000   1396.900000     0.000000\n",
              "75%         0.000000    56.000000       89.850000   3794.500000     1.000000\n",
              "max         1.000000  7100.000000      118.750000   8684.800000     1.000000"
            ],
            "text/html": [
              "\n",
              "  <div id=\"df-083b84ce-7782-48ee-87f2-ff048d03edcc\" class=\"colab-df-container\">\n",
              "    <div>\n",
              "<style scoped>\n",
              "    .dataframe tbody tr th:only-of-type {\n",
              "        vertical-align: middle;\n",
              "    }\n",
              "\n",
              "    .dataframe tbody tr th {\n",
              "        vertical-align: top;\n",
              "    }\n",
              "\n",
              "    .dataframe thead th {\n",
              "        text-align: right;\n",
              "    }\n",
              "</style>\n",
              "<table border=\"1\" class=\"dataframe\">\n",
              "  <thead>\n",
              "    <tr style=\"text-align: right;\">\n",
              "      <th></th>\n",
              "      <th>SeniorCitizen</th>\n",
              "      <th>tenure</th>\n",
              "      <th>MonthlyCharges</th>\n",
              "      <th>TotalCharges</th>\n",
              "      <th>Churn</th>\n",
              "    </tr>\n",
              "  </thead>\n",
              "  <tbody>\n",
              "    <tr>\n",
              "      <th>count</th>\n",
              "      <td>7025.000000</td>\n",
              "      <td>7025.000000</td>\n",
              "      <td>7025.000000</td>\n",
              "      <td>7025.000000</td>\n",
              "      <td>7025.000000</td>\n",
              "    </tr>\n",
              "    <tr>\n",
              "      <th>mean</th>\n",
              "      <td>0.162420</td>\n",
              "      <td>35.107616</td>\n",
              "      <td>64.783573</td>\n",
              "      <td>2283.251964</td>\n",
              "      <td>0.265907</td>\n",
              "    </tr>\n",
              "    <tr>\n",
              "      <th>std</th>\n",
              "      <td>0.368862</td>\n",
              "      <td>115.396389</td>\n",
              "      <td>30.077709</td>\n",
              "      <td>2266.970388</td>\n",
              "      <td>0.441847</td>\n",
              "    </tr>\n",
              "    <tr>\n",
              "      <th>min</th>\n",
              "      <td>0.000000</td>\n",
              "      <td>1.000000</td>\n",
              "      <td>18.250000</td>\n",
              "      <td>18.800000</td>\n",
              "      <td>0.000000</td>\n",
              "    </tr>\n",
              "    <tr>\n",
              "      <th>25%</th>\n",
              "      <td>0.000000</td>\n",
              "      <td>9.000000</td>\n",
              "      <td>35.550000</td>\n",
              "      <td>401.300000</td>\n",
              "      <td>0.000000</td>\n",
              "    </tr>\n",
              "    <tr>\n",
              "      <th>50%</th>\n",
              "      <td>0.000000</td>\n",
              "      <td>29.000000</td>\n",
              "      <td>70.350000</td>\n",
              "      <td>1396.900000</td>\n",
              "      <td>0.000000</td>\n",
              "    </tr>\n",
              "    <tr>\n",
              "      <th>75%</th>\n",
              "      <td>0.000000</td>\n",
              "      <td>56.000000</td>\n",
              "      <td>89.850000</td>\n",
              "      <td>3794.500000</td>\n",
              "      <td>1.000000</td>\n",
              "    </tr>\n",
              "    <tr>\n",
              "      <th>max</th>\n",
              "      <td>1.000000</td>\n",
              "      <td>7100.000000</td>\n",
              "      <td>118.750000</td>\n",
              "      <td>8684.800000</td>\n",
              "      <td>1.000000</td>\n",
              "    </tr>\n",
              "  </tbody>\n",
              "</table>\n",
              "</div>\n",
              "    <div class=\"colab-df-buttons\">\n",
              "\n",
              "  <div class=\"colab-df-container\">\n",
              "    <button class=\"colab-df-convert\" onclick=\"convertToInteractive('df-083b84ce-7782-48ee-87f2-ff048d03edcc')\"\n",
              "            title=\"Convert this dataframe to an interactive table.\"\n",
              "            style=\"display:none;\">\n",
              "\n",
              "  <svg xmlns=\"http://www.w3.org/2000/svg\" height=\"24px\" viewBox=\"0 -960 960 960\">\n",
              "    <path d=\"M120-120v-720h720v720H120Zm60-500h600v-160H180v160Zm220 220h160v-160H400v160Zm0 220h160v-160H400v160ZM180-400h160v-160H180v160Zm440 0h160v-160H620v160ZM180-180h160v-160H180v160Zm440 0h160v-160H620v160Z\"/>\n",
              "  </svg>\n",
              "    </button>\n",
              "\n",
              "  <style>\n",
              "    .colab-df-container {\n",
              "      display:flex;\n",
              "      gap: 12px;\n",
              "    }\n",
              "\n",
              "    .colab-df-convert {\n",
              "      background-color: #E8F0FE;\n",
              "      border: none;\n",
              "      border-radius: 50%;\n",
              "      cursor: pointer;\n",
              "      display: none;\n",
              "      fill: #1967D2;\n",
              "      height: 32px;\n",
              "      padding: 0 0 0 0;\n",
              "      width: 32px;\n",
              "    }\n",
              "\n",
              "    .colab-df-convert:hover {\n",
              "      background-color: #E2EBFA;\n",
              "      box-shadow: 0px 1px 2px rgba(60, 64, 67, 0.3), 0px 1px 3px 1px rgba(60, 64, 67, 0.15);\n",
              "      fill: #174EA6;\n",
              "    }\n",
              "\n",
              "    .colab-df-buttons div {\n",
              "      margin-bottom: 4px;\n",
              "    }\n",
              "\n",
              "    [theme=dark] .colab-df-convert {\n",
              "      background-color: #3B4455;\n",
              "      fill: #D2E3FC;\n",
              "    }\n",
              "\n",
              "    [theme=dark] .colab-df-convert:hover {\n",
              "      background-color: #434B5C;\n",
              "      box-shadow: 0px 1px 3px 1px rgba(0, 0, 0, 0.15);\n",
              "      filter: drop-shadow(0px 1px 2px rgba(0, 0, 0, 0.3));\n",
              "      fill: #FFFFFF;\n",
              "    }\n",
              "  </style>\n",
              "\n",
              "    <script>\n",
              "      const buttonEl =\n",
              "        document.querySelector('#df-083b84ce-7782-48ee-87f2-ff048d03edcc button.colab-df-convert');\n",
              "      buttonEl.style.display =\n",
              "        google.colab.kernel.accessAllowed ? 'block' : 'none';\n",
              "\n",
              "      async function convertToInteractive(key) {\n",
              "        const element = document.querySelector('#df-083b84ce-7782-48ee-87f2-ff048d03edcc');\n",
              "        const dataTable =\n",
              "          await google.colab.kernel.invokeFunction('convertToInteractive',\n",
              "                                                    [key], {});\n",
              "        if (!dataTable) return;\n",
              "\n",
              "        const docLinkHtml = 'Like what you see? Visit the ' +\n",
              "          '<a target=\"_blank\" href=https://colab.research.google.com/notebooks/data_table.ipynb>data table notebook</a>'\n",
              "          + ' to learn more about interactive tables.';\n",
              "        element.innerHTML = '';\n",
              "        dataTable['output_type'] = 'display_data';\n",
              "        await google.colab.output.renderOutput(dataTable, element);\n",
              "        const docLink = document.createElement('div');\n",
              "        docLink.innerHTML = docLinkHtml;\n",
              "        element.appendChild(docLink);\n",
              "      }\n",
              "    </script>\n",
              "  </div>\n",
              "\n",
              "\n",
              "    <div id=\"df-49bc95fe-6870-4043-8648-b1d31768619d\">\n",
              "      <button class=\"colab-df-quickchart\" onclick=\"quickchart('df-49bc95fe-6870-4043-8648-b1d31768619d')\"\n",
              "                title=\"Suggest charts\"\n",
              "                style=\"display:none;\">\n",
              "\n",
              "<svg xmlns=\"http://www.w3.org/2000/svg\" height=\"24px\"viewBox=\"0 0 24 24\"\n",
              "     width=\"24px\">\n",
              "    <g>\n",
              "        <path d=\"M19 3H5c-1.1 0-2 .9-2 2v14c0 1.1.9 2 2 2h14c1.1 0 2-.9 2-2V5c0-1.1-.9-2-2-2zM9 17H7v-7h2v7zm4 0h-2V7h2v10zm4 0h-2v-4h2v4z\"/>\n",
              "    </g>\n",
              "</svg>\n",
              "      </button>\n",
              "\n",
              "<style>\n",
              "  .colab-df-quickchart {\n",
              "      --bg-color: #E8F0FE;\n",
              "      --fill-color: #1967D2;\n",
              "      --hover-bg-color: #E2EBFA;\n",
              "      --hover-fill-color: #174EA6;\n",
              "      --disabled-fill-color: #AAA;\n",
              "      --disabled-bg-color: #DDD;\n",
              "  }\n",
              "\n",
              "  [theme=dark] .colab-df-quickchart {\n",
              "      --bg-color: #3B4455;\n",
              "      --fill-color: #D2E3FC;\n",
              "      --hover-bg-color: #434B5C;\n",
              "      --hover-fill-color: #FFFFFF;\n",
              "      --disabled-bg-color: #3B4455;\n",
              "      --disabled-fill-color: #666;\n",
              "  }\n",
              "\n",
              "  .colab-df-quickchart {\n",
              "    background-color: var(--bg-color);\n",
              "    border: none;\n",
              "    border-radius: 50%;\n",
              "    cursor: pointer;\n",
              "    display: none;\n",
              "    fill: var(--fill-color);\n",
              "    height: 32px;\n",
              "    padding: 0;\n",
              "    width: 32px;\n",
              "  }\n",
              "\n",
              "  .colab-df-quickchart:hover {\n",
              "    background-color: var(--hover-bg-color);\n",
              "    box-shadow: 0 1px 2px rgba(60, 64, 67, 0.3), 0 1px 3px 1px rgba(60, 64, 67, 0.15);\n",
              "    fill: var(--button-hover-fill-color);\n",
              "  }\n",
              "\n",
              "  .colab-df-quickchart-complete:disabled,\n",
              "  .colab-df-quickchart-complete:disabled:hover {\n",
              "    background-color: var(--disabled-bg-color);\n",
              "    fill: var(--disabled-fill-color);\n",
              "    box-shadow: none;\n",
              "  }\n",
              "\n",
              "  .colab-df-spinner {\n",
              "    border: 2px solid var(--fill-color);\n",
              "    border-color: transparent;\n",
              "    border-bottom-color: var(--fill-color);\n",
              "    animation:\n",
              "      spin 1s steps(1) infinite;\n",
              "  }\n",
              "\n",
              "  @keyframes spin {\n",
              "    0% {\n",
              "      border-color: transparent;\n",
              "      border-bottom-color: var(--fill-color);\n",
              "      border-left-color: var(--fill-color);\n",
              "    }\n",
              "    20% {\n",
              "      border-color: transparent;\n",
              "      border-left-color: var(--fill-color);\n",
              "      border-top-color: var(--fill-color);\n",
              "    }\n",
              "    30% {\n",
              "      border-color: transparent;\n",
              "      border-left-color: var(--fill-color);\n",
              "      border-top-color: var(--fill-color);\n",
              "      border-right-color: var(--fill-color);\n",
              "    }\n",
              "    40% {\n",
              "      border-color: transparent;\n",
              "      border-right-color: var(--fill-color);\n",
              "      border-top-color: var(--fill-color);\n",
              "    }\n",
              "    60% {\n",
              "      border-color: transparent;\n",
              "      border-right-color: var(--fill-color);\n",
              "    }\n",
              "    80% {\n",
              "      border-color: transparent;\n",
              "      border-right-color: var(--fill-color);\n",
              "      border-bottom-color: var(--fill-color);\n",
              "    }\n",
              "    90% {\n",
              "      border-color: transparent;\n",
              "      border-bottom-color: var(--fill-color);\n",
              "    }\n",
              "  }\n",
              "</style>\n",
              "\n",
              "      <script>\n",
              "        async function quickchart(key) {\n",
              "          const quickchartButtonEl =\n",
              "            document.querySelector('#' + key + ' button');\n",
              "          quickchartButtonEl.disabled = true;  // To prevent multiple clicks.\n",
              "          quickchartButtonEl.classList.add('colab-df-spinner');\n",
              "          try {\n",
              "            const charts = await google.colab.kernel.invokeFunction(\n",
              "                'suggestCharts', [key], {});\n",
              "          } catch (error) {\n",
              "            console.error('Error during call to suggestCharts:', error);\n",
              "          }\n",
              "          quickchartButtonEl.classList.remove('colab-df-spinner');\n",
              "          quickchartButtonEl.classList.add('colab-df-quickchart-complete');\n",
              "        }\n",
              "        (() => {\n",
              "          let quickchartButtonEl =\n",
              "            document.querySelector('#df-49bc95fe-6870-4043-8648-b1d31768619d button');\n",
              "          quickchartButtonEl.style.display =\n",
              "            google.colab.kernel.accessAllowed ? 'block' : 'none';\n",
              "        })();\n",
              "      </script>\n",
              "    </div>\n",
              "\n",
              "    </div>\n",
              "  </div>\n"
            ],
            "application/vnd.google.colaboratory.intrinsic+json": {
              "type": "dataframe",
              "summary": "{\n  \"name\": \"df\",\n  \"rows\": 8,\n  \"fields\": [\n    {\n      \"column\": \"SeniorCitizen\",\n      \"properties\": {\n        \"dtype\": \"number\",\n        \"std\": 2483.63525130617,\n        \"min\": 0.0,\n        \"max\": 7025.0,\n        \"num_unique_values\": 5,\n        \"samples\": [\n          0.16241992882562278,\n          1.0,\n          0.3688618486427022\n        ],\n        \"semantic_type\": \"\",\n        \"description\": \"\"\n      }\n    },\n    {\n      \"column\": \"tenure\",\n      \"properties\": {\n        \"dtype\": \"number\",\n        \"std\": 3250.6111447683816,\n        \"min\": 1.0,\n        \"max\": 7100.0,\n        \"num_unique_values\": 8,\n        \"samples\": [\n          35.10761565836299,\n          29.0,\n          7025.0\n        ],\n        \"semantic_type\": \"\",\n        \"description\": \"\"\n      }\n    },\n    {\n      \"column\": \"MonthlyCharges\",\n      \"properties\": {\n        \"dtype\": \"number\",\n        \"std\": 2462.3383278938477,\n        \"min\": 18.25,\n        \"max\": 7025.0,\n        \"num_unique_values\": 8,\n        \"samples\": [\n          64.78357295373667,\n          70.35,\n          7025.0\n        ],\n        \"semantic_type\": \"\",\n        \"description\": \"\"\n      }\n    },\n    {\n      \"column\": \"TotalCharges\",\n      \"properties\": {\n        \"dtype\": \"number\",\n        \"std\": 3116.150709224101,\n        \"min\": 18.8,\n        \"max\": 8684.8,\n        \"num_unique_values\": 8,\n        \"samples\": [\n          2283.2519644128115,\n          1396.9,\n          7025.0\n        ],\n        \"semantic_type\": \"\",\n        \"description\": \"\"\n      }\n    },\n    {\n      \"column\": \"Churn\",\n      \"properties\": {\n        \"dtype\": \"number\",\n        \"std\": 2483.5758417258576,\n        \"min\": 0.0,\n        \"max\": 7025.0,\n        \"num_unique_values\": 5,\n        \"samples\": [\n          0.26590747330960857,\n          1.0,\n          0.4418466696474866\n        ],\n        \"semantic_type\": \"\",\n        \"description\": \"\"\n      }\n    }\n  ]\n}"
            }
          },
          "metadata": {},
          "execution_count": 22
        }
      ]
    },
    {
      "cell_type": "markdown",
      "source": [
        "misahin data"
      ],
      "metadata": {
        "id": "CSMPfzvlJA2k"
      }
    },
    {
      "cell_type": "code",
      "source": [
        "# Memisahkan fitur (X) dan target (y)\n",
        "X = df.drop('Churn', axis=1)\n",
        "y = df['Churn']\n",
        "# Membagi data menjadi 80% data latih dan 20% data uji\n",
        "X_train, X_test, y_train, y_test = train_test_split(X, y, test_size=0.2, random_state=42, stratify=y)\n",
        "print(f\"\\nData telah dibagi menjadi {X_train.shape[0]} data train (latih) dan {X_test.shape[0]} data test (uji).\")"
      ],
      "metadata": {
        "colab": {
          "base_uri": "https://localhost:8080/"
        },
        "id": "H86GVUiWPGzs",
        "outputId": "1e050dd2-0e6c-4b5d-d497-41ce47c835d0"
      },
      "execution_count": 23,
      "outputs": [
        {
          "output_type": "stream",
          "name": "stdout",
          "text": [
            "\n",
            "Data telah dibagi menjadi 5620 data train (latih) dan 1405 data test (uji).\n"
          ]
        }
      ]
    },
    {
      "cell_type": "code",
      "source": [
        "from imblearn.over_sampling import SMOTE\n",
        "\n",
        "print(\"Distribusi kelas 'Churn' pada data latih SEBELUM SMOTE:\")\n",
        "print(y_train.value_counts())\n",
        "\n",
        "smote = SMOTE(random_state=42)\n",
        "# Terapkan SMOTE HANYA pada data latih\n",
        "X_train_resampled, y_train_resampled = smote.fit_resample(X_train, y_train)\n",
        "\n",
        "print(\"\\nDistribusi kelas 'Churn' pada data latih SETELAH SMOTE:\")\n",
        "print(y_train_resampled.value_counts())\n"
      ],
      "metadata": {
        "colab": {
          "base_uri": "https://localhost:8080/"
        },
        "id": "GZ0DlwVNh53a",
        "outputId": "ede57e8d-edf7-4d8c-d56e-d8a1f2aac64b"
      },
      "execution_count": 24,
      "outputs": [
        {
          "output_type": "stream",
          "name": "stdout",
          "text": [
            "Distribusi kelas 'Churn' pada data latih SEBELUM SMOTE:\n",
            "Churn\n",
            "0    4126\n",
            "1    1494\n",
            "Name: count, dtype: int64\n",
            "\n",
            "Distribusi kelas 'Churn' pada data latih SETELAH SMOTE:\n",
            "Churn\n",
            "0    4126\n",
            "1    4126\n",
            "Name: count, dtype: int64\n"
          ]
        }
      ]
    },
    {
      "cell_type": "markdown",
      "source": [
        "Bangun dan Latih Model :)\n",
        "\n"
      ],
      "metadata": {
        "id": "RfsiESriW1CZ"
      }
    },
    {
      "cell_type": "code",
      "source": [
        "# 1. Model Decision Tree\n",
        "model_dt = DecisionTreeClassifier(random_state=42)\n",
        "model_dt.fit(X_train_resampled, y_train_resampled)\n",
        "print(\"1. Model Decision Tree berhasil dilatih.\")\n",
        "\n",
        "# 2. Model Random Forest\n",
        "model_rf = RandomForestClassifier(random_state=42, n_estimators=100)\n",
        "model_rf.fit(X_train_resampled, y_train_resampled)\n",
        "print(\"2. Model Random Forest berhasil dilatih.\")\n",
        "\n",
        "# 3. Model LightGBM\n",
        "model_lgbm = LGBMClassifier(random_state=42)\n",
        "model_lgbm.fit(X_train_resampled, y_train_resampled)\n",
        "print(\"3. Model LightGBM berhasil dilatih.\")"
      ],
      "metadata": {
        "colab": {
          "base_uri": "https://localhost:8080/"
        },
        "id": "KUuBZtPkiD7t",
        "outputId": "b1199c86-73fa-470c-db51-a883fd2c4bb8"
      },
      "execution_count": 25,
      "outputs": [
        {
          "output_type": "stream",
          "name": "stdout",
          "text": [
            "1. Model Decision Tree berhasil dilatih.\n",
            "2. Model Random Forest berhasil dilatih.\n",
            "[LightGBM] [Warning] Found whitespace in feature_names, replace with underlines\n",
            "[LightGBM] [Info] Number of positive: 4126, number of negative: 4126\n",
            "[LightGBM] [Info] Auto-choosing row-wise multi-threading, the overhead of testing was 0.002965 seconds.\n",
            "You can set `force_row_wise=true` to remove the overhead.\n",
            "And if memory is not enough, you can set `force_col_wise=true`.\n",
            "[LightGBM] [Info] Total Bins 819\n",
            "[LightGBM] [Info] Number of data points in the train set: 8252, number of used features: 30\n",
            "[LightGBM] [Info] [binary:BoostFromScore]: pavg=0.500000 -> initscore=0.000000\n",
            "3. Model LightGBM berhasil dilatih.\n"
          ]
        }
      ]
    },
    {
      "cell_type": "code",
      "source": [
        "target_accuracy = 0.70\n",
        "models = {\n",
        "    \"Decision Tree\": model_dt,\n",
        "    \"Random Forest\": model_rf,\n",
        "    \"LightGBM\": model_lgbm\n",
        "}\n",
        "results = {}\n",
        "\n",
        "# Looping untuk evaluasi setiap model\n",
        "for name, model in models.items():\n",
        "    print(f\"\\n===== EVALUASI MODEL: {name.upper()} =====\")\n",
        "\n",
        "    # Lakukan prediksi pada data uji ASLI (X_test)\n",
        "    y_pred = model.predict(X_test)\n",
        "\n",
        "    # Hitung akurasi\n",
        "    accuracy = accuracy_score(y_test, y_pred)\n",
        "    results[name] = accuracy\n",
        "    print(f\"Akurasi: {accuracy:.2%}\")\n",
        "\n",
        "    # Cek metrik kesuksesan\n",
        "    if accuracy > target_accuracy:\n",
        "        print(\"Status: Target akurasi TERPENUHI.\")\n",
        "    else:\n",
        "        print(\"Status: Target akurasi TIDAK TERPENUHI.\")\n",
        "\n",
        "    # Tampilkan laporan klasifikasi\n",
        "    print(\"\\nLaporan Klasifikasi:\")\n",
        "    print(classification_report(y_test, y_pred, target_names=['Tidak Churn', 'Churn']))\n",
        "\n",
        "    # Tampilkan confusion matrix\n",
        "    cm = confusion_matrix(y_test, y_pred)\n",
        "    disp = ConfusionMatrixDisplay(confusion_matrix=cm, display_labels=['Tidak Churn', 'Churn'])\n",
        "    disp.plot(cmap=plt.cm.Blues if name == \"Decision Tree\" else plt.cm.Greens if name == \"Random Forest\" else plt.cm.Purples)\n",
        "    plt.title(f\"Confusion Matrix - {name}\")\n",
        "    plt.show()"
      ],
      "metadata": {
        "colab": {
          "base_uri": "https://localhost:8080/",
          "height": 1000
        },
        "id": "rVPyq8N3iO66",
        "outputId": "b8e97fe4-8ef6-4314-eb56-d67574415d52"
      },
      "execution_count": 26,
      "outputs": [
        {
          "output_type": "stream",
          "name": "stdout",
          "text": [
            "\n",
            "===== EVALUASI MODEL: DECISION TREE =====\n",
            "Akurasi: 70.39%\n",
            "Status: Target akurasi TERPENUHI.\n",
            "\n",
            "Laporan Klasifikasi:\n",
            "              precision    recall  f1-score   support\n",
            "\n",
            " Tidak Churn       0.82      0.76      0.79      1031\n",
            "       Churn       0.45      0.55      0.50       374\n",
            "\n",
            "    accuracy                           0.70      1405\n",
            "   macro avg       0.64      0.66      0.64      1405\n",
            "weighted avg       0.72      0.70      0.71      1405\n",
            "\n"
          ]
        },
        {
          "output_type": "display_data",
          "data": {
            "text/plain": [
              "<Figure size 640x480 with 2 Axes>"
            ],
            "image/png": "[encoded data removed]"
          },
          "metadata": {}
        },
        {
          "output_type": "stream",
          "name": "stdout",
          "text": [
            "\n",
            "===== EVALUASI MODEL: RANDOM FOREST =====\n",
            "Akurasi: 76.94%\n",
            "Status: Target akurasi TERPENUHI.\n",
            "\n",
            "Laporan Klasifikasi:\n",
            "              precision    recall  f1-score   support\n",
            "\n",
            " Tidak Churn       0.85      0.84      0.84      1031\n",
            "       Churn       0.57      0.58      0.57       374\n",
            "\n",
            "    accuracy                           0.77      1405\n",
            "   macro avg       0.71      0.71      0.71      1405\n",
            "weighted avg       0.77      0.77      0.77      1405\n",
            "\n"
          ]
        },
        {
          "output_type": "display_data",
          "data": {
            "text/plain": [
              "<Figure size 640x480 with 2 Axes>"
            ],
            "image/png": "[encoded data removed]"
          },
          "metadata": {}
        },
        {
          "output_type": "stream",
          "name": "stdout",
          "text": [
            "\n",
            "===== EVALUASI MODEL: LIGHTGBM =====\n",
            "Akurasi: 77.15%\n",
            "Status: Target akurasi TERPENUHI.\n",
            "\n",
            "Laporan Klasifikasi:\n",
            "              precision    recall  f1-score   support\n",
            "\n",
            " Tidak Churn       0.86      0.83      0.84      1031\n",
            "       Churn       0.56      0.62      0.59       374\n",
            "\n",
            "    accuracy                           0.77      1405\n",
            "   macro avg       0.71      0.72      0.72      1405\n",
            "weighted avg       0.78      0.77      0.77      1405\n",
            "\n"
          ]
        },
        {
          "output_type": "display_data",
          "data": {
            "text/plain": [
              "<Figure size 640x480 with 2 Axes>"
            ],
            "image/png": "[encoded data removed]"
          },
          "metadata": {}
        }
      ]
    },
    {
      "cell_type": "code",
      "source": [
        "# Membuat Tabel Perbandingan Akhir\n",
        "df_results = pd.DataFrame(list(results.items()), columns=['Model', 'Akurasi']).sort_values('Akurasi', ascending=False)\n",
        "print(\"\\n\\n===== TABEL PERBANDINGAN AKURASI AKHIR =====\")\n",
        "print(df_results)"
      ],
      "metadata": {
        "colab": {
          "base_uri": "https://localhost:8080/"
        },
        "id": "UPtnbj8tiSFs",
        "outputId": "db8d8d65-dd66-4ffe-aaff-a61cb9957c71"
      },
      "execution_count": 27,
      "outputs": [
        {
          "output_type": "stream",
          "name": "stdout",
          "text": [
            "\n",
            "\n",
            "===== TABEL PERBANDINGAN AKURASI AKHIR =====\n",
            "           Model   Akurasi\n",
            "2       LightGBM  0.771530\n",
            "1  Random Forest  0.769395\n",
            "0  Decision Tree  0.703915\n"
          ]
        }
      ]
    },
    {
      "cell_type": "code",
      "source": [
        "print(\"\\n--- MEMULAI HYPERPARAMETER TUNING PADA DATA YANG SUDAH DI-SMOTE ---\")\n",
        "# Catatan: Proses ini mungkin akan memakan waktu beberapa menit, tergantung spesifikasi komputer Anda.\n",
        "\n",
        "# --- 1. Definisikan Parameter Grid untuk Setiap Model ---\n",
        "param_grid_dt = {\n",
        "    'criterion': ['gini', 'entropy'],\n",
        "    'max_depth': [5, 10, None],\n",
        "    'min_samples_leaf': [2, 5, 10]\n",
        "}\n",
        "\n",
        "param_grid_rf = {\n",
        "    'n_estimators': [100, 200],\n",
        "    'max_depth': [10, 20],\n",
        "    'min_samples_leaf': [2, 5]\n",
        "}\n",
        "\n",
        "param_grid_lgbm = {\n",
        "    'n_estimators': [100, 200],\n",
        "    'learning_rate': [0.05, 0.1],\n",
        "    'num_leaves': [31, 40]\n",
        "}\n",
        "\n",
        "# --- 2. Siapkan Proses Tuning dengan GridSearchCV ---\n",
        "# Decision Tree\n",
        "grid_search_dt = GridSearchCV(estimator=DecisionTreeClassifier(random_state=42),\n",
        "                              param_grid=param_grid_dt, cv=3, n_jobs=-1, scoring='accuracy')\n",
        "\n",
        "# Random Forest\n",
        "grid_search_rf = GridSearchCV(estimator=RandomForestClassifier(random_state=42),\n",
        "                              param_grid=param_grid_rf, cv=3, n_jobs=-1, scoring='accuracy')\n",
        "\n",
        "# LightGBM\n",
        "grid_search_lgbm = GridSearchCV(estimator=LGBMClassifier(random_state=42),\n",
        "                                param_grid=param_grid_lgbm, cv=3, n_jobs=-1, scoring='accuracy')\n",
        "\n",
        "# --- 3. Latih Setiap Proses Tuning ---\n",
        "print(\"1. Menjalankan Tuning untuk Decision Tree...\")\n",
        "grid_search_dt.fit(X_train_resampled, y_train_resampled)\n",
        "model_dt_tuned = grid_search_dt.best_estimator_\n",
        "print(f\"   -> Parameter terbaik ditemukan: {grid_search_dt.best_params_}\")\n",
        "\n",
        "print(\"\\n2. Menjalankan Tuning untuk Random Forest...\")\n",
        "grid_search_rf.fit(X_train_resampled, y_train_resampled)\n",
        "model_rf_tuned = grid_search_rf.best_estimator_\n",
        "print(f\"   -> Parameter terbaik ditemukan: {grid_search_rf.best_params_}\")\n",
        "\n",
        "print(\"\\n3. Menjalankan Tuning untuk LightGBM...\")\n",
        "grid_search_lgbm.fit(X_train_resampled, y_train_resampled)\n",
        "model_lgbm_tuned = grid_search_lgbm.best_estimator_\n",
        "print(f\"   -> Parameter terbaik ditemukan: {grid_search_lgbm.best_params_}\")\n",
        "\n"
      ],
      "metadata": {
        "colab": {
          "base_uri": "https://localhost:8080/"
        },
        "id": "pJaduFk-iV2H",
        "outputId": "66120848-6822-46e2-c1e9-6d423f37c761"
      },
      "execution_count": 29,
      "outputs": [
        {
          "output_type": "stream",
          "name": "stdout",
          "text": [
            "\n",
            "--- MEMULAI HYPERPARAMETER TUNING PADA DATA YANG SUDAH DI-SMOTE ---\n",
            "1. Menjalankan Tuning untuk Decision Tree...\n",
            "   -> Parameter terbaik ditemukan: {'criterion': 'gini', 'max_depth': 10, 'min_samples_leaf': 2}\n",
            "\n",
            "2. Menjalankan Tuning untuk Random Forest...\n",
            "   -> Parameter terbaik ditemukan: {'max_depth': 20, 'min_samples_leaf': 2, 'n_estimators': 200}\n",
            "\n",
            "3. Menjalankan Tuning untuk LightGBM...\n",
            "[LightGBM] [Warning] Found whitespace in feature_names, replace with underlines\n",
            "[LightGBM] [Info] Number of positive: 4126, number of negative: 4126\n",
            "[LightGBM] [Info] Auto-choosing row-wise multi-threading, the overhead of testing was 0.002662 seconds.\n",
            "You can set `force_row_wise=true` to remove the overhead.\n",
            "And if memory is not enough, you can set `force_col_wise=true`.\n",
            "[LightGBM] [Info] Total Bins 819\n",
            "[LightGBM] [Info] Number of data points in the train set: 8252, number of used features: 30\n",
            "[LightGBM] [Info] [binary:BoostFromScore]: pavg=0.500000 -> initscore=0.000000\n",
            "   -> Parameter terbaik ditemukan: {'learning_rate': 0.1, 'n_estimators': 200, 'num_leaves': 40}\n"
          ]
        }
      ]
    },
    {
      "cell_type": "code",
      "source": [
        "# Kumpulkan model terbaik setelah di-tuning\n",
        "tuned_models = {\n",
        "    \"Decision Tree (SMOTE+Tuned)\": model_dt_tuned,\n",
        "    \"Random Forest (SMOTE+Tuned)\": model_rf_tuned,\n",
        "    \"LightGBM (SMOTE+Tuned)\": model_lgbm_tuned\n",
        "}\n",
        "tuned_results = {}\n",
        "\n",
        "# Looping untuk evaluasi setiap model yang sudah di-tuning\n",
        "for name, model in tuned_models.items():\n",
        "    y_pred = model.predict(X_test) # Evaluasi pada data uji asli\n",
        "    accuracy = accuracy_score(y_test, y_pred)\n",
        "    tuned_results[name] = accuracy\n",
        "\n",
        "    print(f\"\\n===== EVALUASI MODEL: {name.upper()} =====\")\n",
        "    print(f\"Akurasi: {accuracy:.2%}\")\n",
        "    print(\"\\nLaporan Klasifikasi:\")\n",
        "    print(classification_report(y_test, y_pred, target_names=['Tidak Churn', 'Churn']))\n",
        "\n",
        "# Membuat Tabel Perbandingan Final\n",
        "df_tuned_results = pd.DataFrame(list(tuned_results.items()), columns=['Model', 'Akurasi']).sort_values('Akurasi', ascending=False)\n",
        "print(\"\\n\\n===== TABEL PERBANDINGAN AKURASI FINAL (SETELAH SMOTE + TUNING) =====\")\n",
        "print(df_tuned_results)"
      ],
      "metadata": {
        "colab": {
          "base_uri": "https://localhost:8080/"
        },
        "id": "ul4dbmbEllT0",
        "outputId": "e6f0641e-8371-41ec-e1bd-b92e256d33fc"
      },
      "execution_count": 30,
      "outputs": [
        {
          "output_type": "stream",
          "name": "stdout",
          "text": [
            "\n",
            "===== EVALUASI MODEL: DECISION TREE (SMOTE+TUNED) =====\n",
            "Akurasi: 73.52%\n",
            "\n",
            "Laporan Klasifikasi:\n",
            "              precision    recall  f1-score   support\n",
            "\n",
            " Tidak Churn       0.84      0.78      0.81      1031\n",
            "       Churn       0.50      0.60      0.55       374\n",
            "\n",
            "    accuracy                           0.74      1405\n",
            "   macro avg       0.67      0.69      0.68      1405\n",
            "weighted avg       0.75      0.74      0.74      1405\n",
            "\n",
            "\n",
            "===== EVALUASI MODEL: RANDOM FOREST (SMOTE+TUNED) =====\n",
            "Akurasi: 77.30%\n",
            "\n",
            "Laporan Klasifikasi:\n",
            "              precision    recall  f1-score   support\n",
            "\n",
            " Tidak Churn       0.86      0.82      0.84      1031\n",
            "       Churn       0.56      0.64      0.60       374\n",
            "\n",
            "    accuracy                           0.77      1405\n",
            "   macro avg       0.71      0.73      0.72      1405\n",
            "weighted avg       0.78      0.77      0.78      1405\n",
            "\n",
            "\n",
            "===== EVALUASI MODEL: LIGHTGBM (SMOTE+TUNED) =====\n",
            "Akurasi: 77.44%\n",
            "\n",
            "Laporan Klasifikasi:\n",
            "              precision    recall  f1-score   support\n",
            "\n",
            " Tidak Churn       0.85      0.84      0.85      1031\n",
            "       Churn       0.57      0.60      0.58       374\n",
            "\n",
            "    accuracy                           0.77      1405\n",
            "   macro avg       0.71      0.72      0.71      1405\n",
            "weighted avg       0.78      0.77      0.78      1405\n",
            "\n",
            "\n",
            "\n",
            "===== TABEL PERBANDINGAN AKURASI FINAL (SETELAH SMOTE + TUNING) =====\n",
            "                         Model   Akurasi\n",
            "2       LightGBM (SMOTE+Tuned)  0.774377\n",
            "1  Random Forest (SMOTE+Tuned)  0.772954\n",
            "0  Decision Tree (SMOTE+Tuned)  0.735231\n"
          ]
        }
      ]
    },
    {
      "cell_type": "code",
      "source": [],
      "metadata": {
        "id": "MonSmy69lmNN"
      },
      "execution_count": null,
      "outputs": []
    }
  ]
}